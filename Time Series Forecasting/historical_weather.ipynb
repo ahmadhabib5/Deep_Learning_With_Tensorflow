{
 "cells": [
  {
   "cell_type": "code",
   "execution_count": 1,
   "metadata": {
    "colab": {
     "base_uri": "https://localhost:8080/"
    },
    "executionInfo": {
     "elapsed": 5946,
     "status": "ok",
     "timestamp": 1632859443959,
     "user": {
      "displayName": "Ahmad Habib",
      "photoUrl": "https://lh3.googleusercontent.com/a-/AOh14GhO4o_fO723EBzG9aZH_2E2uBHOgS6-H2XcOb3hrQ=s64",
      "userId": "07615486812975318675"
     },
     "user_tz": -420
    },
    "id": "1_6acCDgB46-",
    "outputId": "70083067-d5bf-4109-d2e7-3bde0ce0faa9"
   },
   "outputs": [
    {
     "name": "stdout",
     "output_type": "stream",
     "text": [
      "Collecting wget\n",
      "  Downloading wget-3.2.zip (10 kB)\n",
      "Building wheels for collected packages: wget\n",
      "  Building wheel for wget (setup.py) ... \u001b[?25l\u001b[?25hdone\n",
      "  Created wheel for wget: filename=wget-3.2-py3-none-any.whl size=9672 sha256=680b87e3fb2bd01d58e25ee5a8524bcc36d567d57d8b502c2d6d83e01aeb982b\n",
      "  Stored in directory: /root/.cache/pip/wheels/a1/b6/7c/0e63e34eb06634181c63adacca38b79ff8f35c37e3c13e3c02\n",
      "Successfully built wget\n",
      "Installing collected packages: wget\n",
      "Successfully installed wget-3.2\n"
     ]
    }
   ],
   "source": [
    "!pip install wget"
   ]
  },
  {
   "cell_type": "code",
   "execution_count": 2,
   "metadata": {
    "executionInfo": {
     "elapsed": 2618,
     "status": "ok",
     "timestamp": 1632859446567,
     "user": {
      "displayName": "Ahmad Habib",
      "photoUrl": "https://lh3.googleusercontent.com/a-/AOh14GhO4o_fO723EBzG9aZH_2E2uBHOgS6-H2XcOb3hrQ=s64",
      "userId": "07615486812975318675"
     },
     "user_tz": -420
    },
    "id": "HfoRw-IWCVVN"
   },
   "outputs": [],
   "source": [
    "import tensorflow as tf\n",
    "from tensorflow import keras\n",
    "import numpy as np\n",
    "import pandas as pd\n",
    "import matplotlib.pyplot as plt\n",
    "import seaborn as sns\n",
    "import zipfile\n",
    "from tqdm import tqdm\n",
    "import os\n",
    "import wget\n",
    "import requests"
   ]
  },
  {
   "cell_type": "markdown",
   "metadata": {
    "id": "F2n4QjLh3sJQ"
   },
   "source": [
    "sumber = https://www.kaggle.com/cornflake15/denpasarbalihistoricalweatherdata <br>\n",
    "### **Context**\n",
    "\n",
    "This is historical weather data of Denpasar, Bali, Indonesia. <br>\n",
    "### **Content**\n",
    "\n",
    "Contains weather data from Januari 1st, 1990 until Januari 7th 2020 (20 years, hourly)<br>"
   ]
  },
  {
   "cell_type": "code",
   "execution_count": 3,
   "metadata": {
    "colab": {
     "base_uri": "https://localhost:8080/"
    },
    "executionInfo": {
     "elapsed": 3565,
     "status": "ok",
     "timestamp": 1632859450118,
     "user": {
      "displayName": "Ahmad Habib",
      "photoUrl": "https://lh3.googleusercontent.com/a-/AOh14GhO4o_fO723EBzG9aZH_2E2uBHOgS6-H2XcOb3hrQ=s64",
      "userId": "07615486812975318675"
     },
     "user_tz": -420
    },
    "id": "R0IHV45fLU5_",
    "outputId": "ce53df4a-356a-44ef-d887-8bf10ac4a187"
   },
   "outputs": [
    {
     "name": "stdout",
     "output_type": "stream",
     "text": [
      "\n",
      "Download Selesai\n"
     ]
    }
   ],
   "source": [
    "if os.path.isfile('archive.zip'):\n",
    "    print(\"File Sudah ada\")\n",
    "else:\n",
    "    wget.download(\n",
    "        url='https://drive.google.com/uc?export=download&id=1_Q7AFxTbytUh_4HFjUWtUTDPjWtkQt90'\n",
    "    )\n",
    "    print(\"\\nDownload Selesai\")"
   ]
  },
  {
   "cell_type": "code",
   "execution_count": 4,
   "metadata": {
    "colab": {
     "base_uri": "https://localhost:8080/"
    },
    "executionInfo": {
     "elapsed": 574,
     "status": "ok",
     "timestamp": 1632859450677,
     "user": {
      "displayName": "Ahmad Habib",
      "photoUrl": "https://lh3.googleusercontent.com/a-/AOh14GhO4o_fO723EBzG9aZH_2E2uBHOgS6-H2XcOb3hrQ=s64",
      "userId": "07615486812975318675"
     },
     "user_tz": -420
    },
    "id": "c1EIYIt5ROQf",
    "outputId": "3d3ddd94-5cb1-4e17-bfaa-5a7d77ac6692"
   },
   "outputs": [
    {
     "name": "stderr",
     "output_type": "stream",
     "text": [
      "Extracting: 100%|██████████| 2/2 [00:00<00:00,  4.74it/s]\n"
     ]
    }
   ],
   "source": [
    "with zipfile.ZipFile('archive.zip', mode='r') as zip_file:\n",
    "    for zf in tqdm(zip_file.infolist(), desc=\"Extracting\"):\n",
    "        try:\n",
    "            zip_file.extract(zf)                \n",
    "        except Exception as e:\n",
    "            print(e)\n",
    "zip_file.close()"
   ]
  },
  {
   "cell_type": "code",
   "execution_count": 5,
   "metadata": {
    "colab": {
     "base_uri": "https://localhost:8080/",
     "height": 487
    },
    "executionInfo": {
     "elapsed": 406,
     "status": "ok",
     "timestamp": 1632859451077,
     "user": {
      "displayName": "Ahmad Habib",
      "photoUrl": "https://lh3.googleusercontent.com/a-/AOh14GhO4o_fO723EBzG9aZH_2E2uBHOgS6-H2XcOb3hrQ=s64",
      "userId": "07615486812975318675"
     },
     "user_tz": -420
    },
    "id": "HKTB4tw-RQMK",
    "outputId": "e1c37aa1-4abf-46c4-c256-b0fa5282d6bd"
   },
   "outputs": [
    {
     "data": {
      "text/html": [
       "<div>\n",
       "<style scoped>\n",
       "    .dataframe tbody tr th:only-of-type {\n",
       "        vertical-align: middle;\n",
       "    }\n",
       "\n",
       "    .dataframe tbody tr th {\n",
       "        vertical-align: top;\n",
       "    }\n",
       "\n",
       "    .dataframe thead th {\n",
       "        text-align: right;\n",
       "    }\n",
       "</style>\n",
       "<table border=\"1\" class=\"dataframe\">\n",
       "  <thead>\n",
       "    <tr style=\"text-align: right;\">\n",
       "      <th></th>\n",
       "      <th>dt</th>\n",
       "      <th>dt_iso</th>\n",
       "      <th>timezone</th>\n",
       "      <th>city_name</th>\n",
       "      <th>lat</th>\n",
       "      <th>lon</th>\n",
       "      <th>temp</th>\n",
       "      <th>temp_min</th>\n",
       "      <th>temp_max</th>\n",
       "      <th>pressure</th>\n",
       "      <th>sea_level</th>\n",
       "      <th>grnd_level</th>\n",
       "      <th>humidity</th>\n",
       "      <th>wind_speed</th>\n",
       "      <th>wind_deg</th>\n",
       "      <th>rain_1h</th>\n",
       "      <th>rain_3h</th>\n",
       "      <th>rain_6h</th>\n",
       "      <th>rain_12h</th>\n",
       "      <th>rain_24h</th>\n",
       "      <th>rain_today</th>\n",
       "      <th>snow_1h</th>\n",
       "      <th>snow_3h</th>\n",
       "      <th>snow_6h</th>\n",
       "      <th>snow_12h</th>\n",
       "      <th>snow_24h</th>\n",
       "      <th>snow_today</th>\n",
       "      <th>clouds_all</th>\n",
       "      <th>weather_id</th>\n",
       "      <th>weather_main</th>\n",
       "      <th>weather_description</th>\n",
       "      <th>weather_icon</th>\n",
       "    </tr>\n",
       "  </thead>\n",
       "  <tbody>\n",
       "    <tr>\n",
       "      <th>0</th>\n",
       "      <td>631152000</td>\n",
       "      <td>1990-01-01 00:00:00 +0000 UTC</td>\n",
       "      <td>28800</td>\n",
       "      <td>Denpasar</td>\n",
       "      <td>-8.652497</td>\n",
       "      <td>115.219117</td>\n",
       "      <td>25.82</td>\n",
       "      <td>25.82</td>\n",
       "      <td>25.82</td>\n",
       "      <td>1010.0</td>\n",
       "      <td>NaN</td>\n",
       "      <td>NaN</td>\n",
       "      <td>86</td>\n",
       "      <td>1.36</td>\n",
       "      <td>225</td>\n",
       "      <td>0.49</td>\n",
       "      <td>NaN</td>\n",
       "      <td>NaN</td>\n",
       "      <td>NaN</td>\n",
       "      <td>NaN</td>\n",
       "      <td>NaN</td>\n",
       "      <td>NaN</td>\n",
       "      <td>NaN</td>\n",
       "      <td>NaN</td>\n",
       "      <td>NaN</td>\n",
       "      <td>NaN</td>\n",
       "      <td>NaN</td>\n",
       "      <td>98</td>\n",
       "      <td>500</td>\n",
       "      <td>Rain</td>\n",
       "      <td>light rain</td>\n",
       "      <td>10d</td>\n",
       "    </tr>\n",
       "    <tr>\n",
       "      <th>1</th>\n",
       "      <td>631155600</td>\n",
       "      <td>1990-01-01 01:00:00 +0000 UTC</td>\n",
       "      <td>28800</td>\n",
       "      <td>Denpasar</td>\n",
       "      <td>-8.652497</td>\n",
       "      <td>115.219117</td>\n",
       "      <td>26.20</td>\n",
       "      <td>26.20</td>\n",
       "      <td>26.20</td>\n",
       "      <td>1011.0</td>\n",
       "      <td>NaN</td>\n",
       "      <td>NaN</td>\n",
       "      <td>84</td>\n",
       "      <td>2.09</td>\n",
       "      <td>247</td>\n",
       "      <td>0.13</td>\n",
       "      <td>NaN</td>\n",
       "      <td>NaN</td>\n",
       "      <td>NaN</td>\n",
       "      <td>NaN</td>\n",
       "      <td>NaN</td>\n",
       "      <td>NaN</td>\n",
       "      <td>NaN</td>\n",
       "      <td>NaN</td>\n",
       "      <td>NaN</td>\n",
       "      <td>NaN</td>\n",
       "      <td>NaN</td>\n",
       "      <td>91</td>\n",
       "      <td>500</td>\n",
       "      <td>Rain</td>\n",
       "      <td>light rain</td>\n",
       "      <td>10d</td>\n",
       "    </tr>\n",
       "    <tr>\n",
       "      <th>2</th>\n",
       "      <td>631159200</td>\n",
       "      <td>1990-01-01 02:00:00 +0000 UTC</td>\n",
       "      <td>28800</td>\n",
       "      <td>Denpasar</td>\n",
       "      <td>-8.652497</td>\n",
       "      <td>115.219117</td>\n",
       "      <td>26.45</td>\n",
       "      <td>26.45</td>\n",
       "      <td>26.45</td>\n",
       "      <td>1011.0</td>\n",
       "      <td>NaN</td>\n",
       "      <td>NaN</td>\n",
       "      <td>84</td>\n",
       "      <td>2.44</td>\n",
       "      <td>262</td>\n",
       "      <td>0.24</td>\n",
       "      <td>NaN</td>\n",
       "      <td>NaN</td>\n",
       "      <td>NaN</td>\n",
       "      <td>NaN</td>\n",
       "      <td>NaN</td>\n",
       "      <td>NaN</td>\n",
       "      <td>NaN</td>\n",
       "      <td>NaN</td>\n",
       "      <td>NaN</td>\n",
       "      <td>NaN</td>\n",
       "      <td>NaN</td>\n",
       "      <td>94</td>\n",
       "      <td>500</td>\n",
       "      <td>Rain</td>\n",
       "      <td>light rain</td>\n",
       "      <td>10d</td>\n",
       "    </tr>\n",
       "    <tr>\n",
       "      <th>3</th>\n",
       "      <td>631162800</td>\n",
       "      <td>1990-01-01 03:00:00 +0000 UTC</td>\n",
       "      <td>28800</td>\n",
       "      <td>Denpasar</td>\n",
       "      <td>-8.652497</td>\n",
       "      <td>115.219117</td>\n",
       "      <td>26.80</td>\n",
       "      <td>26.80</td>\n",
       "      <td>26.80</td>\n",
       "      <td>1011.0</td>\n",
       "      <td>NaN</td>\n",
       "      <td>NaN</td>\n",
       "      <td>82</td>\n",
       "      <td>2.29</td>\n",
       "      <td>271</td>\n",
       "      <td>0.23</td>\n",
       "      <td>NaN</td>\n",
       "      <td>NaN</td>\n",
       "      <td>NaN</td>\n",
       "      <td>NaN</td>\n",
       "      <td>NaN</td>\n",
       "      <td>NaN</td>\n",
       "      <td>NaN</td>\n",
       "      <td>NaN</td>\n",
       "      <td>NaN</td>\n",
       "      <td>NaN</td>\n",
       "      <td>NaN</td>\n",
       "      <td>94</td>\n",
       "      <td>500</td>\n",
       "      <td>Rain</td>\n",
       "      <td>light rain</td>\n",
       "      <td>10d</td>\n",
       "    </tr>\n",
       "    <tr>\n",
       "      <th>4</th>\n",
       "      <td>631166400</td>\n",
       "      <td>1990-01-01 04:00:00 +0000 UTC</td>\n",
       "      <td>28800</td>\n",
       "      <td>Denpasar</td>\n",
       "      <td>-8.652497</td>\n",
       "      <td>115.219117</td>\n",
       "      <td>27.04</td>\n",
       "      <td>27.04</td>\n",
       "      <td>27.04</td>\n",
       "      <td>1010.0</td>\n",
       "      <td>NaN</td>\n",
       "      <td>NaN</td>\n",
       "      <td>82</td>\n",
       "      <td>1.71</td>\n",
       "      <td>274</td>\n",
       "      <td>NaN</td>\n",
       "      <td>NaN</td>\n",
       "      <td>NaN</td>\n",
       "      <td>NaN</td>\n",
       "      <td>NaN</td>\n",
       "      <td>NaN</td>\n",
       "      <td>NaN</td>\n",
       "      <td>NaN</td>\n",
       "      <td>NaN</td>\n",
       "      <td>NaN</td>\n",
       "      <td>NaN</td>\n",
       "      <td>NaN</td>\n",
       "      <td>76</td>\n",
       "      <td>803</td>\n",
       "      <td>Clouds</td>\n",
       "      <td>broken clouds</td>\n",
       "      <td>04d</td>\n",
       "    </tr>\n",
       "  </tbody>\n",
       "</table>\n",
       "</div>"
      ],
      "text/plain": [
       "          dt                         dt_iso  ...  weather_description weather_icon\n",
       "0  631152000  1990-01-01 00:00:00 +0000 UTC  ...           light rain          10d\n",
       "1  631155600  1990-01-01 01:00:00 +0000 UTC  ...           light rain          10d\n",
       "2  631159200  1990-01-01 02:00:00 +0000 UTC  ...           light rain          10d\n",
       "3  631162800  1990-01-01 03:00:00 +0000 UTC  ...           light rain          10d\n",
       "4  631166400  1990-01-01 04:00:00 +0000 UTC  ...        broken clouds          04d\n",
       "\n",
       "[5 rows x 32 columns]"
      ]
     },
     "execution_count": 5,
     "metadata": {},
     "output_type": "execute_result"
    }
   ],
   "source": [
    "df = pd.read_csv('/content/openweatherdata-denpasar-1990-2020.csv', parse_dates=['dt_iso'])\n",
    "df.head()"
   ]
  },
  {
   "cell_type": "code",
   "execution_count": 6,
   "metadata": {
    "colab": {
     "base_uri": "https://localhost:8080/"
    },
    "executionInfo": {
     "elapsed": 576,
     "status": "ok",
     "timestamp": 1632859451646,
     "user": {
      "displayName": "Ahmad Habib",
      "photoUrl": "https://lh3.googleusercontent.com/a-/AOh14GhO4o_fO723EBzG9aZH_2E2uBHOgS6-H2XcOb3hrQ=s64",
      "userId": "07615486812975318675"
     },
     "user_tz": -420
    },
    "id": "mdZ-2zEWRXFp",
    "outputId": "31903b24-0a31-4746-c352-32f0eb614ac1"
   },
   "outputs": [
    {
     "name": "stdout",
     "output_type": "stream",
     "text": [
      "<class 'pandas.core.frame.DataFrame'>\n",
      "RangeIndex: 264924 entries, 0 to 264923\n",
      "Data columns (total 32 columns):\n",
      " #   Column               Non-Null Count   Dtype  \n",
      "---  ------               --------------   -----  \n",
      " 0   dt                   264924 non-null  int64  \n",
      " 1   dt_iso               264924 non-null  object \n",
      " 2   timezone             264924 non-null  int64  \n",
      " 3   city_name            264924 non-null  object \n",
      " 4   lat                  264924 non-null  float64\n",
      " 5   lon                  264924 non-null  float64\n",
      " 6   temp                 264924 non-null  float64\n",
      " 7   temp_min             264924 non-null  float64\n",
      " 8   temp_max             264924 non-null  float64\n",
      " 9   pressure             264924 non-null  float64\n",
      " 10  sea_level            0 non-null       float64\n",
      " 11  grnd_level           0 non-null       float64\n",
      " 12  humidity             264924 non-null  int64  \n",
      " 13  wind_speed           264924 non-null  float64\n",
      " 14  wind_deg             264924 non-null  int64  \n",
      " 15  rain_1h              16286 non-null   float64\n",
      " 16  rain_3h              16156 non-null   float64\n",
      " 17  rain_6h              36098 non-null   float64\n",
      " 18  rain_12h             12 non-null      float64\n",
      " 19  rain_24h             6817 non-null    float64\n",
      " 20  rain_today           0 non-null       float64\n",
      " 21  snow_1h              0 non-null       float64\n",
      " 22  snow_3h              0 non-null       float64\n",
      " 23  snow_6h              0 non-null       float64\n",
      " 24  snow_12h             0 non-null       float64\n",
      " 25  snow_24h             0 non-null       float64\n",
      " 26  snow_today           0 non-null       float64\n",
      " 27  clouds_all           264924 non-null  int64  \n",
      " 28  weather_id           264924 non-null  int64  \n",
      " 29  weather_main         264924 non-null  object \n",
      " 30  weather_description  264924 non-null  object \n",
      " 31  weather_icon         264924 non-null  object \n",
      "dtypes: float64(21), int64(6), object(5)\n",
      "memory usage: 64.7+ MB\n"
     ]
    }
   ],
   "source": [
    "df.info()"
   ]
  },
  {
   "cell_type": "code",
   "execution_count": 7,
   "metadata": {
    "colab": {
     "base_uri": "https://localhost:8080/"
    },
    "executionInfo": {
     "elapsed": 24,
     "status": "ok",
     "timestamp": 1632859451647,
     "user": {
      "displayName": "Ahmad Habib",
      "photoUrl": "https://lh3.googleusercontent.com/a-/AOh14GhO4o_fO723EBzG9aZH_2E2uBHOgS6-H2XcOb3hrQ=s64",
      "userId": "07615486812975318675"
     },
     "user_tz": -420
    },
    "id": "Jn2vfXJZReFV",
    "outputId": "32a200fb-13d7-4a60-9843-5604d532a169"
   },
   "outputs": [
    {
     "data": {
      "text/plain": [
       "dt                          0\n",
       "dt_iso                      0\n",
       "timezone                    0\n",
       "city_name                   0\n",
       "lat                         0\n",
       "lon                         0\n",
       "temp                        0\n",
       "temp_min                    0\n",
       "temp_max                    0\n",
       "pressure                    0\n",
       "sea_level              264924\n",
       "grnd_level             264924\n",
       "humidity                    0\n",
       "wind_speed                  0\n",
       "wind_deg                    0\n",
       "rain_1h                248638\n",
       "rain_3h                248768\n",
       "rain_6h                228826\n",
       "rain_12h               264912\n",
       "rain_24h               258107\n",
       "rain_today             264924\n",
       "snow_1h                264924\n",
       "snow_3h                264924\n",
       "snow_6h                264924\n",
       "snow_12h               264924\n",
       "snow_24h               264924\n",
       "snow_today             264924\n",
       "clouds_all                  0\n",
       "weather_id                  0\n",
       "weather_main                0\n",
       "weather_description         0\n",
       "weather_icon                0\n",
       "dtype: int64"
      ]
     },
     "execution_count": 7,
     "metadata": {},
     "output_type": "execute_result"
    }
   ],
   "source": [
    "df.isnull().sum()"
   ]
  },
  {
   "cell_type": "code",
   "execution_count": 8,
   "metadata": {
    "colab": {
     "base_uri": "https://localhost:8080/"
    },
    "executionInfo": {
     "elapsed": 19,
     "status": "ok",
     "timestamp": 1632859451648,
     "user": {
      "displayName": "Ahmad Habib",
      "photoUrl": "https://lh3.googleusercontent.com/a-/AOh14GhO4o_fO723EBzG9aZH_2E2uBHOgS6-H2XcOb3hrQ=s64",
      "userId": "07615486812975318675"
     },
     "user_tz": -420
    },
    "id": "PzdxgJLfXaEA",
    "outputId": "e3e105f9-3967-415a-b93a-dba56d97e64f"
   },
   "outputs": [
    {
     "data": {
      "text/plain": [
       "(264924, 32)"
      ]
     },
     "execution_count": 8,
     "metadata": {},
     "output_type": "execute_result"
    }
   ],
   "source": [
    "df.shape"
   ]
  },
  {
   "cell_type": "code",
   "execution_count": 9,
   "metadata": {
    "colab": {
     "base_uri": "https://localhost:8080/"
    },
    "executionInfo": {
     "elapsed": 17,
     "status": "ok",
     "timestamp": 1632859451649,
     "user": {
      "displayName": "Ahmad Habib",
      "photoUrl": "https://lh3.googleusercontent.com/a-/AOh14GhO4o_fO723EBzG9aZH_2E2uBHOgS6-H2XcOb3hrQ=s64",
      "userId": "07615486812975318675"
     },
     "user_tz": -420
    },
    "id": "9q3AABRwRpZN",
    "outputId": "88420518-9943-4bbe-d600-0c65e7a5e226"
   },
   "outputs": [
    {
     "data": {
      "text/plain": [
       "dt                     0.000000\n",
       "dt_iso                 0.000000\n",
       "timezone               0.000000\n",
       "city_name              0.000000\n",
       "lat                    0.000000\n",
       "lon                    0.000000\n",
       "temp                   0.000000\n",
       "temp_min               0.000000\n",
       "temp_max               0.000000\n",
       "pressure               0.000000\n",
       "sea_level              1.000000\n",
       "grnd_level             1.000000\n",
       "humidity               0.000000\n",
       "wind_speed             0.000000\n",
       "wind_deg               0.000000\n",
       "rain_1h                0.938526\n",
       "rain_3h                0.939016\n",
       "rain_6h                0.863742\n",
       "rain_12h               0.999955\n",
       "rain_24h               0.974268\n",
       "rain_today             1.000000\n",
       "snow_1h                1.000000\n",
       "snow_3h                1.000000\n",
       "snow_6h                1.000000\n",
       "snow_12h               1.000000\n",
       "snow_24h               1.000000\n",
       "snow_today             1.000000\n",
       "clouds_all             0.000000\n",
       "weather_id             0.000000\n",
       "weather_main           0.000000\n",
       "weather_description    0.000000\n",
       "weather_icon           0.000000\n",
       "dtype: float64"
      ]
     },
     "execution_count": 9,
     "metadata": {},
     "output_type": "execute_result"
    }
   ],
   "source": [
    "missing_values_percent = df.isnull().sum()/len(df)\n",
    "missing_values_percent"
   ]
  },
  {
   "cell_type": "code",
   "execution_count": 10,
   "metadata": {
    "colab": {
     "base_uri": "https://localhost:8080/",
     "height": 488
    },
    "executionInfo": {
     "elapsed": 16,
     "status": "ok",
     "timestamp": 1632859451650,
     "user": {
      "displayName": "Ahmad Habib",
      "photoUrl": "https://lh3.googleusercontent.com/a-/AOh14GhO4o_fO723EBzG9aZH_2E2uBHOgS6-H2XcOb3hrQ=s64",
      "userId": "07615486812975318675"
     },
     "user_tz": -420
    },
    "id": "DYy2gS2CXxYz",
    "outputId": "9d8404aa-dd67-4116-b84a-ddb39bcc6552"
   },
   "outputs": [
    {
     "data": {
      "text/html": [
       "<div>\n",
       "<style scoped>\n",
       "    .dataframe tbody tr th:only-of-type {\n",
       "        vertical-align: middle;\n",
       "    }\n",
       "\n",
       "    .dataframe tbody tr th {\n",
       "        vertical-align: top;\n",
       "    }\n",
       "\n",
       "    .dataframe thead th {\n",
       "        text-align: right;\n",
       "    }\n",
       "</style>\n",
       "<table border=\"1\" class=\"dataframe\">\n",
       "  <thead>\n",
       "    <tr style=\"text-align: right;\">\n",
       "      <th></th>\n",
       "      <th>index</th>\n",
       "      <th>0</th>\n",
       "    </tr>\n",
       "  </thead>\n",
       "  <tbody>\n",
       "    <tr>\n",
       "      <th>0</th>\n",
       "      <td>sea_level</td>\n",
       "      <td>1.000000</td>\n",
       "    </tr>\n",
       "    <tr>\n",
       "      <th>1</th>\n",
       "      <td>grnd_level</td>\n",
       "      <td>1.000000</td>\n",
       "    </tr>\n",
       "    <tr>\n",
       "      <th>2</th>\n",
       "      <td>rain_1h</td>\n",
       "      <td>0.938526</td>\n",
       "    </tr>\n",
       "    <tr>\n",
       "      <th>3</th>\n",
       "      <td>rain_3h</td>\n",
       "      <td>0.939016</td>\n",
       "    </tr>\n",
       "    <tr>\n",
       "      <th>4</th>\n",
       "      <td>rain_6h</td>\n",
       "      <td>0.863742</td>\n",
       "    </tr>\n",
       "    <tr>\n",
       "      <th>5</th>\n",
       "      <td>rain_12h</td>\n",
       "      <td>0.999955</td>\n",
       "    </tr>\n",
       "    <tr>\n",
       "      <th>6</th>\n",
       "      <td>rain_24h</td>\n",
       "      <td>0.974268</td>\n",
       "    </tr>\n",
       "    <tr>\n",
       "      <th>7</th>\n",
       "      <td>rain_today</td>\n",
       "      <td>1.000000</td>\n",
       "    </tr>\n",
       "    <tr>\n",
       "      <th>8</th>\n",
       "      <td>snow_1h</td>\n",
       "      <td>1.000000</td>\n",
       "    </tr>\n",
       "    <tr>\n",
       "      <th>9</th>\n",
       "      <td>snow_3h</td>\n",
       "      <td>1.000000</td>\n",
       "    </tr>\n",
       "    <tr>\n",
       "      <th>10</th>\n",
       "      <td>snow_6h</td>\n",
       "      <td>1.000000</td>\n",
       "    </tr>\n",
       "    <tr>\n",
       "      <th>11</th>\n",
       "      <td>snow_12h</td>\n",
       "      <td>1.000000</td>\n",
       "    </tr>\n",
       "    <tr>\n",
       "      <th>12</th>\n",
       "      <td>snow_24h</td>\n",
       "      <td>1.000000</td>\n",
       "    </tr>\n",
       "    <tr>\n",
       "      <th>13</th>\n",
       "      <td>snow_today</td>\n",
       "      <td>1.000000</td>\n",
       "    </tr>\n",
       "  </tbody>\n",
       "</table>\n",
       "</div>"
      ],
      "text/plain": [
       "         index         0\n",
       "0    sea_level  1.000000\n",
       "1   grnd_level  1.000000\n",
       "2      rain_1h  0.938526\n",
       "3      rain_3h  0.939016\n",
       "4      rain_6h  0.863742\n",
       "5     rain_12h  0.999955\n",
       "6     rain_24h  0.974268\n",
       "7   rain_today  1.000000\n",
       "8      snow_1h  1.000000\n",
       "9      snow_3h  1.000000\n",
       "10     snow_6h  1.000000\n",
       "11    snow_12h  1.000000\n",
       "12    snow_24h  1.000000\n",
       "13  snow_today  1.000000"
      ]
     },
     "execution_count": 10,
     "metadata": {},
     "output_type": "execute_result"
    }
   ],
   "source": [
    "miss_val = missing_values_percent[missing_values_percent > 0].reset_index()\n",
    "miss_val"
   ]
  },
  {
   "cell_type": "code",
   "execution_count": 11,
   "metadata": {
    "colab": {
     "base_uri": "https://localhost:8080/"
    },
    "executionInfo": {
     "elapsed": 14,
     "status": "ok",
     "timestamp": 1632859451651,
     "user": {
      "displayName": "Ahmad Habib",
      "photoUrl": "https://lh3.googleusercontent.com/a-/AOh14GhO4o_fO723EBzG9aZH_2E2uBHOgS6-H2XcOb3hrQ=s64",
      "userId": "07615486812975318675"
     },
     "user_tz": -420
    },
    "id": "M7LvHwYZYgYT",
    "outputId": "6c9150eb-9377-4559-d4a0-7a6d6be204b3"
   },
   "outputs": [
    {
     "data": {
      "text/plain": [
       "array(['sea_level', 'grnd_level', 'rain_1h', 'rain_3h', 'rain_6h',\n",
       "       'rain_12h', 'rain_24h', 'rain_today', 'snow_1h', 'snow_3h',\n",
       "       'snow_6h', 'snow_12h', 'snow_24h', 'snow_today'], dtype=object)"
      ]
     },
     "execution_count": 11,
     "metadata": {},
     "output_type": "execute_result"
    }
   ],
   "source": [
    "miss_val['index'].values"
   ]
  },
  {
   "cell_type": "code",
   "execution_count": 12,
   "metadata": {
    "colab": {
     "base_uri": "https://localhost:8080/"
    },
    "executionInfo": {
     "elapsed": 25,
     "status": "ok",
     "timestamp": 1632859452029,
     "user": {
      "displayName": "Ahmad Habib",
      "photoUrl": "https://lh3.googleusercontent.com/a-/AOh14GhO4o_fO723EBzG9aZH_2E2uBHOgS6-H2XcOb3hrQ=s64",
      "userId": "07615486812975318675"
     },
     "user_tz": -420
    },
    "id": "NfbkEBegXo4Y",
    "outputId": "a7518a59-e76b-4d6f-f23c-0c5f5a7ff732"
   },
   "outputs": [
    {
     "data": {
      "text/plain": [
       "['sea_level',\n",
       " 'grnd_level',\n",
       " 'rain_1h',\n",
       " 'rain_3h',\n",
       " 'rain_6h',\n",
       " 'rain_12h',\n",
       " 'rain_24h',\n",
       " 'rain_today',\n",
       " 'snow_1h',\n",
       " 'snow_3h',\n",
       " 'snow_6h',\n",
       " 'snow_12h',\n",
       " 'snow_24h',\n",
       " 'snow_today']"
      ]
     },
     "execution_count": 12,
     "metadata": {},
     "output_type": "execute_result"
    }
   ],
   "source": [
    "miss_cols = list(miss_val['index'].values)\n",
    "miss_cols"
   ]
  },
  {
   "cell_type": "markdown",
   "metadata": {
    "id": "4Ca_4GfTXfTZ"
   },
   "source": [
    "### Delete "
   ]
  },
  {
   "cell_type": "code",
   "execution_count": 13,
   "metadata": {
    "executionInfo": {
     "elapsed": 19,
     "status": "ok",
     "timestamp": 1632859452029,
     "user": {
      "displayName": "Ahmad Habib",
      "photoUrl": "https://lh3.googleusercontent.com/a-/AOh14GhO4o_fO723EBzG9aZH_2E2uBHOgS6-H2XcOb3hrQ=s64",
      "userId": "07615486812975318675"
     },
     "user_tz": -420
    },
    "id": "kc1rtzErXXTT"
   },
   "outputs": [],
   "source": [
    "df.drop(columns=miss_cols, inplace=True)"
   ]
  },
  {
   "cell_type": "code",
   "execution_count": 14,
   "metadata": {
    "colab": {
     "base_uri": "https://localhost:8080/",
     "height": 487
    },
    "executionInfo": {
     "elapsed": 19,
     "status": "ok",
     "timestamp": 1632859452030,
     "user": {
      "displayName": "Ahmad Habib",
      "photoUrl": "https://lh3.googleusercontent.com/a-/AOh14GhO4o_fO723EBzG9aZH_2E2uBHOgS6-H2XcOb3hrQ=s64",
      "userId": "07615486812975318675"
     },
     "user_tz": -420
    },
    "id": "I847rJvyZCXb",
    "outputId": "38308a8a-e9b4-47e1-e637-928f7977cae9"
   },
   "outputs": [
    {
     "data": {
      "text/html": [
       "<div>\n",
       "<style scoped>\n",
       "    .dataframe tbody tr th:only-of-type {\n",
       "        vertical-align: middle;\n",
       "    }\n",
       "\n",
       "    .dataframe tbody tr th {\n",
       "        vertical-align: top;\n",
       "    }\n",
       "\n",
       "    .dataframe thead th {\n",
       "        text-align: right;\n",
       "    }\n",
       "</style>\n",
       "<table border=\"1\" class=\"dataframe\">\n",
       "  <thead>\n",
       "    <tr style=\"text-align: right;\">\n",
       "      <th></th>\n",
       "      <th>dt</th>\n",
       "      <th>dt_iso</th>\n",
       "      <th>timezone</th>\n",
       "      <th>city_name</th>\n",
       "      <th>lat</th>\n",
       "      <th>lon</th>\n",
       "      <th>temp</th>\n",
       "      <th>temp_min</th>\n",
       "      <th>temp_max</th>\n",
       "      <th>pressure</th>\n",
       "      <th>humidity</th>\n",
       "      <th>wind_speed</th>\n",
       "      <th>wind_deg</th>\n",
       "      <th>clouds_all</th>\n",
       "      <th>weather_id</th>\n",
       "      <th>weather_main</th>\n",
       "      <th>weather_description</th>\n",
       "      <th>weather_icon</th>\n",
       "    </tr>\n",
       "  </thead>\n",
       "  <tbody>\n",
       "    <tr>\n",
       "      <th>0</th>\n",
       "      <td>631152000</td>\n",
       "      <td>1990-01-01 00:00:00 +0000 UTC</td>\n",
       "      <td>28800</td>\n",
       "      <td>Denpasar</td>\n",
       "      <td>-8.652497</td>\n",
       "      <td>115.219117</td>\n",
       "      <td>25.82</td>\n",
       "      <td>25.82</td>\n",
       "      <td>25.82</td>\n",
       "      <td>1010.0</td>\n",
       "      <td>86</td>\n",
       "      <td>1.36</td>\n",
       "      <td>225</td>\n",
       "      <td>98</td>\n",
       "      <td>500</td>\n",
       "      <td>Rain</td>\n",
       "      <td>light rain</td>\n",
       "      <td>10d</td>\n",
       "    </tr>\n",
       "    <tr>\n",
       "      <th>1</th>\n",
       "      <td>631155600</td>\n",
       "      <td>1990-01-01 01:00:00 +0000 UTC</td>\n",
       "      <td>28800</td>\n",
       "      <td>Denpasar</td>\n",
       "      <td>-8.652497</td>\n",
       "      <td>115.219117</td>\n",
       "      <td>26.20</td>\n",
       "      <td>26.20</td>\n",
       "      <td>26.20</td>\n",
       "      <td>1011.0</td>\n",
       "      <td>84</td>\n",
       "      <td>2.09</td>\n",
       "      <td>247</td>\n",
       "      <td>91</td>\n",
       "      <td>500</td>\n",
       "      <td>Rain</td>\n",
       "      <td>light rain</td>\n",
       "      <td>10d</td>\n",
       "    </tr>\n",
       "    <tr>\n",
       "      <th>2</th>\n",
       "      <td>631159200</td>\n",
       "      <td>1990-01-01 02:00:00 +0000 UTC</td>\n",
       "      <td>28800</td>\n",
       "      <td>Denpasar</td>\n",
       "      <td>-8.652497</td>\n",
       "      <td>115.219117</td>\n",
       "      <td>26.45</td>\n",
       "      <td>26.45</td>\n",
       "      <td>26.45</td>\n",
       "      <td>1011.0</td>\n",
       "      <td>84</td>\n",
       "      <td>2.44</td>\n",
       "      <td>262</td>\n",
       "      <td>94</td>\n",
       "      <td>500</td>\n",
       "      <td>Rain</td>\n",
       "      <td>light rain</td>\n",
       "      <td>10d</td>\n",
       "    </tr>\n",
       "    <tr>\n",
       "      <th>3</th>\n",
       "      <td>631162800</td>\n",
       "      <td>1990-01-01 03:00:00 +0000 UTC</td>\n",
       "      <td>28800</td>\n",
       "      <td>Denpasar</td>\n",
       "      <td>-8.652497</td>\n",
       "      <td>115.219117</td>\n",
       "      <td>26.80</td>\n",
       "      <td>26.80</td>\n",
       "      <td>26.80</td>\n",
       "      <td>1011.0</td>\n",
       "      <td>82</td>\n",
       "      <td>2.29</td>\n",
       "      <td>271</td>\n",
       "      <td>94</td>\n",
       "      <td>500</td>\n",
       "      <td>Rain</td>\n",
       "      <td>light rain</td>\n",
       "      <td>10d</td>\n",
       "    </tr>\n",
       "    <tr>\n",
       "      <th>4</th>\n",
       "      <td>631166400</td>\n",
       "      <td>1990-01-01 04:00:00 +0000 UTC</td>\n",
       "      <td>28800</td>\n",
       "      <td>Denpasar</td>\n",
       "      <td>-8.652497</td>\n",
       "      <td>115.219117</td>\n",
       "      <td>27.04</td>\n",
       "      <td>27.04</td>\n",
       "      <td>27.04</td>\n",
       "      <td>1010.0</td>\n",
       "      <td>82</td>\n",
       "      <td>1.71</td>\n",
       "      <td>274</td>\n",
       "      <td>76</td>\n",
       "      <td>803</td>\n",
       "      <td>Clouds</td>\n",
       "      <td>broken clouds</td>\n",
       "      <td>04d</td>\n",
       "    </tr>\n",
       "  </tbody>\n",
       "</table>\n",
       "</div>"
      ],
      "text/plain": [
       "          dt                         dt_iso  ...  weather_description weather_icon\n",
       "0  631152000  1990-01-01 00:00:00 +0000 UTC  ...           light rain          10d\n",
       "1  631155600  1990-01-01 01:00:00 +0000 UTC  ...           light rain          10d\n",
       "2  631159200  1990-01-01 02:00:00 +0000 UTC  ...           light rain          10d\n",
       "3  631162800  1990-01-01 03:00:00 +0000 UTC  ...           light rain          10d\n",
       "4  631166400  1990-01-01 04:00:00 +0000 UTC  ...        broken clouds          04d\n",
       "\n",
       "[5 rows x 18 columns]"
      ]
     },
     "execution_count": 14,
     "metadata": {},
     "output_type": "execute_result"
    }
   ],
   "source": [
    "df.head()"
   ]
  },
  {
   "cell_type": "markdown",
   "metadata": {
    "id": "kHQo9ycTbq3P"
   },
   "source": [
    "### Only use date and temp"
   ]
  },
  {
   "cell_type": "code",
   "execution_count": 15,
   "metadata": {
    "colab": {
     "base_uri": "https://localhost:8080/",
     "height": 206
    },
    "executionInfo": {
     "elapsed": 18,
     "status": "ok",
     "timestamp": 1632859452032,
     "user": {
      "displayName": "Ahmad Habib",
      "photoUrl": "https://lh3.googleusercontent.com/a-/AOh14GhO4o_fO723EBzG9aZH_2E2uBHOgS6-H2XcOb3hrQ=s64",
      "userId": "07615486812975318675"
     },
     "user_tz": -420
    },
    "id": "qtqKFCGhZDJw",
    "outputId": "7728e4b0-b589-4ace-bb2e-7cd497328f4a"
   },
   "outputs": [
    {
     "data": {
      "text/html": [
       "<div>\n",
       "<style scoped>\n",
       "    .dataframe tbody tr th:only-of-type {\n",
       "        vertical-align: middle;\n",
       "    }\n",
       "\n",
       "    .dataframe tbody tr th {\n",
       "        vertical-align: top;\n",
       "    }\n",
       "\n",
       "    .dataframe thead th {\n",
       "        text-align: right;\n",
       "    }\n",
       "</style>\n",
       "<table border=\"1\" class=\"dataframe\">\n",
       "  <thead>\n",
       "    <tr style=\"text-align: right;\">\n",
       "      <th></th>\n",
       "      <th>dt_iso</th>\n",
       "      <th>temp</th>\n",
       "    </tr>\n",
       "  </thead>\n",
       "  <tbody>\n",
       "    <tr>\n",
       "      <th>0</th>\n",
       "      <td>1990-01-01 00:00:00 +0000 UTC</td>\n",
       "      <td>25.82</td>\n",
       "    </tr>\n",
       "    <tr>\n",
       "      <th>1</th>\n",
       "      <td>1990-01-01 01:00:00 +0000 UTC</td>\n",
       "      <td>26.20</td>\n",
       "    </tr>\n",
       "    <tr>\n",
       "      <th>2</th>\n",
       "      <td>1990-01-01 02:00:00 +0000 UTC</td>\n",
       "      <td>26.45</td>\n",
       "    </tr>\n",
       "    <tr>\n",
       "      <th>3</th>\n",
       "      <td>1990-01-01 03:00:00 +0000 UTC</td>\n",
       "      <td>26.80</td>\n",
       "    </tr>\n",
       "    <tr>\n",
       "      <th>4</th>\n",
       "      <td>1990-01-01 04:00:00 +0000 UTC</td>\n",
       "      <td>27.04</td>\n",
       "    </tr>\n",
       "  </tbody>\n",
       "</table>\n",
       "</div>"
      ],
      "text/plain": [
       "                          dt_iso   temp\n",
       "0  1990-01-01 00:00:00 +0000 UTC  25.82\n",
       "1  1990-01-01 01:00:00 +0000 UTC  26.20\n",
       "2  1990-01-01 02:00:00 +0000 UTC  26.45\n",
       "3  1990-01-01 03:00:00 +0000 UTC  26.80\n",
       "4  1990-01-01 04:00:00 +0000 UTC  27.04"
      ]
     },
     "execution_count": 15,
     "metadata": {},
     "output_type": "execute_result"
    }
   ],
   "source": [
    "data = df[['dt_iso','temp']]\n",
    "data.head()"
   ]
  },
  {
   "cell_type": "code",
   "execution_count": 16,
   "metadata": {
    "executionInfo": {
     "elapsed": 16,
     "status": "ok",
     "timestamp": 1632859452032,
     "user": {
      "displayName": "Ahmad Habib",
      "photoUrl": "https://lh3.googleusercontent.com/a-/AOh14GhO4o_fO723EBzG9aZH_2E2uBHOgS6-H2XcOb3hrQ=s64",
      "userId": "07615486812975318675"
     },
     "user_tz": -420
    },
    "id": "hZ90QtyDbNu5"
   },
   "outputs": [],
   "source": [
    "data.columns = ['date','temp']"
   ]
  },
  {
   "cell_type": "code",
   "execution_count": 17,
   "metadata": {
    "colab": {
     "base_uri": "https://localhost:8080/",
     "height": 206
    },
    "executionInfo": {
     "elapsed": 16,
     "status": "ok",
     "timestamp": 1632859452033,
     "user": {
      "displayName": "Ahmad Habib",
      "photoUrl": "https://lh3.googleusercontent.com/a-/AOh14GhO4o_fO723EBzG9aZH_2E2uBHOgS6-H2XcOb3hrQ=s64",
      "userId": "07615486812975318675"
     },
     "user_tz": -420
    },
    "id": "YazVkIitbW-7",
    "outputId": "39a7428d-8aa3-4e0d-ba68-d1ee06d302e8"
   },
   "outputs": [
    {
     "data": {
      "text/html": [
       "<div>\n",
       "<style scoped>\n",
       "    .dataframe tbody tr th:only-of-type {\n",
       "        vertical-align: middle;\n",
       "    }\n",
       "\n",
       "    .dataframe tbody tr th {\n",
       "        vertical-align: top;\n",
       "    }\n",
       "\n",
       "    .dataframe thead th {\n",
       "        text-align: right;\n",
       "    }\n",
       "</style>\n",
       "<table border=\"1\" class=\"dataframe\">\n",
       "  <thead>\n",
       "    <tr style=\"text-align: right;\">\n",
       "      <th></th>\n",
       "      <th>date</th>\n",
       "      <th>temp</th>\n",
       "    </tr>\n",
       "  </thead>\n",
       "  <tbody>\n",
       "    <tr>\n",
       "      <th>0</th>\n",
       "      <td>1990-01-01 00:00:00 +0000 UTC</td>\n",
       "      <td>25.82</td>\n",
       "    </tr>\n",
       "    <tr>\n",
       "      <th>1</th>\n",
       "      <td>1990-01-01 01:00:00 +0000 UTC</td>\n",
       "      <td>26.20</td>\n",
       "    </tr>\n",
       "    <tr>\n",
       "      <th>2</th>\n",
       "      <td>1990-01-01 02:00:00 +0000 UTC</td>\n",
       "      <td>26.45</td>\n",
       "    </tr>\n",
       "    <tr>\n",
       "      <th>3</th>\n",
       "      <td>1990-01-01 03:00:00 +0000 UTC</td>\n",
       "      <td>26.80</td>\n",
       "    </tr>\n",
       "    <tr>\n",
       "      <th>4</th>\n",
       "      <td>1990-01-01 04:00:00 +0000 UTC</td>\n",
       "      <td>27.04</td>\n",
       "    </tr>\n",
       "  </tbody>\n",
       "</table>\n",
       "</div>"
      ],
      "text/plain": [
       "                            date   temp\n",
       "0  1990-01-01 00:00:00 +0000 UTC  25.82\n",
       "1  1990-01-01 01:00:00 +0000 UTC  26.20\n",
       "2  1990-01-01 02:00:00 +0000 UTC  26.45\n",
       "3  1990-01-01 03:00:00 +0000 UTC  26.80\n",
       "4  1990-01-01 04:00:00 +0000 UTC  27.04"
      ]
     },
     "execution_count": 17,
     "metadata": {},
     "output_type": "execute_result"
    }
   ],
   "source": [
    "data.head()"
   ]
  },
  {
   "cell_type": "code",
   "execution_count": 18,
   "metadata": {
    "colab": {
     "base_uri": "https://localhost:8080/"
    },
    "executionInfo": {
     "elapsed": 738,
     "status": "ok",
     "timestamp": 1632859452756,
     "user": {
      "displayName": "Ahmad Habib",
      "photoUrl": "https://lh3.googleusercontent.com/a-/AOh14GhO4o_fO723EBzG9aZH_2E2uBHOgS6-H2XcOb3hrQ=s64",
      "userId": "07615486812975318675"
     },
     "user_tz": -420
    },
    "id": "H87IYy1Fboj5",
    "outputId": "b01f9f86-0080-4c93-ddc5-20e6ab4e1e6a"
   },
   "outputs": [
    {
     "name": "stderr",
     "output_type": "stream",
     "text": [
      "/usr/local/lib/python3.7/dist-packages/ipykernel_launcher.py:1: SettingWithCopyWarning: \n",
      "A value is trying to be set on a copy of a slice from a DataFrame.\n",
      "Try using .loc[row_indexer,col_indexer] = value instead\n",
      "\n",
      "See the caveats in the documentation: https://pandas.pydata.org/pandas-docs/stable/user_guide/indexing.html#returning-a-view-versus-a-copy\n",
      "  \"\"\"Entry point for launching an IPython kernel.\n"
     ]
    }
   ],
   "source": [
    "data['date'] = data[\"date\"].str.split(' ', expand=True)[0]"
   ]
  },
  {
   "cell_type": "code",
   "execution_count": 19,
   "metadata": {
    "colab": {
     "base_uri": "https://localhost:8080/",
     "height": 206
    },
    "executionInfo": {
     "elapsed": 16,
     "status": "ok",
     "timestamp": 1632859452759,
     "user": {
      "displayName": "Ahmad Habib",
      "photoUrl": "https://lh3.googleusercontent.com/a-/AOh14GhO4o_fO723EBzG9aZH_2E2uBHOgS6-H2XcOb3hrQ=s64",
      "userId": "07615486812975318675"
     },
     "user_tz": -420
    },
    "id": "IR0gVTU6b9uS",
    "outputId": "b2cdf158-a606-45b2-c0b1-5c01d3ecfc8c"
   },
   "outputs": [
    {
     "data": {
      "text/html": [
       "<div>\n",
       "<style scoped>\n",
       "    .dataframe tbody tr th:only-of-type {\n",
       "        vertical-align: middle;\n",
       "    }\n",
       "\n",
       "    .dataframe tbody tr th {\n",
       "        vertical-align: top;\n",
       "    }\n",
       "\n",
       "    .dataframe thead th {\n",
       "        text-align: right;\n",
       "    }\n",
       "</style>\n",
       "<table border=\"1\" class=\"dataframe\">\n",
       "  <thead>\n",
       "    <tr style=\"text-align: right;\">\n",
       "      <th></th>\n",
       "      <th>date</th>\n",
       "      <th>temp</th>\n",
       "    </tr>\n",
       "  </thead>\n",
       "  <tbody>\n",
       "    <tr>\n",
       "      <th>264919</th>\n",
       "      <td>2020-01-07</td>\n",
       "      <td>27.0</td>\n",
       "    </tr>\n",
       "    <tr>\n",
       "      <th>264920</th>\n",
       "      <td>2020-01-07</td>\n",
       "      <td>27.0</td>\n",
       "    </tr>\n",
       "    <tr>\n",
       "      <th>264921</th>\n",
       "      <td>2020-01-07</td>\n",
       "      <td>28.0</td>\n",
       "    </tr>\n",
       "    <tr>\n",
       "      <th>264922</th>\n",
       "      <td>2020-01-07</td>\n",
       "      <td>28.0</td>\n",
       "    </tr>\n",
       "    <tr>\n",
       "      <th>264923</th>\n",
       "      <td>2020-01-07</td>\n",
       "      <td>28.0</td>\n",
       "    </tr>\n",
       "  </tbody>\n",
       "</table>\n",
       "</div>"
      ],
      "text/plain": [
       "              date  temp\n",
       "264919  2020-01-07  27.0\n",
       "264920  2020-01-07  27.0\n",
       "264921  2020-01-07  28.0\n",
       "264922  2020-01-07  28.0\n",
       "264923  2020-01-07  28.0"
      ]
     },
     "execution_count": 19,
     "metadata": {},
     "output_type": "execute_result"
    }
   ],
   "source": [
    "data.tail()"
   ]
  },
  {
   "cell_type": "code",
   "execution_count": 20,
   "metadata": {
    "colab": {
     "base_uri": "https://localhost:8080/"
    },
    "executionInfo": {
     "elapsed": 13,
     "status": "ok",
     "timestamp": 1632859452760,
     "user": {
      "displayName": "Ahmad Habib",
      "photoUrl": "https://lh3.googleusercontent.com/a-/AOh14GhO4o_fO723EBzG9aZH_2E2uBHOgS6-H2XcOb3hrQ=s64",
      "userId": "07615486812975318675"
     },
     "user_tz": -420
    },
    "id": "j8NfIn3rckt2",
    "outputId": "da559727-05a6-4ad5-9234-2da89198a4c8"
   },
   "outputs": [
    {
     "data": {
      "text/plain": [
       "date     object\n",
       "temp    float64\n",
       "dtype: object"
      ]
     },
     "execution_count": 20,
     "metadata": {},
     "output_type": "execute_result"
    }
   ],
   "source": [
    "data.dtypes"
   ]
  },
  {
   "cell_type": "code",
   "execution_count": 21,
   "metadata": {
    "colab": {
     "base_uri": "https://localhost:8080/"
    },
    "executionInfo": {
     "elapsed": 394,
     "status": "ok",
     "timestamp": 1632859453144,
     "user": {
      "displayName": "Ahmad Habib",
      "photoUrl": "https://lh3.googleusercontent.com/a-/AOh14GhO4o_fO723EBzG9aZH_2E2uBHOgS6-H2XcOb3hrQ=s64",
      "userId": "07615486812975318675"
     },
     "user_tz": -420
    },
    "id": "Bl9BB4gPc-DT",
    "outputId": "db36590b-3c4b-49cf-fff4-36ae842a8420"
   },
   "outputs": [
    {
     "name": "stderr",
     "output_type": "stream",
     "text": [
      "/usr/local/lib/python3.7/dist-packages/ipykernel_launcher.py:1: SettingWithCopyWarning: \n",
      "A value is trying to be set on a copy of a slice from a DataFrame.\n",
      "Try using .loc[row_indexer,col_indexer] = value instead\n",
      "\n",
      "See the caveats in the documentation: https://pandas.pydata.org/pandas-docs/stable/user_guide/indexing.html#returning-a-view-versus-a-copy\n",
      "  \"\"\"Entry point for launching an IPython kernel.\n"
     ]
    }
   ],
   "source": [
    "data['date'] = pd.to_datetime(data['date'])"
   ]
  },
  {
   "cell_type": "code",
   "execution_count": 22,
   "metadata": {
    "colab": {
     "base_uri": "https://localhost:8080/",
     "height": 206
    },
    "executionInfo": {
     "elapsed": 9,
     "status": "ok",
     "timestamp": 1632859453145,
     "user": {
      "displayName": "Ahmad Habib",
      "photoUrl": "https://lh3.googleusercontent.com/a-/AOh14GhO4o_fO723EBzG9aZH_2E2uBHOgS6-H2XcOb3hrQ=s64",
      "userId": "07615486812975318675"
     },
     "user_tz": -420
    },
    "id": "wKlfh2acdUFU",
    "outputId": "723a9cfc-2238-47bb-d5e0-36305c7da589"
   },
   "outputs": [
    {
     "data": {
      "text/html": [
       "<div>\n",
       "<style scoped>\n",
       "    .dataframe tbody tr th:only-of-type {\n",
       "        vertical-align: middle;\n",
       "    }\n",
       "\n",
       "    .dataframe tbody tr th {\n",
       "        vertical-align: top;\n",
       "    }\n",
       "\n",
       "    .dataframe thead th {\n",
       "        text-align: right;\n",
       "    }\n",
       "</style>\n",
       "<table border=\"1\" class=\"dataframe\">\n",
       "  <thead>\n",
       "    <tr style=\"text-align: right;\">\n",
       "      <th></th>\n",
       "      <th>date</th>\n",
       "      <th>temp</th>\n",
       "    </tr>\n",
       "  </thead>\n",
       "  <tbody>\n",
       "    <tr>\n",
       "      <th>0</th>\n",
       "      <td>1990-01-01</td>\n",
       "      <td>25.82</td>\n",
       "    </tr>\n",
       "    <tr>\n",
       "      <th>1</th>\n",
       "      <td>1990-01-01</td>\n",
       "      <td>26.20</td>\n",
       "    </tr>\n",
       "    <tr>\n",
       "      <th>2</th>\n",
       "      <td>1990-01-01</td>\n",
       "      <td>26.45</td>\n",
       "    </tr>\n",
       "    <tr>\n",
       "      <th>3</th>\n",
       "      <td>1990-01-01</td>\n",
       "      <td>26.80</td>\n",
       "    </tr>\n",
       "    <tr>\n",
       "      <th>4</th>\n",
       "      <td>1990-01-01</td>\n",
       "      <td>27.04</td>\n",
       "    </tr>\n",
       "  </tbody>\n",
       "</table>\n",
       "</div>"
      ],
      "text/plain": [
       "        date   temp\n",
       "0 1990-01-01  25.82\n",
       "1 1990-01-01  26.20\n",
       "2 1990-01-01  26.45\n",
       "3 1990-01-01  26.80\n",
       "4 1990-01-01  27.04"
      ]
     },
     "execution_count": 22,
     "metadata": {},
     "output_type": "execute_result"
    }
   ],
   "source": [
    "data.head()"
   ]
  },
  {
   "cell_type": "code",
   "execution_count": 23,
   "metadata": {
    "colab": {
     "base_uri": "https://localhost:8080/"
    },
    "executionInfo": {
     "elapsed": 8,
     "status": "ok",
     "timestamp": 1632859453145,
     "user": {
      "displayName": "Ahmad Habib",
      "photoUrl": "https://lh3.googleusercontent.com/a-/AOh14GhO4o_fO723EBzG9aZH_2E2uBHOgS6-H2XcOb3hrQ=s64",
      "userId": "07615486812975318675"
     },
     "user_tz": -420
    },
    "id": "GILydvktdunH",
    "outputId": "09e1b284-9ab0-4260-d863-f5ba2cef03b0"
   },
   "outputs": [
    {
     "data": {
      "text/plain": [
       "array([ 1,  2,  3,  4,  5,  6,  7,  8,  9, 10, 11, 12])"
      ]
     },
     "execution_count": 23,
     "metadata": {},
     "output_type": "execute_result"
    }
   ],
   "source": [
    "data.date.dt.month.unique()"
   ]
  },
  {
   "cell_type": "code",
   "execution_count": 24,
   "metadata": {
    "colab": {
     "base_uri": "https://localhost:8080/",
     "height": 447
    },
    "executionInfo": {
     "elapsed": 684,
     "status": "ok",
     "timestamp": 1632859453823,
     "user": {
      "displayName": "Ahmad Habib",
      "photoUrl": "https://lh3.googleusercontent.com/a-/AOh14GhO4o_fO723EBzG9aZH_2E2uBHOgS6-H2XcOb3hrQ=s64",
      "userId": "07615486812975318675"
     },
     "user_tz": -420
    },
    "id": "dyyrZ3DTdx5n",
    "outputId": "c2fe0497-ff08-4e80-8e5c-5ef1a7079670"
   },
   "outputs": [
    {
     "data": {
      "image/png": "[encoded data removed]",
      "text/plain": [
       "<Figure size 936x504 with 1 Axes>"
      ]
     },
     "metadata": {
      "needs_background": "light"
     },
     "output_type": "display_data"
    }
   ],
   "source": [
    "fig=plt.figure(figsize=(13,7))\n",
    "ax = plt.axes()\n",
    "plt.xlabel(\"Year\",fontsize=\"15\",fontweight=\"bold\")\n",
    "plt.ylabel(\"Mean Temperature\",fontsize=\"15\",fontweight=\"bold\")\n",
    "plt.grid(True)\n",
    "plt.plot(data['date'], data['temp'])\n",
    "plt.show()"
   ]
  },
  {
   "cell_type": "code",
   "execution_count": 25,
   "metadata": {
    "executionInfo": {
     "elapsed": 1149,
     "status": "ok",
     "timestamp": 1632859454956,
     "user": {
      "displayName": "Ahmad Habib",
      "photoUrl": "https://lh3.googleusercontent.com/a-/AOh14GhO4o_fO723EBzG9aZH_2E2uBHOgS6-H2XcOb3hrQ=s64",
      "userId": "07615486812975318675"
     },
     "user_tz": -420
    },
    "id": "RrTYhvdAe4QM"
   },
   "outputs": [],
   "source": [
    "daily_mean=data.groupby(data['date'].dt.day).mean()\n",
    "monthly_mean=data.groupby(data['date'].dt.month).mean()\n",
    "yearly_mean=data.groupby(data['date'].dt.year).mean()"
   ]
  },
  {
   "cell_type": "code",
   "execution_count": 26,
   "metadata": {
    "colab": {
     "base_uri": "https://localhost:8080/",
     "height": 237
    },
    "executionInfo": {
     "elapsed": 15,
     "status": "ok",
     "timestamp": 1632859454957,
     "user": {
      "displayName": "Ahmad Habib",
      "photoUrl": "https://lh3.googleusercontent.com/a-/AOh14GhO4o_fO723EBzG9aZH_2E2uBHOgS6-H2XcOb3hrQ=s64",
      "userId": "07615486812975318675"
     },
     "user_tz": -420
    },
    "id": "IONYrcolfcDZ",
    "outputId": "8d8e71ef-9e90-406f-9983-0459a0ff3b57"
   },
   "outputs": [
    {
     "data": {
      "text/html": [
       "<div>\n",
       "<style scoped>\n",
       "    .dataframe tbody tr th:only-of-type {\n",
       "        vertical-align: middle;\n",
       "    }\n",
       "\n",
       "    .dataframe tbody tr th {\n",
       "        vertical-align: top;\n",
       "    }\n",
       "\n",
       "    .dataframe thead th {\n",
       "        text-align: right;\n",
       "    }\n",
       "</style>\n",
       "<table border=\"1\" class=\"dataframe\">\n",
       "  <thead>\n",
       "    <tr style=\"text-align: right;\">\n",
       "      <th></th>\n",
       "      <th>temp</th>\n",
       "    </tr>\n",
       "    <tr>\n",
       "      <th>date</th>\n",
       "      <th></th>\n",
       "    </tr>\n",
       "  </thead>\n",
       "  <tbody>\n",
       "    <tr>\n",
       "      <th>1</th>\n",
       "      <td>27.273015</td>\n",
       "    </tr>\n",
       "    <tr>\n",
       "      <th>2</th>\n",
       "      <td>27.252181</td>\n",
       "    </tr>\n",
       "    <tr>\n",
       "      <th>3</th>\n",
       "      <td>27.225135</td>\n",
       "    </tr>\n",
       "    <tr>\n",
       "      <th>4</th>\n",
       "      <td>27.294496</td>\n",
       "    </tr>\n",
       "    <tr>\n",
       "      <th>5</th>\n",
       "      <td>27.325334</td>\n",
       "    </tr>\n",
       "  </tbody>\n",
       "</table>\n",
       "</div>"
      ],
      "text/plain": [
       "           temp\n",
       "date           \n",
       "1     27.273015\n",
       "2     27.252181\n",
       "3     27.225135\n",
       "4     27.294496\n",
       "5     27.325334"
      ]
     },
     "execution_count": 26,
     "metadata": {},
     "output_type": "execute_result"
    }
   ],
   "source": [
    "daily_mean.head()"
   ]
  },
  {
   "cell_type": "code",
   "execution_count": 27,
   "metadata": {
    "colab": {
     "base_uri": "https://localhost:8080/",
     "height": 447
    },
    "executionInfo": {
     "elapsed": 13,
     "status": "ok",
     "timestamp": 1632859454958,
     "user": {
      "displayName": "Ahmad Habib",
      "photoUrl": "https://lh3.googleusercontent.com/a-/AOh14GhO4o_fO723EBzG9aZH_2E2uBHOgS6-H2XcOb3hrQ=s64",
      "userId": "07615486812975318675"
     },
     "user_tz": -420
    },
    "id": "dBz8WWJjfdc2",
    "outputId": "afaaa7c9-7f0a-40d9-e8fa-16c879c57616"
   },
   "outputs": [
    {
     "data": {
      "image/png": "[encoded data removed]",
      "text/plain": [
       "<Figure size 936x504 with 1 Axes>"
      ]
     },
     "metadata": {
      "needs_background": "light"
     },
     "output_type": "display_data"
    }
   ],
   "source": [
    "fig=plt.figure(figsize=(13,7))\n",
    "ax=plt.axes()\n",
    "plt.plot(daily_mean)\n",
    "plt.grid(True)\n",
    "plt.xticks(range(len(daily_mean)))\n",
    "plt.xlabel(\"Daily Temperature\",fontsize=15,fontweight=\"bold\")\n",
    "plt.ylabel(\"Mean Temperature\",fontsize=16,fontweight=\"bold\")\n",
    "plt.show()"
   ]
  },
  {
   "cell_type": "code",
   "execution_count": 28,
   "metadata": {
    "colab": {
     "base_uri": "https://localhost:8080/",
     "height": 447
    },
    "executionInfo": {
     "elapsed": 11,
     "status": "ok",
     "timestamp": 1632859454959,
     "user": {
      "displayName": "Ahmad Habib",
      "photoUrl": "https://lh3.googleusercontent.com/a-/AOh14GhO4o_fO723EBzG9aZH_2E2uBHOgS6-H2XcOb3hrQ=s64",
      "userId": "07615486812975318675"
     },
     "user_tz": -420
    },
    "id": "3hbR98xHfnF9",
    "outputId": "3bcb33cb-1c05-4023-f045-e9055013b8d8"
   },
   "outputs": [
    {
     "data": {
      "image/png": "[encoded data removed]",
      "text/plain": [
       "<Figure size 936x504 with 1 Axes>"
      ]
     },
     "metadata": {
      "needs_background": "light"
     },
     "output_type": "display_data"
    }
   ],
   "source": [
    "fig=plt.figure(figsize=(13,7))\n",
    "ax=plt.axes()\n",
    "plt.plot(monthly_mean)\n",
    "plt.grid(True)\n",
    "plt.xticks(range(len(monthly_mean)))\n",
    "plt.xlabel(\"Monthly Temperature\",fontsize=15,fontweight=\"bold\")\n",
    "plt.ylabel(\"Mean Temperature\",fontsize=16,fontweight=\"bold\")\n",
    "plt.show()"
   ]
  },
  {
   "cell_type": "code",
   "execution_count": 29,
   "metadata": {
    "colab": {
     "base_uri": "https://localhost:8080/",
     "height": 447
    },
    "executionInfo": {
     "elapsed": 640,
     "status": "ok",
     "timestamp": 1632859455589,
     "user": {
      "displayName": "Ahmad Habib",
      "photoUrl": "https://lh3.googleusercontent.com/a-/AOh14GhO4o_fO723EBzG9aZH_2E2uBHOgS6-H2XcOb3hrQ=s64",
      "userId": "07615486812975318675"
     },
     "user_tz": -420
    },
    "id": "LqgER0_CgWmz",
    "outputId": "75ecc757-cd6f-4d44-c036-93e25646e8dc"
   },
   "outputs": [
    {
     "data": {
      "image/png": "[encoded data removed]",
      "text/plain": [
       "<Figure size 936x504 with 1 Axes>"
      ]
     },
     "metadata": {
      "needs_background": "light"
     },
     "output_type": "display_data"
    }
   ],
   "source": [
    "fig=plt.figure(figsize=(13,7))\n",
    "ax=plt.axes()\n",
    "plt.plot(yearly_mean)\n",
    "plt.grid(True)\n",
    "plt.xlabel(\"yearly Temperature\",fontsize=15,fontweight=\"bold\")\n",
    "plt.ylabel(\"Mean Temperature\",fontsize=16,fontweight=\"bold\")\n",
    "plt.show()"
   ]
  },
  {
   "cell_type": "markdown",
   "metadata": {
    "id": "OqfDi7TblRxg"
   },
   "source": [
    "### Split Dataset\n",
    "\n",
    "Data tahun sebelum hingga 2012 jadi train dan sisanya test"
   ]
  },
  {
   "cell_type": "code",
   "execution_count": 30,
   "metadata": {
    "colab": {
     "base_uri": "https://localhost:8080/"
    },
    "executionInfo": {
     "elapsed": 24,
     "status": "ok",
     "timestamp": 1632859455590,
     "user": {
      "displayName": "Ahmad Habib",
      "photoUrl": "https://lh3.googleusercontent.com/a-/AOh14GhO4o_fO723EBzG9aZH_2E2uBHOgS6-H2XcOb3hrQ=s64",
      "userId": "07615486812975318675"
     },
     "user_tz": -420
    },
    "id": "1rUcq6Jak-wI",
    "outputId": "13b752e5-c8d8-4591-db26-c78977a2af6a"
   },
   "outputs": [
    {
     "data": {
      "text/plain": [
       "array([2016, 2017, 2018, 2019, 2020])"
      ]
     },
     "execution_count": 30,
     "metadata": {},
     "output_type": "execute_result"
    }
   ],
   "source": [
    "data[data['date'].dt.year > 2015]['date'].dt.year.unique()"
   ]
  },
  {
   "cell_type": "code",
   "execution_count": 31,
   "metadata": {
    "colab": {
     "base_uri": "https://localhost:8080/"
    },
    "executionInfo": {
     "elapsed": 22,
     "status": "ok",
     "timestamp": 1632859455591,
     "user": {
      "displayName": "Ahmad Habib",
      "photoUrl": "https://lh3.googleusercontent.com/a-/AOh14GhO4o_fO723EBzG9aZH_2E2uBHOgS6-H2XcOb3hrQ=s64",
      "userId": "07615486812975318675"
     },
     "user_tz": -420
    },
    "id": "m41-VwXTmUKz",
    "outputId": "943140ac-8e32-40d4-c68e-8b9ad0aff505"
   },
   "outputs": [
    {
     "data": {
      "text/plain": [
       "((211745,), (53179,))"
      ]
     },
     "execution_count": 31,
     "metadata": {},
     "output_type": "execute_result"
    }
   ],
   "source": [
    "train = data[data['date'].dt.year <= 2013]['temp'].values\n",
    "test = data[data['date'].dt.year > 2013]['temp'].values\n",
    "\n",
    "train.shape, test.shape"
   ]
  },
  {
   "cell_type": "code",
   "execution_count": 32,
   "metadata": {
    "colab": {
     "base_uri": "https://localhost:8080/"
    },
    "executionInfo": {
     "elapsed": 20,
     "status": "ok",
     "timestamp": 1632859455592,
     "user": {
      "displayName": "Ahmad Habib",
      "photoUrl": "https://lh3.googleusercontent.com/a-/AOh14GhO4o_fO723EBzG9aZH_2E2uBHOgS6-H2XcOb3hrQ=s64",
      "userId": "07615486812975318675"
     },
     "user_tz": -420
    },
    "id": "-Lwj6QJVnEgq",
    "outputId": "bcc39c84-116c-44f3-c157-cf86a27b4653"
   },
   "outputs": [
    {
     "data": {
      "text/plain": [
       "0.7992669595808609"
      ]
     },
     "execution_count": 32,
     "metadata": {},
     "output_type": "execute_result"
    }
   ],
   "source": [
    "train.shape[0]/len(data)"
   ]
  },
  {
   "cell_type": "code",
   "execution_count": 33,
   "metadata": {
    "colab": {
     "base_uri": "https://localhost:8080/"
    },
    "executionInfo": {
     "elapsed": 19,
     "status": "ok",
     "timestamp": 1632859455593,
     "user": {
      "displayName": "Ahmad Habib",
      "photoUrl": "https://lh3.googleusercontent.com/a-/AOh14GhO4o_fO723EBzG9aZH_2E2uBHOgS6-H2XcOb3hrQ=s64",
      "userId": "07615486812975318675"
     },
     "user_tz": -420
    },
    "id": "sCqd2hOV5R7a",
    "outputId": "a85a081a-18c2-4ca3-c9ed-e29ae80126e6"
   },
   "outputs": [
    {
     "data": {
      "text/plain": [
       "0.20073304041913909"
      ]
     },
     "execution_count": 33,
     "metadata": {},
     "output_type": "execute_result"
    }
   ],
   "source": [
    "test.shape[0]/len(data)"
   ]
  },
  {
   "cell_type": "code",
   "execution_count": 34,
   "metadata": {
    "colab": {
     "base_uri": "https://localhost:8080/"
    },
    "executionInfo": {
     "elapsed": 17,
     "status": "ok",
     "timestamp": 1632859455593,
     "user": {
      "displayName": "Ahmad Habib",
      "photoUrl": "https://lh3.googleusercontent.com/a-/AOh14GhO4o_fO723EBzG9aZH_2E2uBHOgS6-H2XcOb3hrQ=s64",
      "userId": "07615486812975318675"
     },
     "user_tz": -420
    },
    "id": "weLaG0Cd5iGt",
    "outputId": "48c5fbeb-e73c-4e41-9b2e-8cd7e9274a6c"
   },
   "outputs": [
    {
     "data": {
      "text/plain": [
       "264924"
      ]
     },
     "execution_count": 34,
     "metadata": {},
     "output_type": "execute_result"
    }
   ],
   "source": [
    "test.shape[0] + train.shape[0]"
   ]
  },
  {
   "cell_type": "code",
   "execution_count": 35,
   "metadata": {
    "colab": {
     "base_uri": "https://localhost:8080/"
    },
    "executionInfo": {
     "elapsed": 16,
     "status": "ok",
     "timestamp": 1632859455594,
     "user": {
      "displayName": "Ahmad Habib",
      "photoUrl": "https://lh3.googleusercontent.com/a-/AOh14GhO4o_fO723EBzG9aZH_2E2uBHOgS6-H2XcOb3hrQ=s64",
      "userId": "07615486812975318675"
     },
     "user_tz": -420
    },
    "id": "lf_TG_iP5lyj",
    "outputId": "857caa8b-2aae-4eb3-875b-0e117cfacb75"
   },
   "outputs": [
    {
     "data": {
      "text/plain": [
       "264924"
      ]
     },
     "execution_count": 35,
     "metadata": {},
     "output_type": "execute_result"
    }
   ],
   "source": [
    "len(data)"
   ]
  },
  {
   "cell_type": "markdown",
   "metadata": {
    "id": "2Q6pTDEdu_1U"
   },
   "source": [
    "### Modeling"
   ]
  },
  {
   "cell_type": "code",
   "execution_count": 36,
   "metadata": {
    "executionInfo": {
     "elapsed": 14,
     "status": "ok",
     "timestamp": 1632859455594,
     "user": {
      "displayName": "Ahmad Habib",
      "photoUrl": "https://lh3.googleusercontent.com/a-/AOh14GhO4o_fO723EBzG9aZH_2E2uBHOgS6-H2XcOb3hrQ=s64",
      "userId": "07615486812975318675"
     },
     "user_tz": -420
    },
    "id": "VouNr2OGvH8i"
   },
   "outputs": [],
   "source": [
    "def windowed_dataset(series, window_size, batch_size, shuffle_buffer):\n",
    "    series = tf.expand_dims(series, axis=-1)\n",
    "    ds = tf.data.Dataset.from_tensor_slices(series)\n",
    "    ds = ds.window(window_size + 1, shift=1, drop_remainder=True)\n",
    "    ds = ds.flat_map(lambda w: w.batch(window_size + 1))\n",
    "    ds = ds.shuffle(shuffle_buffer)\n",
    "    ds = ds.map(lambda w: (w[:-1], w[-1:]))\n",
    "    return ds.batch(batch_size).prefetch(1)"
   ]
  },
  {
   "cell_type": "code",
   "execution_count": 37,
   "metadata": {
    "executionInfo": {
     "elapsed": 5394,
     "status": "ok",
     "timestamp": 1632859460975,
     "user": {
      "displayName": "Ahmad Habib",
      "photoUrl": "https://lh3.googleusercontent.com/a-/AOh14GhO4o_fO723EBzG9aZH_2E2uBHOgS6-H2XcOb3hrQ=s64",
      "userId": "07615486812975318675"
     },
     "user_tz": -420
    },
    "id": "6IH9YmFDvI9c"
   },
   "outputs": [],
   "source": [
    "train_set = windowed_dataset(train, window_size=60, batch_size=100, shuffle_buffer=1000)\n",
    "test_set = windowed_dataset(test, window_size=60, batch_size=100, shuffle_buffer=1000)"
   ]
  },
  {
   "cell_type": "code",
   "execution_count": 38,
   "metadata": {
    "executionInfo": {
     "elapsed": 618,
     "status": "ok",
     "timestamp": 1632859461583,
     "user": {
      "displayName": "Ahmad Habib",
      "photoUrl": "https://lh3.googleusercontent.com/a-/AOh14GhO4o_fO723EBzG9aZH_2E2uBHOgS6-H2XcOb3hrQ=s64",
      "userId": "07615486812975318675"
     },
     "user_tz": -420
    },
    "id": "re1svkdm0CTu"
   },
   "outputs": [],
   "source": [
    "from tensorflow.keras.callbacks import EarlyStopping\n",
    "\n",
    "callback=EarlyStopping(monitor=\"val_loss\",patience=5, verbose=1, mode='min')"
   ]
  },
  {
   "cell_type": "markdown",
   "metadata": {
    "id": "WHEnqBOB_Ae0"
   },
   "source": [
    "Callback yang digunakan disini adalah early stopping, kalo misalkan lossnya tidak berkurang sebanyak 5 kali maka akan berhenti training"
   ]
  },
  {
   "cell_type": "code",
   "execution_count": 39,
   "metadata": {
    "executionInfo": {
     "elapsed": 21,
     "status": "ok",
     "timestamp": 1632859461585,
     "user": {
      "displayName": "Ahmad Habib",
      "photoUrl": "https://lh3.googleusercontent.com/a-/AOh14GhO4o_fO723EBzG9aZH_2E2uBHOgS6-H2XcOb3hrQ=s64",
      "userId": "07615486812975318675"
     },
     "user_tz": -420
    },
    "id": "Vy2n3jzCx75k"
   },
   "outputs": [],
   "source": [
    "model = tf.keras.models.Sequential([\n",
    "    keras.layers.LSTM(60, return_sequences=True),\n",
    "    keras.layers.Dropout(0.2),\n",
    "    keras.layers.LSTM(60),\n",
    "    keras.layers.Dense(30, activation=\"relu\"),\n",
    "    keras.layers.Dense(10, activation=\"relu\"),\n",
    "    keras.layers.Dense(1),\n",
    "])"
   ]
  },
  {
   "cell_type": "code",
   "execution_count": 40,
   "metadata": {
    "colab": {
     "base_uri": "https://localhost:8080/"
    },
    "executionInfo": {
     "elapsed": 18,
     "status": "ok",
     "timestamp": 1632859461585,
     "user": {
      "displayName": "Ahmad Habib",
      "photoUrl": "https://lh3.googleusercontent.com/a-/AOh14GhO4o_fO723EBzG9aZH_2E2uBHOgS6-H2XcOb3hrQ=s64",
      "userId": "07615486812975318675"
     },
     "user_tz": -420
    },
    "id": "t4x3klse188o",
    "outputId": "0568f2a9-0084-4dfb-9e1a-9aa6b3f8ee1b"
   },
   "outputs": [
    {
     "data": {
      "text/plain": [
       "3.6"
      ]
     },
     "execution_count": 40,
     "metadata": {},
     "output_type": "execute_result"
    }
   ],
   "source": [
    "min_mae = (data['temp'].max() - data['temp'].min()) * 10/100 \n",
    "min_mae"
   ]
  },
  {
   "cell_type": "code",
   "execution_count": 41,
   "metadata": {
    "executionInfo": {
     "elapsed": 11,
     "status": "ok",
     "timestamp": 1632859461586,
     "user": {
      "displayName": "Ahmad Habib",
      "photoUrl": "https://lh3.googleusercontent.com/a-/AOh14GhO4o_fO723EBzG9aZH_2E2uBHOgS6-H2XcOb3hrQ=s64",
      "userId": "07615486812975318675"
     },
     "user_tz": -420
    },
    "id": "wNj5MObwvJX2"
   },
   "outputs": [],
   "source": [
    "optimizer = tf.keras.optimizers.SGD(learning_rate=1.0000e-03, momentum=0.9)\n",
    "model.compile(loss=tf.keras.losses.Huber(),\n",
    "              optimizer=optimizer,\n",
    "              metrics=[\"mae\"])"
   ]
  },
  {
   "cell_type": "code",
   "execution_count": 42,
   "metadata": {
    "colab": {
     "base_uri": "https://localhost:8080/"
    },
    "executionInfo": {
     "elapsed": 2557861,
     "status": "ok",
     "timestamp": 1632862019438,
     "user": {
      "displayName": "Ahmad Habib",
      "photoUrl": "https://lh3.googleusercontent.com/a-/AOh14GhO4o_fO723EBzG9aZH_2E2uBHOgS6-H2XcOb3hrQ=s64",
      "userId": "07615486812975318675"
     },
     "user_tz": -420
    },
    "id": "0I_mlloJxT2y",
    "outputId": "250ccc3a-41f2-45bd-8226-e230ffa56bc9"
   },
   "outputs": [
    {
     "name": "stdout",
     "output_type": "stream",
     "text": [
      "Epoch 1/50\n",
      "2117/2117 [==============================] - 104s 45ms/step - loss: 1.5864 - mae: 2.0015 - val_loss: 0.3611 - val_mae: 0.7160\n",
      "Epoch 2/50\n",
      "2117/2117 [==============================] - 93s 44ms/step - loss: 0.4898 - mae: 0.8496 - val_loss: 0.2113 - val_mae: 0.5126\n",
      "Epoch 3/50\n",
      "2117/2117 [==============================] - 94s 44ms/step - loss: 0.4355 - mae: 0.7781 - val_loss: 0.2017 - val_mae: 0.4983\n",
      "Epoch 4/50\n",
      "2117/2117 [==============================] - 95s 45ms/step - loss: 0.4059 - mae: 0.7443 - val_loss: 0.2813 - val_mae: 0.6361\n",
      "Epoch 5/50\n",
      "2117/2117 [==============================] - 95s 45ms/step - loss: 0.3943 - mae: 0.7277 - val_loss: 0.1731 - val_mae: 0.4508\n",
      "Epoch 6/50\n",
      "2117/2117 [==============================] - 95s 45ms/step - loss: 0.3853 - mae: 0.7166 - val_loss: 0.2000 - val_mae: 0.4973\n",
      "Epoch 7/50\n",
      "2117/2117 [==============================] - 95s 45ms/step - loss: 0.3827 - mae: 0.7132 - val_loss: 0.1707 - val_mae: 0.4435\n",
      "Epoch 8/50\n",
      "2117/2117 [==============================] - 94s 44ms/step - loss: 0.3762 - mae: 0.7035 - val_loss: 0.1622 - val_mae: 0.4297\n",
      "Epoch 9/50\n",
      "2117/2117 [==============================] - 95s 45ms/step - loss: 0.3747 - mae: 0.7010 - val_loss: 0.1586 - val_mae: 0.4278\n",
      "Epoch 10/50\n",
      "2117/2117 [==============================] - 93s 44ms/step - loss: 0.3721 - mae: 0.6983 - val_loss: 0.1909 - val_mae: 0.4750\n",
      "Epoch 11/50\n",
      "2117/2117 [==============================] - 94s 44ms/step - loss: 0.3692 - mae: 0.6936 - val_loss: 0.1575 - val_mae: 0.4289\n",
      "Epoch 12/50\n",
      "2117/2117 [==============================] - 93s 44ms/step - loss: 0.3687 - mae: 0.6927 - val_loss: 0.1549 - val_mae: 0.4203\n",
      "Epoch 13/50\n",
      "2117/2117 [==============================] - 93s 44ms/step - loss: 0.3634 - mae: 0.6859 - val_loss: 0.1567 - val_mae: 0.4217\n",
      "Epoch 14/50\n",
      "2117/2117 [==============================] - 94s 44ms/step - loss: 0.3622 - mae: 0.6841 - val_loss: 0.1641 - val_mae: 0.4363\n",
      "Epoch 15/50\n",
      "2117/2117 [==============================] - 95s 45ms/step - loss: 0.3607 - mae: 0.6815 - val_loss: 0.1534 - val_mae: 0.4188\n",
      "Epoch 16/50\n",
      "2117/2117 [==============================] - 94s 44ms/step - loss: 0.3604 - mae: 0.6815 - val_loss: 0.1512 - val_mae: 0.4176\n",
      "Epoch 17/50\n",
      "2117/2117 [==============================] - 94s 44ms/step - loss: 0.3560 - mae: 0.6753 - val_loss: 0.1497 - val_mae: 0.4131\n",
      "Epoch 18/50\n",
      "2117/2117 [==============================] - 95s 45ms/step - loss: 0.3593 - mae: 0.6808 - val_loss: 0.1583 - val_mae: 0.4320\n",
      "Epoch 19/50\n",
      "2117/2117 [==============================] - 95s 45ms/step - loss: 0.3585 - mae: 0.6795 - val_loss: 0.1772 - val_mae: 0.4590\n",
      "Epoch 20/50\n",
      "2117/2117 [==============================] - 95s 45ms/step - loss: 0.3552 - mae: 0.6746 - val_loss: 0.1571 - val_mae: 0.4218\n",
      "Epoch 21/50\n",
      "2117/2117 [==============================] - 94s 44ms/step - loss: 0.3534 - mae: 0.6717 - val_loss: 0.2059 - val_mae: 0.5202\n",
      "Epoch 22/50\n",
      "2117/2117 [==============================] - 94s 44ms/step - loss: 0.3532 - mae: 0.6717 - val_loss: 0.1965 - val_mae: 0.4933\n",
      "Epoch 00022: early stopping\n"
     ]
    }
   ],
   "source": [
    "history = model.fit(train_set,epochs=50, callbacks=[callback], validation_data=test_set)"
   ]
  },
  {
   "cell_type": "code",
   "execution_count": 46,
   "metadata": {
    "colab": {
     "base_uri": "https://localhost:8080/",
     "height": 281
    },
    "executionInfo": {
     "elapsed": 370,
     "status": "ok",
     "timestamp": 1632862280670,
     "user": {
      "displayName": "Ahmad Habib",
      "photoUrl": "https://lh3.googleusercontent.com/a-/AOh14GhO4o_fO723EBzG9aZH_2E2uBHOgS6-H2XcOb3hrQ=s64",
      "userId": "07615486812975318675"
     },
     "user_tz": -420
    },
    "id": "7_56jnKF6Dhn",
    "outputId": "2ccae9a6-c327-4cc3-9292-a01f01dcc428"
   },
   "outputs": [
    {
     "data": {
      "image/png": "[encoded data removed]",
      "text/plain": [
       "<Figure size 432x288 with 1 Axes>"
      ]
     },
     "metadata": {
      "needs_background": "light"
     },
     "output_type": "display_data"
    }
   ],
   "source": [
    "plt.plot(history.history['loss'],c='b')\n",
    "plt.title(\"Grafik Loss Training\")\n",
    "plt.show()"
   ]
  },
  {
   "cell_type": "code",
   "execution_count": 47,
   "metadata": {
    "colab": {
     "base_uri": "https://localhost:8080/",
     "height": 281
    },
    "executionInfo": {
     "elapsed": 383,
     "status": "ok",
     "timestamp": 1632862286144,
     "user": {
      "displayName": "Ahmad Habib",
      "photoUrl": "https://lh3.googleusercontent.com/a-/AOh14GhO4o_fO723EBzG9aZH_2E2uBHOgS6-H2XcOb3hrQ=s64",
      "userId": "07615486812975318675"
     },
     "user_tz": -420
    },
    "id": "_rnhTY1_EdJs",
    "outputId": "086905cd-8ff9-40e5-a914-987d3912c5b4"
   },
   "outputs": [
    {
     "data": {
      "image/png": "[encoded data removed]",
      "text/plain": [
       "<Figure size 432x288 with 1 Axes>"
      ]
     },
     "metadata": {
      "needs_background": "light"
     },
     "output_type": "display_data"
    }
   ],
   "source": [
    "plt.plot(history.history['mae'],c='b')\n",
    "plt.title(\"Grafik Mae Training\")\n",
    "plt.show()"
   ]
  },
  {
   "cell_type": "code",
   "execution_count": 48,
   "metadata": {
    "colab": {
     "base_uri": "https://localhost:8080/",
     "height": 281
    },
    "executionInfo": {
     "elapsed": 371,
     "status": "ok",
     "timestamp": 1632862309817,
     "user": {
      "displayName": "Ahmad Habib",
      "photoUrl": "https://lh3.googleusercontent.com/a-/AOh14GhO4o_fO723EBzG9aZH_2E2uBHOgS6-H2XcOb3hrQ=s64",
      "userId": "07615486812975318675"
     },
     "user_tz": -420
    },
    "id": "qqI4YcmCEmcl",
    "outputId": "c9a71472-d383-4202-b174-24373d014cdc"
   },
   "outputs": [
    {
     "data": {
      "image/png": "[encoded data removed]",
      "text/plain": [
       "<Figure size 432x288 with 1 Axes>"
      ]
     },
     "metadata": {
      "needs_background": "light"
     },
     "output_type": "display_data"
    }
   ],
   "source": [
    "plt.plot(history.history['val_loss'],c='b')\n",
    "plt.title(\"Grafik Loss Validasi\")\n",
    "plt.show()"
   ]
  },
  {
   "cell_type": "code",
   "execution_count": 49,
   "metadata": {
    "colab": {
     "base_uri": "https://localhost:8080/",
     "height": 281
    },
    "executionInfo": {
     "elapsed": 441,
     "status": "ok",
     "timestamp": 1632862323932,
     "user": {
      "displayName": "Ahmad Habib",
      "photoUrl": "https://lh3.googleusercontent.com/a-/AOh14GhO4o_fO723EBzG9aZH_2E2uBHOgS6-H2XcOb3hrQ=s64",
      "userId": "07615486812975318675"
     },
     "user_tz": -420
    },
    "id": "BsIEpRpmE2n5",
    "outputId": "718d1184-590e-4e4d-8305-9c1ecf3ccd96"
   },
   "outputs": [
    {
     "data": {
      "image/png": "[encoded data removed]",
      "text/plain": [
       "<Figure size 432x288 with 1 Axes>"
      ]
     },
     "metadata": {
      "needs_background": "light"
     },
     "output_type": "display_data"
    }
   ],
   "source": [
    "plt.plot(history.history['val_mae'],c='b')\n",
    "plt.title(\"Grafik Mae Validasi\")\n",
    "plt.show()"
   ]
  },
  {
   "cell_type": "code",
   "execution_count": null,
   "metadata": {
    "id": "-igFLauPLcEC"
   },
   "outputs": [],
   "source": []
  }
 ],
 "metadata": {
  "accelerator": "GPU",
  "colab": {
   "authorship_tag": "ABX9TyMqJsI44FpLbYpMI+5GSNhB",
   "collapsed_sections": [
    "kHQo9ycTbq3P",
    "OqfDi7TblRxg"
   ],
   "name": "Submission_TimeSeries.ipynb",
   "provenance": []
  },
  "kernelspec": {
   "display_name": "Python 3",
   "language": "python",
   "name": "python3"
  },
  "language_info": {
   "codemirror_mode": {
    "name": "ipython",
    "version": 3
   },
   "file_extension": ".py",
   "mimetype": "text/x-python",
   "name": "python",
   "nbconvert_exporter": "python",
   "pygments_lexer": "ipython3",
   "version": "3.8.5"
  },
  "varInspector": {
   "cols": {
    "lenName": 16,
    "lenType": 16,
    "lenVar": 40
   },
   "kernels_config": {
    "python": {
     "delete_cmd_postfix": "",
     "delete_cmd_prefix": "del ",
     "library": "var_list.py",
     "varRefreshCmd": "print(var_dic_list())"
    },
    "r": {
     "delete_cmd_postfix": ") ",
     "delete_cmd_prefix": "rm(",
     "library": "var_list.r",
     "varRefreshCmd": "cat(var_dic_list()) "
    }
   },
   "types_to_exclude": [
    "module",
    "function",
    "builtin_function_or_method",
    "instance",
    "_Feature"
   ],
   "window_display": false
  }
 },
 "nbformat": 4,
 "nbformat_minor": 1
}
