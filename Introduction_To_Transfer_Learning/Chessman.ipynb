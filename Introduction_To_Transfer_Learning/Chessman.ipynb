{
 "cells": [
  {
   "cell_type": "code",
   "execution_count": null,
   "metadata": {
    "colab": {
     "base_uri": "https://localhost:8080/"
    },
    "executionInfo": {
     "elapsed": 6197,
     "status": "ok",
     "timestamp": 1633845334882,
     "user": {
      "displayName": "Ahmad Habib",
      "photoUrl": "https://lh3.googleusercontent.com/a-/AOh14GhO4o_fO723EBzG9aZH_2E2uBHOgS6-H2XcOb3hrQ=s64",
      "userId": "07615486812975318675"
     },
     "user_tz": -420
    },
    "id": "bucwz2o0245z",
    "outputId": "ebfcf3e9-d1dc-4d69-da4c-e35b78ed6920"
   },
   "outputs": [
    {
     "name": "stdout",
     "output_type": "stream",
     "text": [
      "Collecting wget\n",
      "  Downloading wget-3.2.zip (10 kB)\n",
      "Building wheels for collected packages: wget\n",
      "  Building wheel for wget (setup.py) ... \u001b[?25l\u001b[?25hdone\n",
      "  Created wheel for wget: filename=wget-3.2-py3-none-any.whl size=9672 sha256=7758026ae574009a145eb3b1796f779a32f3013c0f344cc1c2c468ed5b685024\n",
      "  Stored in directory: /root/.cache/pip/wheels/a1/b6/7c/0e63e34eb06634181c63adacca38b79ff8f35c37e3c13e3c02\n",
      "Successfully built wget\n",
      "Installing collected packages: wget\n",
      "Successfully installed wget-3.2\n"
     ]
    }
   ],
   "source": [
    "!pip install wget"
   ]
  },
  {
   "cell_type": "markdown",
   "metadata": {},
   "source": [
    "# Import cummon package"
   ]
  },
  {
   "cell_type": "code",
   "execution_count": null,
   "metadata": {
    "id": "L7JLs6Hg3Tkg"
   },
   "outputs": [],
   "source": [
    "import tensorflow as tf\n",
    "import numpy as np\n",
    "from tensorflow import keras\n",
    "import wget\n",
    "import zipfile\n",
    "from tqdm import tqdm\n",
    "import os"
   ]
  },
  {
   "cell_type": "markdown",
   "metadata": {},
   "source": [
    "# Download File"
   ]
  },
  {
   "cell_type": "code",
   "execution_count": null,
   "metadata": {
    "colab": {
     "base_uri": "https://localhost:8080/"
    },
    "executionInfo": {
     "elapsed": 855,
     "status": "ok",
     "timestamp": 1633845337125,
     "user": {
      "displayName": "Ahmad Habib",
      "photoUrl": "https://lh3.googleusercontent.com/a-/AOh14GhO4o_fO723EBzG9aZH_2E2uBHOgS6-H2XcOb3hrQ=s64",
      "userId": "07615486812975318675"
     },
     "user_tz": -420
    },
    "id": "2FapqhiS3kif",
    "outputId": "dd4c4b0e-1c5e-4a15-d2a3-e546a9e54fc5"
   },
   "outputs": [
    {
     "name": "stdout",
     "output_type": "stream",
     "text": [
      "\n",
      "Download Selesai\n"
     ]
    }
   ],
   "source": [
    "if os.path.isfile('Chessman-image-dataset.zip'):\n",
    "    print(\"File Sudah ada\")\n",
    "else:\n",
    "    wget.download(\n",
    "        url='https://github.com/dicodingacademy/assets/raw/main/ml_pengembangan_academy/Chessman-image-dataset.zip'\n",
    "    )\n",
    "    print(\"\\nDownload Selesai\")"
   ]
  },
  {
   "cell_type": "markdown",
   "metadata": {},
   "source": [
    "# Extract Zipfile"
   ]
  },
  {
   "cell_type": "code",
   "execution_count": null,
   "metadata": {
    "colab": {
     "base_uri": "https://localhost:8080/"
    },
    "executionInfo": {
     "elapsed": 831,
     "status": "ok",
     "timestamp": 1633845337946,
     "user": {
      "displayName": "Ahmad Habib",
      "photoUrl": "https://lh3.googleusercontent.com/a-/AOh14GhO4o_fO723EBzG9aZH_2E2uBHOgS6-H2XcOb3hrQ=s64",
      "userId": "07615486812975318675"
     },
     "user_tz": -420
    },
    "id": "_CUpj0YH5d0J",
    "outputId": "7818ec52-58e8-4e51-bd8c-139f2fae9ed3"
   },
   "outputs": [
    {
     "name": "stderr",
     "output_type": "stream",
     "text": [
      "Extracting: 100%|██████████| 1128/1128 [00:00<00:00, 1296.77it/s]"
     ]
    },
    {
     "name": "stdout",
     "output_type": "stream",
     "text": [
      "Proses extract berhasil\n"
     ]
    },
    {
     "name": "stderr",
     "output_type": "stream",
     "text": [
      "\n"
     ]
    }
   ],
   "source": [
    "if os.path.exists('/content/Chessman-image-dataset'):\n",
    "    print(\"File Sudah di extract\")\n",
    "else:\n",
    "    with zipfile.ZipFile('Chessman-image-dataset.zip', mode='r') as zip_file:\n",
    "        for zf in tqdm(zip_file.infolist(), desc=\"Extracting\"):\n",
    "            try:\n",
    "                zip_file.extract(zf)                \n",
    "            except Exception as e:\n",
    "                print(e)\n",
    "    zip_file.close()\n",
    "    print(\"Proses extract berhasil\")"
   ]
  },
  {
   "cell_type": "markdown",
   "metadata": {},
   "source": [
    "### Simple EDA"
   ]
  },
  {
   "cell_type": "code",
   "execution_count": null,
   "metadata": {
    "colab": {
     "base_uri": "https://localhost:8080/"
    },
    "executionInfo": {
     "elapsed": 13,
     "status": "ok",
     "timestamp": 1633845337947,
     "user": {
      "displayName": "Ahmad Habib",
      "photoUrl": "https://lh3.googleusercontent.com/a-/AOh14GhO4o_fO723EBzG9aZH_2E2uBHOgS6-H2XcOb3hrQ=s64",
      "userId": "07615486812975318675"
     },
     "user_tz": -420
    },
    "id": "SgHmfUYmFe4u",
    "outputId": "1772f17a-cb0b-4c1f-eedd-d7731b132e86"
   },
   "outputs": [
    {
     "name": "stdout",
     "output_type": "stream",
     "text": [
      "Rook => sebanyak  102\n",
      "Bishop => sebanyak  87\n",
      "Pawn => sebanyak  107\n",
      "King => sebanyak  76\n",
      "Knight => sebanyak  106\n",
      "Queen => sebanyak  78\n"
     ]
    }
   ],
   "source": [
    "path = '/content/Chessman-image-dataset/Chess'\n",
    "path_dict = {}\n",
    "for i in os.listdir(path):\n",
    "    path_dict[i] = os.listdir(os.path.join(path, i))\n",
    "    print(i, \"=> sebanyak \", len(os.listdir(os.path.join(path, i))))"
   ]
  },
  {
   "cell_type": "code",
   "execution_count": null,
   "metadata": {
    "colab": {
     "base_uri": "https://localhost:8080/"
    },
    "executionInfo": {
     "elapsed": 9,
     "status": "ok",
     "timestamp": 1633845337948,
     "user": {
      "displayName": "Ahmad Habib",
      "photoUrl": "https://lh3.googleusercontent.com/a-/AOh14GhO4o_fO723EBzG9aZH_2E2uBHOgS6-H2XcOb3hrQ=s64",
      "userId": "07615486812975318675"
     },
     "user_tz": -420
    },
    "id": "Tjqk7B83X6sZ",
    "outputId": "cce6ba44-7baf-474f-a472-1e8ba25db5ba"
   },
   "outputs": [
    {
     "data": {
      "text/plain": [
       "dict_keys(['Rook', 'Bishop', 'Pawn', 'King', 'Knight', 'Queen'])"
      ]
     },
     "execution_count": 6,
     "metadata": {},
     "output_type": "execute_result"
    }
   ],
   "source": [
    "path_dict.keys()"
   ]
  },
  {
   "cell_type": "code",
   "execution_count": null,
   "metadata": {
    "id": "ydVJes2T6qz9"
   },
   "outputs": [],
   "source": [
    "import matplotlib.pyplot as plt\n",
    "from keras.preprocessing import image"
   ]
  },
  {
   "cell_type": "code",
   "execution_count": null,
   "metadata": {
    "colab": {
     "base_uri": "https://localhost:8080/",
     "height": 281
    },
    "executionInfo": {
     "elapsed": 8,
     "status": "ok",
     "timestamp": 1633845338890,
     "user": {
      "displayName": "Ahmad Habib",
      "photoUrl": "https://lh3.googleusercontent.com/a-/AOh14GhO4o_fO723EBzG9aZH_2E2uBHOgS6-H2XcOb3hrQ=s64",
      "userId": "07615486812975318675"
     },
     "user_tz": -420
    },
    "id": "H2QQcTk0FOwq",
    "outputId": "91b1ac24-f415-48ac-df5d-3f99d1784b20"
   },
   "outputs": [
    {
     "data": {
      "image/png": "[encoded data removed]",
      "text/plain": [
       "<Figure size 432x288 with 1 Axes>"
      ]
     },
     "metadata": {
      "needs_background": "light"
     },
     "output_type": "display_data"
    }
   ],
   "source": [
    "classes = os.listdir(path)\n",
    "idx_classes = np.random.randint(0, len(classes))\n",
    "values = os.listdir(os.path.join(path, classes[idx_classes]))\n",
    "idx_values = np.random.randint(0,50)\n",
    "new_path = os.path.join(path, classes[idx_classes])\n",
    "img = image.load_img(os.path.join(new_path, values[idx_values]))\n",
    "plt.imshow(img)\n",
    "plt.title(classes[idx_classes].upper())\n",
    "plt.show()"
   ]
  },
  {
   "cell_type": "markdown",
   "metadata": {},
   "source": [
    "### Split data"
   ]
  },
  {
   "cell_type": "code",
   "execution_count": null,
   "metadata": {
    "id": "TB5-gzqjXZHC"
   },
   "outputs": [],
   "source": [
    "def pisah_data(data):\n",
    "\n",
    "    \"\"\"Fungsi ini untuk memisahkan data menjadi train set dan validation_set\n",
    "    dengan urutan hasil return : data_train, data_validasi\"\"\"\n",
    "    panjang_train = int(0.8*len(data))\n",
    "    panjang_val = int(0.2*len(data))\n",
    "    selisih =len(data) - (panjang_train + panjang_val)\n",
    "    print(len(data), \" - ( \",panjang_train, \" + \", panjang_val,\" ) = \",selisih)\n",
    "    if selisih > 0:\n",
    "        panjang_val +=selisih\n",
    "    data_train = []\n",
    "    #memilih data train dari data\n",
    "    while len(data_train) != panjang_train:\n",
    "        bantu = np.random.randint(0, (len(data)-1))\n",
    "        if data[bantu] not in data_train:\n",
    "            data_train.append(data[bantu])\n",
    "            del data[bantu]\n",
    "    #Sisanya Dicopy kedalam Train\n",
    "    data_validasi = data.copy()\n",
    "    del data\n",
    "    print(\"Panjang train : \",panjang_train)\n",
    "    print(\"Panjang validasi : \",panjang_val,\"\\n\")\n",
    "    return data_train, data_validasi"
   ]
  },
  {
   "cell_type": "code",
   "execution_count": null,
   "metadata": {
    "colab": {
     "base_uri": "https://localhost:8080/"
    },
    "executionInfo": {
     "elapsed": 5,
     "status": "ok",
     "timestamp": 1633845342014,
     "user": {
      "displayName": "Ahmad Habib",
      "photoUrl": "https://lh3.googleusercontent.com/a-/AOh14GhO4o_fO723EBzG9aZH_2E2uBHOgS6-H2XcOb3hrQ=s64",
      "userId": "07615486812975318675"
     },
     "user_tz": -420
    },
    "id": "025jM-0oYNM7",
    "outputId": "8e0d86c0-5067-48db-fadf-e9d8d19690bf"
   },
   "outputs": [
    {
     "name": "stdout",
     "output_type": "stream",
     "text": [
      "102  - (  81  +  20  ) =  1\n",
      "Panjang train :  81\n",
      "Panjang validasi :  21 \n",
      "\n",
      "87  - (  69  +  17  ) =  1\n",
      "Panjang train :  69\n",
      "Panjang validasi :  18 \n",
      "\n",
      "107  - (  85  +  21  ) =  1\n",
      "Panjang train :  85\n",
      "Panjang validasi :  22 \n",
      "\n",
      "76  - (  60  +  15  ) =  1\n",
      "Panjang train :  60\n",
      "Panjang validasi :  16 \n",
      "\n",
      "106  - (  84  +  21  ) =  1\n",
      "Panjang train :  84\n",
      "Panjang validasi :  22 \n",
      "\n",
      "78  - (  62  +  15  ) =  1\n",
      "Panjang train :  62\n",
      "Panjang validasi :  16 \n",
      "\n"
     ]
    }
   ],
   "source": [
    "dict_train_test = {}\n",
    "for cls in path_dict.keys():\n",
    "    dict_train_test[cls] = pisah_data(path_dict[cls])"
   ]
  },
  {
   "cell_type": "code",
   "execution_count": null,
   "metadata": {
    "id": "OKNa6f-MYbTs"
   },
   "outputs": [],
   "source": [
    "dict_train_test"
   ]
  },
  {
   "cell_type": "code",
   "execution_count": null,
   "metadata": {
    "id": "qkTkkgxGdRw7"
   },
   "outputs": [],
   "source": [
    "import shutil"
   ]
  },
  {
   "cell_type": "code",
   "execution_count": null,
   "metadata": {
    "id": "QPgi5okuaVWG"
   },
   "outputs": [],
   "source": [
    "#Selanjutnya pindahkan ke folder terpisah\n",
    "\n",
    "#Membuat fungsi untuk membuat folder penyimpanan dan memindahkan data yang telah dipisahkan kedalam folder tersebut\n",
    "def move(data_train, data_val, lokasi_data, lokasi_train, lokasi_validasi):\n",
    "  \n",
    "    \"\"\"Fungsi ini untuk membuat folder penyimpanan dan \n",
    "    memasukan data yang telah dipisahkan dengan folder tersebut\"\"\"\n",
    "     \n",
    "    #Memeriksa apakan folder sudah ada, jika belum maka tambahkan folder\n",
    "    if not (os.path.exists(lokasi_train) and os.path.exists(lokasi_validasi)):\n",
    "        os.makedirs(lokasi_train)\n",
    "        os.makedirs(lokasi_validasi)\n",
    "    else:\n",
    "        print('Folder Sudah ada')\n",
    "     \n",
    "    #memindahkan ke folder terpisah\n",
    "    for i in range(len(data_train)):\n",
    "        shutil.move(os.path.join(lokasi_data, data_train[i]), os.path.join(lokasi_train, data_train[i]))\n",
    "     \n",
    "    #memindahkan ke folder terpisah\n",
    "    for i in range(len(data_val)):\n",
    "        shutil.move(os.path.join(lokasi_data, data_val[i]), os.path.join(lokasi_validasi, data_val[i]))"
   ]
  },
  {
   "cell_type": "code",
   "execution_count": null,
   "metadata": {
    "id": "ZsuGX-3Nb5OG"
   },
   "outputs": [],
   "source": [
    "lokasi_train_set = '/content/Chessman-image-dataset/Chess/train'\n",
    "lokasi_test_set = '/content/Chessman-image-dataset/Chess/test'"
   ]
  },
  {
   "cell_type": "code",
   "execution_count": null,
   "metadata": {
    "id": "1Uqh0uPhbqcx"
   },
   "outputs": [],
   "source": [
    "for cls in path_dict.keys():\n",
    "    move(\n",
    "       data_train =  dict_train_test[cls][0],\n",
    "       data_val = dict_train_test[cls][1],\n",
    "       lokasi_data = os.path.join(path, cls),\n",
    "       lokasi_train = os.path.join(lokasi_train_set,cls),\n",
    "       lokasi_validasi = os.path.join(lokasi_test_set,cls)\n",
    "    )\n",
    "    shutil.rmtree(os.path.join(path, cls))"
   ]
  },
  {
   "cell_type": "code",
   "execution_count": null,
   "metadata": {
    "id": "9kVGZn7CgkkK"
   },
   "outputs": [],
   "source": [
    "shutil.rmtree('__MACOSX/')"
   ]
  },
  {
   "cell_type": "code",
   "execution_count": null,
   "metadata": {
    "id": "XP0m9N1BxFtn"
   },
   "outputs": [],
   "source": []
  },
  {
   "cell_type": "code",
   "execution_count": null,
   "metadata": {
    "id": "sEgHxQ5-bf30"
   },
   "outputs": [],
   "source": [
    "train_dir = os.path.join('/content/Chessman-image-dataset/Chess/train')\n",
    "train_datagen = image.ImageDataGenerator(rescale=1./255,\n",
    "    rotation_range=20,\n",
    "    zoom_range=0.2,\n",
    "    shear_range=0.2,\n",
    "    fill_mode = 'nearest',\n",
    "    validation_split=0.1) # set validation split"
   ]
  },
  {
   "cell_type": "code",
   "execution_count": null,
   "metadata": {
    "colab": {
     "base_uri": "https://localhost:8080/"
    },
    "executionInfo": {
     "elapsed": 266,
     "status": "ok",
     "timestamp": 1633845398111,
     "user": {
      "displayName": "Ahmad Habib",
      "photoUrl": "https://lh3.googleusercontent.com/a-/AOh14GhO4o_fO723EBzG9aZH_2E2uBHOgS6-H2XcOb3hrQ=s64",
      "userId": "07615486812975318675"
     },
     "user_tz": -420
    },
    "id": "-XK-uHT1h4oW",
    "outputId": "35b31d05-2977-42c2-a87f-402e8e021c06"
   },
   "outputs": [
    {
     "name": "stdout",
     "output_type": "stream",
     "text": [
      "Found 396 images belonging to 6 classes.\n",
      "Found 41 images belonging to 6 classes.\n"
     ]
    }
   ],
   "source": [
    "train_generator = train_datagen.flow_from_directory(\n",
    "    train_dir,\n",
    "    target_size=(150, 150),\n",
    "    batch_size=8,\n",
    "    class_mode='categorical',\n",
    "    subset='training') # set as training data\n",
    "validation_generator = train_datagen.flow_from_directory(\n",
    "    train_dir, # same directory as training data\n",
    "    target_size=(150, 150),\n",
    "    batch_size=16,\n",
    "    class_mode='categorical',\n",
    "    subset='validation')"
   ]
  },
  {
   "cell_type": "markdown",
   "metadata": {},
   "source": [
    "# Build Simple model"
   ]
  },
  {
   "cell_type": "code",
   "execution_count": null,
   "metadata": {
    "id": "bFea2pQqiUkf"
   },
   "outputs": [],
   "source": [
    "model = tf.keras.models.Sequential([\n",
    "    # Note the input shape is the desired size of the image 150x150 with 3 bytes color\n",
    "    tf.keras.layers.Conv2D(64, (3,3), activation='relu', input_shape=(150, 150, 3)),\n",
    "    tf.keras.layers.MaxPooling2D(2,2),\n",
    "    tf.keras.layers.Conv2D(32, (3,3), activation='relu'),\n",
    "    tf.keras.layers.MaxPooling2D(2,2),\n",
    "    tf.keras.layers.Dropout(0.4),  \n",
    "    tf.keras.layers.Conv2D(64, (3,3), activation='relu'), \n",
    "    tf.keras.layers.MaxPooling2D(2,2),\n",
    "    tf.keras.layers.Dropout(0.4),  \n",
    "    # Flatten the results to feed into a DNN\n",
    "    tf.keras.layers.Flatten(), \n",
    "    # 512 neuron hidden layer\n",
    "    tf.keras.layers.Dense(512, activation='relu'),\n",
    "    tf.keras.layers.Dense(256, activation='relu'),\n",
    "    # Only 1 output neuron. It will contain a value from 0-1 where 0 for 1 class ('cats') and 1 for the other ('dogs')\n",
    "    tf.keras.layers.Dense(6, activation='softmax')  \n",
    "])"
   ]
  },
  {
   "cell_type": "code",
   "execution_count": null,
   "metadata": {
    "id": "Xm7Oua4pjQuL"
   },
   "outputs": [],
   "source": [
    "model.compile(optimizer=tf.optimizers.Adam(),\n",
    "              loss='categorical_crossentropy',\n",
    "              metrics = ['accuracy'])"
   ]
  },
  {
   "cell_type": "code",
   "execution_count": null,
   "metadata": {
    "id": "elkDn0gxksDg"
   },
   "outputs": [],
   "source": [
    "class myCallback(tf.keras.callbacks.Callback):\n",
    "    def on_epoch_end(self, epoch, logs={}):\n",
    "        if(logs.get('accuracy')>0.9):\n",
    "            print(\"\\nAkurasi telah mencapai >90%!\")\n",
    "            self.model.stop_training = True\n",
    "callbacks = myCallback()"
   ]
  },
  {
   "cell_type": "code",
   "execution_count": null,
   "metadata": {
    "colab": {
     "base_uri": "https://localhost:8080/"
    },
    "executionInfo": {
     "elapsed": 529719,
     "status": "ok",
     "timestamp": 1633845933675,
     "user": {
      "displayName": "Ahmad Habib",
      "photoUrl": "https://lh3.googleusercontent.com/a-/AOh14GhO4o_fO723EBzG9aZH_2E2uBHOgS6-H2XcOb3hrQ=s64",
      "userId": "07615486812975318675"
     },
     "user_tz": -420
    },
    "id": "hMnQqD9NjVTu",
    "outputId": "75c13a91-0cac-4d5d-f764-49fce5d23c6f"
   },
   "outputs": [
    {
     "name": "stdout",
     "output_type": "stream",
     "text": [
      "Epoch 1/100\n",
      "50/50 - 39s - loss: 1.9200 - accuracy: 0.1692 - val_loss: 1.7886 - val_accuracy: 0.1951\n",
      "Epoch 2/100\n",
      "50/50 - 8s - loss: 1.7917 - accuracy: 0.1818 - val_loss: 1.7855 - val_accuracy: 0.1951\n",
      "Epoch 3/100\n",
      "50/50 - 8s - loss: 1.7786 - accuracy: 0.1944 - val_loss: 1.7776 - val_accuracy: 0.1951\n",
      "Epoch 4/100\n",
      "50/50 - 8s - loss: 1.7785 - accuracy: 0.2424 - val_loss: 1.6971 - val_accuracy: 0.3171\n",
      "Epoch 5/100\n",
      "50/50 - 8s - loss: 1.7206 - accuracy: 0.2828 - val_loss: 1.7436 - val_accuracy: 0.2439\n",
      "Epoch 6/100\n",
      "50/50 - 8s - loss: 1.6976 - accuracy: 0.2904 - val_loss: 1.6815 - val_accuracy: 0.3659\n",
      "Epoch 7/100\n",
      "50/50 - 8s - loss: 1.6777 - accuracy: 0.3106 - val_loss: 1.6822 - val_accuracy: 0.2927\n",
      "Epoch 8/100\n",
      "50/50 - 8s - loss: 1.6456 - accuracy: 0.2980 - val_loss: 1.6684 - val_accuracy: 0.3902\n",
      "Epoch 9/100\n",
      "50/50 - 8s - loss: 1.6085 - accuracy: 0.3561 - val_loss: 1.6286 - val_accuracy: 0.4634\n",
      "Epoch 10/100\n",
      "50/50 - 8s - loss: 1.5568 - accuracy: 0.4015 - val_loss: 1.5998 - val_accuracy: 0.3902\n",
      "Epoch 11/100\n",
      "50/50 - 8s - loss: 1.4799 - accuracy: 0.4066 - val_loss: 1.6361 - val_accuracy: 0.2927\n",
      "Epoch 12/100\n",
      "50/50 - 8s - loss: 1.4624 - accuracy: 0.4343 - val_loss: 1.4001 - val_accuracy: 0.4878\n",
      "Epoch 13/100\n",
      "50/50 - 8s - loss: 1.3633 - accuracy: 0.4646 - val_loss: 1.4235 - val_accuracy: 0.4878\n",
      "Epoch 14/100\n",
      "50/50 - 8s - loss: 1.3346 - accuracy: 0.4722 - val_loss: 1.4136 - val_accuracy: 0.5122\n",
      "Epoch 15/100\n",
      "50/50 - 8s - loss: 1.3320 - accuracy: 0.4722 - val_loss: 1.4917 - val_accuracy: 0.4878\n",
      "Epoch 16/100\n",
      "50/50 - 9s - loss: 1.2331 - accuracy: 0.5152 - val_loss: 1.3981 - val_accuracy: 0.5122\n",
      "Epoch 17/100\n",
      "50/50 - 8s - loss: 1.1840 - accuracy: 0.5303 - val_loss: 1.9425 - val_accuracy: 0.2927\n",
      "Epoch 18/100\n",
      "50/50 - 8s - loss: 1.1567 - accuracy: 0.5328 - val_loss: 1.4292 - val_accuracy: 0.5366\n",
      "Epoch 19/100\n",
      "50/50 - 9s - loss: 1.1201 - accuracy: 0.5707 - val_loss: 1.5830 - val_accuracy: 0.4634\n",
      "Epoch 20/100\n",
      "50/50 - 9s - loss: 1.1166 - accuracy: 0.5631 - val_loss: 1.3959 - val_accuracy: 0.4634\n",
      "Epoch 21/100\n",
      "50/50 - 9s - loss: 0.9977 - accuracy: 0.6465 - val_loss: 1.4248 - val_accuracy: 0.5122\n",
      "Epoch 22/100\n",
      "50/50 - 9s - loss: 1.0350 - accuracy: 0.6010 - val_loss: 1.6360 - val_accuracy: 0.4146\n",
      "Epoch 23/100\n",
      "50/50 - 9s - loss: 0.9721 - accuracy: 0.6187 - val_loss: 1.5947 - val_accuracy: 0.4390\n",
      "Epoch 24/100\n",
      "50/50 - 9s - loss: 0.9665 - accuracy: 0.6338 - val_loss: 1.3902 - val_accuracy: 0.4878\n",
      "Epoch 25/100\n",
      "50/50 - 9s - loss: 1.0041 - accuracy: 0.6061 - val_loss: 1.6538 - val_accuracy: 0.3902\n",
      "Epoch 26/100\n",
      "50/50 - 9s - loss: 0.9617 - accuracy: 0.6540 - val_loss: 1.5463 - val_accuracy: 0.4634\n",
      "Epoch 27/100\n",
      "50/50 - 9s - loss: 0.8012 - accuracy: 0.7197 - val_loss: 1.4661 - val_accuracy: 0.5366\n",
      "Epoch 28/100\n",
      "50/50 - 8s - loss: 0.8039 - accuracy: 0.6995 - val_loss: 1.7615 - val_accuracy: 0.5122\n",
      "Epoch 29/100\n",
      "50/50 - 8s - loss: 0.7246 - accuracy: 0.7096 - val_loss: 1.6347 - val_accuracy: 0.4634\n",
      "Epoch 30/100\n",
      "50/50 - 8s - loss: 0.8512 - accuracy: 0.6995 - val_loss: 1.4642 - val_accuracy: 0.4634\n",
      "Epoch 31/100\n",
      "50/50 - 8s - loss: 0.6630 - accuracy: 0.7551 - val_loss: 1.6600 - val_accuracy: 0.4146\n",
      "Epoch 32/100\n",
      "50/50 - 8s - loss: 0.7178 - accuracy: 0.7449 - val_loss: 1.7024 - val_accuracy: 0.5122\n",
      "Epoch 33/100\n",
      "50/50 - 8s - loss: 0.7025 - accuracy: 0.7500 - val_loss: 1.2758 - val_accuracy: 0.5122\n",
      "Epoch 34/100\n",
      "50/50 - 9s - loss: 0.6943 - accuracy: 0.7424 - val_loss: 1.4027 - val_accuracy: 0.5366\n",
      "Epoch 35/100\n",
      "50/50 - 8s - loss: 0.6355 - accuracy: 0.7727 - val_loss: 1.6077 - val_accuracy: 0.5122\n",
      "Epoch 36/100\n",
      "50/50 - 8s - loss: 0.5984 - accuracy: 0.7828 - val_loss: 1.5950 - val_accuracy: 0.4878\n",
      "Epoch 37/100\n",
      "50/50 - 8s - loss: 0.6830 - accuracy: 0.7424 - val_loss: 1.5932 - val_accuracy: 0.5122\n",
      "Epoch 38/100\n",
      "50/50 - 9s - loss: 0.5922 - accuracy: 0.8005 - val_loss: 1.4621 - val_accuracy: 0.4390\n",
      "Epoch 39/100\n",
      "50/50 - 8s - loss: 0.6057 - accuracy: 0.7601 - val_loss: 1.5281 - val_accuracy: 0.5122\n",
      "Epoch 40/100\n",
      "50/50 - 8s - loss: 0.5131 - accuracy: 0.8131 - val_loss: 1.8897 - val_accuracy: 0.4634\n",
      "Epoch 41/100\n",
      "50/50 - 8s - loss: 0.5431 - accuracy: 0.8333 - val_loss: 1.2768 - val_accuracy: 0.5122\n",
      "Epoch 42/100\n",
      "50/50 - 8s - loss: 0.5394 - accuracy: 0.8207 - val_loss: 1.6988 - val_accuracy: 0.5122\n",
      "Epoch 43/100\n",
      "50/50 - 8s - loss: 0.4296 - accuracy: 0.8485 - val_loss: 1.7633 - val_accuracy: 0.5610\n",
      "Epoch 44/100\n",
      "50/50 - 8s - loss: 0.4063 - accuracy: 0.8636 - val_loss: 1.3670 - val_accuracy: 0.5854\n",
      "Epoch 45/100\n",
      "50/50 - 8s - loss: 0.5007 - accuracy: 0.8131 - val_loss: 2.2183 - val_accuracy: 0.3415\n",
      "Epoch 46/100\n",
      "50/50 - 8s - loss: 0.3612 - accuracy: 0.8788 - val_loss: 1.7163 - val_accuracy: 0.4146\n",
      "Epoch 47/100\n",
      "50/50 - 8s - loss: 0.5561 - accuracy: 0.8232 - val_loss: 1.6241 - val_accuracy: 0.4878\n",
      "Epoch 48/100\n",
      "50/50 - 8s - loss: 0.4265 - accuracy: 0.8434 - val_loss: 1.8919 - val_accuracy: 0.5366\n",
      "Epoch 49/100\n",
      "50/50 - 8s - loss: 0.4320 - accuracy: 0.8384 - val_loss: 1.6762 - val_accuracy: 0.4634\n",
      "Epoch 50/100\n",
      "50/50 - 8s - loss: 0.4296 - accuracy: 0.8434 - val_loss: 1.5112 - val_accuracy: 0.4634\n",
      "Epoch 51/100\n",
      "50/50 - 8s - loss: 0.3340 - accuracy: 0.8990 - val_loss: 1.9048 - val_accuracy: 0.4878\n",
      "Epoch 52/100\n",
      "50/50 - 8s - loss: 0.3772 - accuracy: 0.8813 - val_loss: 1.9986 - val_accuracy: 0.3659\n",
      "Epoch 53/100\n",
      "50/50 - 8s - loss: 0.4115 - accuracy: 0.8535 - val_loss: 1.9534 - val_accuracy: 0.3902\n",
      "Epoch 54/100\n",
      "50/50 - 8s - loss: 0.3320 - accuracy: 0.8914 - val_loss: 2.1979 - val_accuracy: 0.5366\n",
      "Epoch 55/100\n",
      "50/50 - 8s - loss: 0.4908 - accuracy: 0.8485 - val_loss: 1.7657 - val_accuracy: 0.4878\n",
      "Epoch 56/100\n",
      "50/50 - 8s - loss: 0.2947 - accuracy: 0.8889 - val_loss: 1.8219 - val_accuracy: 0.4390\n",
      "Epoch 57/100\n",
      "50/50 - 8s - loss: 0.3036 - accuracy: 0.8990 - val_loss: 1.9291 - val_accuracy: 0.4634\n",
      "Epoch 58/100\n",
      "50/50 - 8s - loss: 0.3215 - accuracy: 0.8864 - val_loss: 2.0890 - val_accuracy: 0.5122\n",
      "Epoch 59/100\n",
      "50/50 - 8s - loss: 0.3247 - accuracy: 0.9040 - val_loss: 1.7440 - val_accuracy: 0.4634\n",
      "\n",
      "Akurasi telah mencapai >90%!\n"
     ]
    }
   ],
   "source": [
    "history = model.fit(train_generator,\n",
    "                              validation_data=validation_generator,\n",
    "                              epochs=100,\n",
    "                              verbose=2,\n",
    "                              callbacks=[callbacks])"
   ]
  },
  {
   "cell_type": "code",
   "execution_count": null,
   "metadata": {
    "colab": {
     "base_uri": "https://localhost:8080/",
     "height": 295
    },
    "executionInfo": {
     "elapsed": 2781,
     "status": "ok",
     "timestamp": 1633845936436,
     "user": {
      "displayName": "Ahmad Habib",
      "photoUrl": "https://lh3.googleusercontent.com/a-/AOh14GhO4o_fO723EBzG9aZH_2E2uBHOgS6-H2XcOb3hrQ=s64",
      "userId": "07615486812975318675"
     },
     "user_tz": -420
    },
    "id": "_WBm8jfUjc1R",
    "outputId": "b2697a86-607e-408d-b377-02e709031780"
   },
   "outputs": [
    {
     "data": {
      "image/png": "[encoded data removed]",
      "text/plain": [
       "<Figure size 432x288 with 1 Axes>"
      ]
     },
     "metadata": {
      "needs_background": "light"
     },
     "output_type": "display_data"
    }
   ],
   "source": [
    "import matplotlib.pyplot as plt\n",
    "plt.plot(history.history['accuracy'])\n",
    "plt.plot(history.history['val_accuracy'])\n",
    "plt.title('Akurasi Model')\n",
    "plt.ylabel('accuracy')\n",
    "plt.xlabel('epoch')\n",
    "plt.legend(['train', 'test'], loc='upper left')\n",
    "plt.show()"
   ]
  },
  {
   "cell_type": "code",
   "execution_count": null,
   "metadata": {
    "colab": {
     "base_uri": "https://localhost:8080/",
     "height": 295
    },
    "executionInfo": {
     "elapsed": 24,
     "status": "ok",
     "timestamp": 1633845936439,
     "user": {
      "displayName": "Ahmad Habib",
      "photoUrl": "https://lh3.googleusercontent.com/a-/AOh14GhO4o_fO723EBzG9aZH_2E2uBHOgS6-H2XcOb3hrQ=s64",
      "userId": "07615486812975318675"
     },
     "user_tz": -420
    },
    "id": "a-v4M3E_m5tz",
    "outputId": "1b8cb20e-5747-4a58-8a57-66d23841a91b"
   },
   "outputs": [
    {
     "data": {
      "image/png": "[encoded data removed]",
      "text/plain": [
       "<Figure size 432x288 with 1 Axes>"
      ]
     },
     "metadata": {
      "needs_background": "light"
     },
     "output_type": "display_data"
    }
   ],
   "source": [
    "plt.plot(history.history['loss'])\n",
    "plt.plot(history.history['val_loss'])\n",
    "plt.title('Loss Model')\n",
    "plt.ylabel('loss')\n",
    "plt.xlabel('epoch')\n",
    "plt.legend(['train', 'test'], loc='upper left')\n",
    "plt.show()"
   ]
  },
  {
   "cell_type": "markdown",
   "metadata": {},
   "source": [
    "# Using Transfer learning \n",
    "## ResNet Architecture"
   ]
  },
  {
   "cell_type": "code",
   "execution_count": null,
   "metadata": {
    "colab": {
     "base_uri": "https://localhost:8080/"
    },
    "executionInfo": {
     "elapsed": 8492,
     "status": "ok",
     "timestamp": 1633845944915,
     "user": {
      "displayName": "Ahmad Habib",
      "photoUrl": "https://lh3.googleusercontent.com/a-/AOh14GhO4o_fO723EBzG9aZH_2E2uBHOgS6-H2XcOb3hrQ=s64",
      "userId": "07615486812975318675"
     },
     "user_tz": -420
    },
    "id": "590Zp8G7m-M9",
    "outputId": "20359607-5f7e-461c-84b3-4c57d59d4c30"
   },
   "outputs": [
    {
     "name": "stdout",
     "output_type": "stream",
     "text": [
      "Downloading data from https://storage.googleapis.com/tensorflow/keras-applications/resnet/resnet152v2_weights_tf_dim_ordering_tf_kernels_notop.h5\n",
      "234553344/234545216 [==============================] - 3s 0us/step\n",
      "234561536/234545216 [==============================] - 3s 0us/step\n"
     ]
    }
   ],
   "source": [
    "from tensorflow.keras.layers import Input\n",
    "from tensorflow.keras.applications import ResNet50\n",
    "from tensorflow.keras.applications import ResNet152V2\n",
    "model2 = tf.keras.models.Sequential([\n",
    "    ResNet152V2(weights=\"imagenet\", include_top=False, input_tensor=Input(shape=(150, 150, 3))),\n",
    "    # tf.keras.layers.Dropout(0.4),\n",
    "    tf.keras.layers.Flatten(), \n",
    "    tf.keras.layers.Dense(512, activation='relu'),\n",
    "    tf.keras.layers.Dense(256, activation='relu'),\n",
    "    tf.keras.layers.Dense(6, activation='softmax')  \n",
    "])\n",
    "model2.layers[0].trainable = False"
   ]
  },
  {
   "cell_type": "code",
   "execution_count": null,
   "metadata": {
    "id": "PtZQcU_ctXvd"
   },
   "outputs": [],
   "source": [
    "model2.compile(optimizer=tf.optimizers.Adam(),\n",
    "              loss='categorical_crossentropy',\n",
    "              metrics = ['accuracy'])"
   ]
  },
  {
   "cell_type": "code",
   "execution_count": null,
   "metadata": {
    "id": "1VUAY85ntl87"
   },
   "outputs": [],
   "source": [
    "class myCallback(tf.keras.callbacks.Callback):\n",
    "  def on_epoch_end(self, epoch, logs={}):\n",
    "    if(logs.get('val_accuracy')>0.9):\n",
    "      print(\"\\nAkurasi telah mencapai >90%!\")\n",
    "      self.model.stop_training = True\n",
    "callbacks = myCallback()"
   ]
  },
  {
   "cell_type": "code",
   "execution_count": null,
   "metadata": {
    "colab": {
     "base_uri": "https://localhost:8080/"
    },
    "executionInfo": {
     "elapsed": 566029,
     "status": "ok",
     "timestamp": 1633846510938,
     "user": {
      "displayName": "Ahmad Habib",
      "photoUrl": "https://lh3.googleusercontent.com/a-/AOh14GhO4o_fO723EBzG9aZH_2E2uBHOgS6-H2XcOb3hrQ=s64",
      "userId": "07615486812975318675"
     },
     "user_tz": -420
    },
    "id": "zfo0lULxtbH9",
    "outputId": "7de447e7-b99c-4dcb-9342-6aac50681f27"
   },
   "outputs": [
    {
     "name": "stdout",
     "output_type": "stream",
     "text": [
      "Epoch 1/50\n",
      "50/50 - 27s - loss: 12.2857 - accuracy: 0.4394 - val_loss: 3.5097 - val_accuracy: 0.6098\n",
      "Epoch 2/50\n",
      "50/50 - 11s - loss: 2.6537 - accuracy: 0.6717 - val_loss: 1.6211 - val_accuracy: 0.5610\n",
      "Epoch 3/50\n",
      "50/50 - 11s - loss: 1.4188 - accuracy: 0.7374 - val_loss: 1.1645 - val_accuracy: 0.7805\n",
      "Epoch 4/50\n",
      "50/50 - 11s - loss: 0.8444 - accuracy: 0.7929 - val_loss: 1.1098 - val_accuracy: 0.7561\n",
      "Epoch 5/50\n",
      "50/50 - 11s - loss: 0.7736 - accuracy: 0.8182 - val_loss: 1.0561 - val_accuracy: 0.7561\n",
      "Epoch 6/50\n",
      "50/50 - 11s - loss: 1.1166 - accuracy: 0.8232 - val_loss: 1.1162 - val_accuracy: 0.7317\n",
      "Epoch 7/50\n",
      "50/50 - 11s - loss: 0.6065 - accuracy: 0.8561 - val_loss: 0.9488 - val_accuracy: 0.7317\n",
      "Epoch 8/50\n",
      "50/50 - 11s - loss: 0.7505 - accuracy: 0.8586 - val_loss: 1.1424 - val_accuracy: 0.7073\n",
      "Epoch 9/50\n",
      "50/50 - 11s - loss: 0.4873 - accuracy: 0.8763 - val_loss: 0.7426 - val_accuracy: 0.7805\n",
      "Epoch 10/50\n",
      "50/50 - 11s - loss: 0.4057 - accuracy: 0.9091 - val_loss: 1.0529 - val_accuracy: 0.6829\n",
      "Epoch 11/50\n",
      "50/50 - 11s - loss: 0.4353 - accuracy: 0.8838 - val_loss: 0.9507 - val_accuracy: 0.7805\n",
      "Epoch 12/50\n",
      "50/50 - 11s - loss: 0.4281 - accuracy: 0.9040 - val_loss: 1.6945 - val_accuracy: 0.5610\n",
      "Epoch 13/50\n",
      "50/50 - 11s - loss: 0.6239 - accuracy: 0.8737 - val_loss: 1.2701 - val_accuracy: 0.7805\n",
      "Epoch 14/50\n",
      "50/50 - 11s - loss: 0.7590 - accuracy: 0.8813 - val_loss: 1.7512 - val_accuracy: 0.6829\n",
      "Epoch 15/50\n",
      "50/50 - 11s - loss: 0.4031 - accuracy: 0.9192 - val_loss: 1.2660 - val_accuracy: 0.6829\n",
      "Epoch 16/50\n",
      "50/50 - 11s - loss: 0.4347 - accuracy: 0.9015 - val_loss: 0.7649 - val_accuracy: 0.7805\n",
      "Epoch 17/50\n",
      "50/50 - 11s - loss: 0.4027 - accuracy: 0.9040 - val_loss: 0.6933 - val_accuracy: 0.8049\n",
      "Epoch 18/50\n",
      "50/50 - 11s - loss: 0.3252 - accuracy: 0.9167 - val_loss: 1.2155 - val_accuracy: 0.7317\n",
      "Epoch 19/50\n",
      "50/50 - 11s - loss: 0.3372 - accuracy: 0.9293 - val_loss: 0.9032 - val_accuracy: 0.8293\n",
      "Epoch 20/50\n",
      "50/50 - 11s - loss: 0.4609 - accuracy: 0.9242 - val_loss: 3.0030 - val_accuracy: 0.5854\n",
      "Epoch 21/50\n",
      "50/50 - 11s - loss: 0.2748 - accuracy: 0.9242 - val_loss: 0.6605 - val_accuracy: 0.8049\n",
      "Epoch 22/50\n",
      "50/50 - 11s - loss: 0.2692 - accuracy: 0.9394 - val_loss: 0.9437 - val_accuracy: 0.8537\n",
      "Epoch 23/50\n",
      "50/50 - 11s - loss: 0.2693 - accuracy: 0.9444 - val_loss: 0.6140 - val_accuracy: 0.8293\n",
      "Epoch 24/50\n",
      "50/50 - 11s - loss: 0.3017 - accuracy: 0.9217 - val_loss: 0.6217 - val_accuracy: 0.8293\n",
      "Epoch 25/50\n",
      "50/50 - 11s - loss: 0.5255 - accuracy: 0.9167 - val_loss: 0.9788 - val_accuracy: 0.8049\n",
      "Epoch 26/50\n",
      "50/50 - 11s - loss: 0.3061 - accuracy: 0.9192 - val_loss: 1.4261 - val_accuracy: 0.8293\n",
      "Epoch 27/50\n",
      "50/50 - 11s - loss: 0.4149 - accuracy: 0.9419 - val_loss: 1.8430 - val_accuracy: 0.8049\n",
      "Epoch 28/50\n",
      "50/50 - 11s - loss: 0.4630 - accuracy: 0.9242 - val_loss: 2.4615 - val_accuracy: 0.6341\n",
      "Epoch 29/50\n",
      "50/50 - 11s - loss: 0.3152 - accuracy: 0.9394 - val_loss: 2.1882 - val_accuracy: 0.7317\n",
      "Epoch 30/50\n",
      "50/50 - 11s - loss: 0.3204 - accuracy: 0.9495 - val_loss: 1.2859 - val_accuracy: 0.7561\n",
      "Epoch 31/50\n",
      "50/50 - 11s - loss: 0.3158 - accuracy: 0.9470 - val_loss: 0.7364 - val_accuracy: 0.8293\n",
      "Epoch 32/50\n",
      "50/50 - 11s - loss: 0.4356 - accuracy: 0.9470 - val_loss: 1.7391 - val_accuracy: 0.7805\n",
      "Epoch 33/50\n",
      "50/50 - 11s - loss: 0.1711 - accuracy: 0.9571 - val_loss: 1.1664 - val_accuracy: 0.8293\n",
      "Epoch 34/50\n",
      "50/50 - 11s - loss: 0.1430 - accuracy: 0.9672 - val_loss: 1.1520 - val_accuracy: 0.8293\n",
      "Epoch 35/50\n",
      "50/50 - 11s - loss: 0.2377 - accuracy: 0.9621 - val_loss: 1.5871 - val_accuracy: 0.7561\n",
      "Epoch 36/50\n",
      "50/50 - 11s - loss: 0.0536 - accuracy: 0.9848 - val_loss: 0.9931 - val_accuracy: 0.8049\n",
      "Epoch 37/50\n",
      "50/50 - 11s - loss: 0.1207 - accuracy: 0.9646 - val_loss: 1.8172 - val_accuracy: 0.7561\n",
      "Epoch 38/50\n",
      "50/50 - 11s - loss: 0.1500 - accuracy: 0.9646 - val_loss: 1.6402 - val_accuracy: 0.7317\n",
      "Epoch 39/50\n",
      "50/50 - 11s - loss: 0.4346 - accuracy: 0.9419 - val_loss: 2.0225 - val_accuracy: 0.7805\n",
      "Epoch 40/50\n",
      "50/50 - 11s - loss: 0.2107 - accuracy: 0.9545 - val_loss: 0.9479 - val_accuracy: 0.8537\n",
      "Epoch 41/50\n",
      "50/50 - 11s - loss: 0.2290 - accuracy: 0.9520 - val_loss: 1.3321 - val_accuracy: 0.8293\n",
      "Epoch 42/50\n",
      "50/50 - 11s - loss: 0.2574 - accuracy: 0.9394 - val_loss: 1.3378 - val_accuracy: 0.8049\n",
      "Epoch 43/50\n",
      "50/50 - 11s - loss: 0.1121 - accuracy: 0.9722 - val_loss: 1.4828 - val_accuracy: 0.7805\n",
      "Epoch 44/50\n",
      "50/50 - 11s - loss: 0.0995 - accuracy: 0.9747 - val_loss: 2.2742 - val_accuracy: 0.7317\n",
      "Epoch 45/50\n",
      "50/50 - 11s - loss: 0.3070 - accuracy: 0.9596 - val_loss: 1.7910 - val_accuracy: 0.7317\n",
      "Epoch 46/50\n",
      "50/50 - 11s - loss: 0.2683 - accuracy: 0.9596 - val_loss: 1.6020 - val_accuracy: 0.7561\n",
      "Epoch 47/50\n",
      "50/50 - 11s - loss: 0.1598 - accuracy: 0.9697 - val_loss: 1.5282 - val_accuracy: 0.7317\n",
      "Epoch 48/50\n",
      "50/50 - 11s - loss: 0.1804 - accuracy: 0.9621 - val_loss: 1.2418 - val_accuracy: 0.7561\n",
      "Epoch 49/50\n",
      "50/50 - 11s - loss: 0.1191 - accuracy: 0.9773 - val_loss: 1.0858 - val_accuracy: 0.8049\n",
      "Epoch 50/50\n",
      "50/50 - 11s - loss: 0.1356 - accuracy: 0.9722 - val_loss: 0.5237 - val_accuracy: 0.9024\n",
      "\n",
      "Akurasi telah mencapai >90%!\n"
     ]
    }
   ],
   "source": [
    "history = model2.fit(train_generator,\n",
    "                    validation_data=validation_generator,\n",
    "                    epochs=50,\n",
    "                    verbose=2,\n",
    "                    callbacks=[callbacks])"
   ]
  },
  {
   "cell_type": "code",
   "execution_count": null,
   "metadata": {
    "id": "tv8TRAr4tt7I"
   },
   "outputs": [],
   "source": []
  }
 ],
 "metadata": {
  "accelerator": "GPU",
  "colab": {
   "authorship_tag": "ABX9TyOV4tKzqagksGQj0hU6ibuD",
   "collapsed_sections": [],
   "name": "Chessman.ipynb",
   "provenance": []
  },
  "kernelspec": {
   "display_name": "Python 3",
   "language": "python",
   "name": "python3"
  },
  "language_info": {
   "codemirror_mode": {
    "name": "ipython",
    "version": 3
   },
   "file_extension": ".py",
   "mimetype": "text/x-python",
   "name": "python",
   "nbconvert_exporter": "python",
   "pygments_lexer": "ipython3",
   "version": "3.8.5"
  },
  "varInspector": {
   "cols": {
    "lenName": 16,
    "lenType": 16,
    "lenVar": 40
   },
   "kernels_config": {
    "python": {
     "delete_cmd_postfix": "",
     "delete_cmd_prefix": "del ",
     "library": "var_list.py",
     "varRefreshCmd": "print(var_dic_list())"
    },
    "r": {
     "delete_cmd_postfix": ") ",
     "delete_cmd_prefix": "rm(",
     "library": "var_list.r",
     "varRefreshCmd": "cat(var_dic_list()) "
    }
   },
   "types_to_exclude": [
    "module",
    "function",
    "builtin_function_or_method",
    "instance",
    "_Feature"
   ],
   "window_display": false
  }
 },
 "nbformat": 4,
 "nbformat_minor": 1
}
