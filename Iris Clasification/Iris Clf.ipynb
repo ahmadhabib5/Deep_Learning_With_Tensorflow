{
 "cells": [
  {
   "cell_type": "code",
   "execution_count": 1,
   "metadata": {
    "executionInfo": {
     "elapsed": 285,
     "status": "ok",
     "timestamp": 1632141827251,
     "user": {
      "displayName": "Ahmad Habib",
      "photoUrl": "https://lh3.googleusercontent.com/a-/AOh14GhO4o_fO723EBzG9aZH_2E2uBHOgS6-H2XcOb3hrQ=s64",
      "userId": "07615486812975318675"
     },
     "user_tz": -420
    },
    "id": "mN1iPJ_vOg0p"
   },
   "outputs": [],
   "source": [
    "import tensorflow as tf\n",
    "from tensorflow import keras\n",
    "import numpy as np\n",
    "import pandas as pd\n",
    "import zipfile\n",
    "from tqdm import tqdm"
   ]
  },
  {
   "cell_type": "code",
   "execution_count": 2,
   "metadata": {},
   "outputs": [],
   "source": [
    "import logging\n",
    "logging.getLogger('tensorflow').disabled = True"
   ]
  },
  {
   "cell_type": "code",
   "execution_count": 3,
   "metadata": {
    "colab": {
     "base_uri": "https://localhost:8080/"
    },
    "executionInfo": {
     "elapsed": 304,
     "status": "ok",
     "timestamp": 1632142033001,
     "user": {
      "displayName": "Ahmad Habib",
      "photoUrl": "https://lh3.googleusercontent.com/a-/AOh14GhO4o_fO723EBzG9aZH_2E2uBHOgS6-H2XcOb3hrQ=s64",
      "userId": "07615486812975318675"
     },
     "user_tz": -420
    },
    "id": "Abx3IKfVO9mC",
    "outputId": "f1a3f814-5c01-40f2-d7fb-4d417f10b084"
   },
   "outputs": [
    {
     "name": "stderr",
     "output_type": "stream",
     "text": [
      "Extracting: 100%|███████████████████████████████████████████████████████████████████████| 2/2 [00:00<00:00, 121.22it/s]\n"
     ]
    }
   ],
   "source": [
    "with zipfile.ZipFile('archive.zip', mode='r') as zip_file:\n",
    "    for zf in tqdm(zip_file.infolist(), desc=\"Extracting\"):\n",
    "        try:\n",
    "            zip_file.extract(zf)                \n",
    "        except Exception as e:\n",
    "            print(e)\n",
    "zip_file.close()"
   ]
  },
  {
   "cell_type": "markdown",
   "metadata": {},
   "source": [
    "### Trying to read sql tabel to pandas dataframe"
   ]
  },
  {
   "cell_type": "code",
   "execution_count": 4,
   "metadata": {
    "executionInfo": {
     "elapsed": 278,
     "status": "ok",
     "timestamp": 1632142164199,
     "user": {
      "displayName": "Ahmad Habib",
      "photoUrl": "https://lh3.googleusercontent.com/a-/AOh14GhO4o_fO723EBzG9aZH_2E2uBHOgS6-H2XcOb3hrQ=s64",
      "userId": "07615486812975318675"
     },
     "user_tz": -420
    },
    "id": "15CWlgQXQOMk"
   },
   "outputs": [],
   "source": [
    "import sqlite3"
   ]
  },
  {
   "cell_type": "code",
   "execution_count": 5,
   "metadata": {
    "executionInfo": {
     "elapsed": 279,
     "status": "ok",
     "timestamp": 1632142200027,
     "user": {
      "displayName": "Ahmad Habib",
      "photoUrl": "https://lh3.googleusercontent.com/a-/AOh14GhO4o_fO723EBzG9aZH_2E2uBHOgS6-H2XcOb3hrQ=s64",
      "userId": "07615486812975318675"
     },
     "user_tz": -420
    },
    "id": "NUiZ6d4BPnn5"
   },
   "outputs": [],
   "source": [
    "con = sqlite3.connect('database.sqlite')"
   ]
  },
  {
   "cell_type": "code",
   "execution_count": 6,
   "metadata": {
    "executionInfo": {
     "elapsed": 304,
     "status": "ok",
     "timestamp": 1632142277845,
     "user": {
      "displayName": "Ahmad Habib",
      "photoUrl": "https://lh3.googleusercontent.com/a-/AOh14GhO4o_fO723EBzG9aZH_2E2uBHOgS6-H2XcOb3hrQ=s64",
      "userId": "07615486812975318675"
     },
     "user_tz": -420
    },
    "id": "FrUO0OmkP9f-"
   },
   "outputs": [],
   "source": [
    "cursor = con.cursor()\n",
    "cursor.execute(\"SELECT name FROM sqlite_master WHERE type='table';\")\n",
    "tables = cursor.fetchall()"
   ]
  },
  {
   "cell_type": "code",
   "execution_count": 7,
   "metadata": {
    "colab": {
     "base_uri": "https://localhost:8080/"
    },
    "executionInfo": {
     "elapsed": 278,
     "status": "ok",
     "timestamp": 1632142283548,
     "user": {
      "displayName": "Ahmad Habib",
      "photoUrl": "https://lh3.googleusercontent.com/a-/AOh14GhO4o_fO723EBzG9aZH_2E2uBHOgS6-H2XcOb3hrQ=s64",
      "userId": "07615486812975318675"
     },
     "user_tz": -420
    },
    "id": "4GTPFTPMQplP",
    "outputId": "27adb79d-a94e-4644-ede9-1d8203dc9b49"
   },
   "outputs": [
    {
     "data": {
      "text/plain": [
       "[('Iris',)]"
      ]
     },
     "execution_count": 7,
     "metadata": {},
     "output_type": "execute_result"
    }
   ],
   "source": [
    "tables"
   ]
  },
  {
   "cell_type": "code",
   "execution_count": 8,
   "metadata": {
    "colab": {
     "base_uri": "https://localhost:8080/",
     "height": 237
    },
    "executionInfo": {
     "elapsed": 290,
     "status": "ok",
     "timestamp": 1632143672215,
     "user": {
      "displayName": "Ahmad Habib",
      "photoUrl": "https://lh3.googleusercontent.com/a-/AOh14GhO4o_fO723EBzG9aZH_2E2uBHOgS6-H2XcOb3hrQ=s64",
      "userId": "07615486812975318675"
     },
     "user_tz": -420
    },
    "id": "svWqdR7fQs8B",
    "outputId": "cd4b5777-edfc-4d65-bea9-21e8e0ec729f"
   },
   "outputs": [
    {
     "data": {
      "text/html": [
       "<div>\n",
       "<style scoped>\n",
       "    .dataframe tbody tr th:only-of-type {\n",
       "        vertical-align: middle;\n",
       "    }\n",
       "\n",
       "    .dataframe tbody tr th {\n",
       "        vertical-align: top;\n",
       "    }\n",
       "\n",
       "    .dataframe thead th {\n",
       "        text-align: right;\n",
       "    }\n",
       "</style>\n",
       "<table border=\"1\" class=\"dataframe\">\n",
       "  <thead>\n",
       "    <tr style=\"text-align: right;\">\n",
       "      <th></th>\n",
       "      <th>SepalLengthCm</th>\n",
       "      <th>SepalWidthCm</th>\n",
       "      <th>PetalLengthCm</th>\n",
       "      <th>PetalWidthCm</th>\n",
       "      <th>Species</th>\n",
       "    </tr>\n",
       "    <tr>\n",
       "      <th>Id</th>\n",
       "      <th></th>\n",
       "      <th></th>\n",
       "      <th></th>\n",
       "      <th></th>\n",
       "      <th></th>\n",
       "    </tr>\n",
       "  </thead>\n",
       "  <tbody>\n",
       "    <tr>\n",
       "      <th>1</th>\n",
       "      <td>5.1</td>\n",
       "      <td>3.5</td>\n",
       "      <td>1.4</td>\n",
       "      <td>0.2</td>\n",
       "      <td>Iris-setosa</td>\n",
       "    </tr>\n",
       "    <tr>\n",
       "      <th>2</th>\n",
       "      <td>4.9</td>\n",
       "      <td>3.0</td>\n",
       "      <td>1.4</td>\n",
       "      <td>0.2</td>\n",
       "      <td>Iris-setosa</td>\n",
       "    </tr>\n",
       "    <tr>\n",
       "      <th>3</th>\n",
       "      <td>4.7</td>\n",
       "      <td>3.2</td>\n",
       "      <td>1.3</td>\n",
       "      <td>0.2</td>\n",
       "      <td>Iris-setosa</td>\n",
       "    </tr>\n",
       "    <tr>\n",
       "      <th>4</th>\n",
       "      <td>4.6</td>\n",
       "      <td>3.1</td>\n",
       "      <td>1.5</td>\n",
       "      <td>0.2</td>\n",
       "      <td>Iris-setosa</td>\n",
       "    </tr>\n",
       "    <tr>\n",
       "      <th>5</th>\n",
       "      <td>5.0</td>\n",
       "      <td>3.6</td>\n",
       "      <td>1.4</td>\n",
       "      <td>0.2</td>\n",
       "      <td>Iris-setosa</td>\n",
       "    </tr>\n",
       "  </tbody>\n",
       "</table>\n",
       "</div>"
      ],
      "text/plain": [
       "    SepalLengthCm  SepalWidthCm  PetalLengthCm  PetalWidthCm      Species\n",
       "Id                                                                       \n",
       "1             5.1           3.5            1.4           0.2  Iris-setosa\n",
       "2             4.9           3.0            1.4           0.2  Iris-setosa\n",
       "3             4.7           3.2            1.3           0.2  Iris-setosa\n",
       "4             4.6           3.1            1.5           0.2  Iris-setosa\n",
       "5             5.0           3.6            1.4           0.2  Iris-setosa"
      ]
     },
     "execution_count": 8,
     "metadata": {},
     "output_type": "execute_result"
    }
   ],
   "source": [
    "df = pd.read_sql_query(\"SELECT * FROM Iris\" , con, index_col=\"Id\")\n",
    "df.head()"
   ]
  },
  {
   "cell_type": "code",
   "execution_count": 9,
   "metadata": {
    "colab": {
     "base_uri": "https://localhost:8080/"
    },
    "executionInfo": {
     "elapsed": 8,
     "status": "ok",
     "timestamp": 1632143673404,
     "user": {
      "displayName": "Ahmad Habib",
      "photoUrl": "https://lh3.googleusercontent.com/a-/AOh14GhO4o_fO723EBzG9aZH_2E2uBHOgS6-H2XcOb3hrQ=s64",
      "userId": "07615486812975318675"
     },
     "user_tz": -420
    },
    "id": "FK3sYDYZR0A7",
    "outputId": "809c9c30-9247-46e8-d047-628450e093da"
   },
   "outputs": [
    {
     "name": "stdout",
     "output_type": "stream",
     "text": [
      "<class 'pandas.core.frame.DataFrame'>\n",
      "Int64Index: 150 entries, 1 to 150\n",
      "Data columns (total 5 columns):\n",
      "SepalLengthCm    150 non-null float64\n",
      "SepalWidthCm     150 non-null float64\n",
      "PetalLengthCm    150 non-null float64\n",
      "PetalWidthCm     150 non-null float64\n",
      "Species          150 non-null object\n",
      "dtypes: float64(4), object(1)\n",
      "memory usage: 7.0+ KB\n"
     ]
    }
   ],
   "source": [
    "df.info()"
   ]
  },
  {
   "cell_type": "code",
   "execution_count": 10,
   "metadata": {
    "executionInfo": {
     "elapsed": 2,
     "status": "ok",
     "timestamp": 1632143675911,
     "user": {
      "displayName": "Ahmad Habib",
      "photoUrl": "https://lh3.googleusercontent.com/a-/AOh14GhO4o_fO723EBzG9aZH_2E2uBHOgS6-H2XcOb3hrQ=s64",
      "userId": "07615486812975318675"
     },
     "user_tz": -420
    },
    "id": "3hIjEwa7R3jT"
   },
   "outputs": [],
   "source": [
    "df.Species = df.Species.astype(\"category\")"
   ]
  },
  {
   "cell_type": "code",
   "execution_count": 11,
   "metadata": {
    "colab": {
     "base_uri": "https://localhost:8080/",
     "height": 455
    },
    "executionInfo": {
     "elapsed": 290,
     "status": "ok",
     "timestamp": 1632143755289,
     "user": {
      "displayName": "Ahmad Habib",
      "photoUrl": "https://lh3.googleusercontent.com/a-/AOh14GhO4o_fO723EBzG9aZH_2E2uBHOgS6-H2XcOb3hrQ=s64",
      "userId": "07615486812975318675"
     },
     "user_tz": -420
    },
    "id": "5qbu1FY3WBvP",
    "outputId": "18fe7522-5512-4425-8d4a-ec71f0672e2a"
   },
   "outputs": [
    {
     "data": {
      "text/html": [
       "<div>\n",
       "<style scoped>\n",
       "    .dataframe tbody tr th:only-of-type {\n",
       "        vertical-align: middle;\n",
       "    }\n",
       "\n",
       "    .dataframe tbody tr th {\n",
       "        vertical-align: top;\n",
       "    }\n",
       "\n",
       "    .dataframe thead th {\n",
       "        text-align: right;\n",
       "    }\n",
       "</style>\n",
       "<table border=\"1\" class=\"dataframe\">\n",
       "  <thead>\n",
       "    <tr style=\"text-align: right;\">\n",
       "      <th>Species</th>\n",
       "      <th>Iris-setosa</th>\n",
       "      <th>Iris-versicolor</th>\n",
       "      <th>Iris-virginica</th>\n",
       "    </tr>\n",
       "    <tr>\n",
       "      <th>Id</th>\n",
       "      <th></th>\n",
       "      <th></th>\n",
       "      <th></th>\n",
       "    </tr>\n",
       "  </thead>\n",
       "  <tbody>\n",
       "    <tr>\n",
       "      <th>1</th>\n",
       "      <td>1</td>\n",
       "      <td>0</td>\n",
       "      <td>0</td>\n",
       "    </tr>\n",
       "    <tr>\n",
       "      <th>2</th>\n",
       "      <td>1</td>\n",
       "      <td>0</td>\n",
       "      <td>0</td>\n",
       "    </tr>\n",
       "    <tr>\n",
       "      <th>3</th>\n",
       "      <td>1</td>\n",
       "      <td>0</td>\n",
       "      <td>0</td>\n",
       "    </tr>\n",
       "    <tr>\n",
       "      <th>4</th>\n",
       "      <td>1</td>\n",
       "      <td>0</td>\n",
       "      <td>0</td>\n",
       "    </tr>\n",
       "    <tr>\n",
       "      <th>5</th>\n",
       "      <td>1</td>\n",
       "      <td>0</td>\n",
       "      <td>0</td>\n",
       "    </tr>\n",
       "    <tr>\n",
       "      <th>...</th>\n",
       "      <td>...</td>\n",
       "      <td>...</td>\n",
       "      <td>...</td>\n",
       "    </tr>\n",
       "    <tr>\n",
       "      <th>146</th>\n",
       "      <td>0</td>\n",
       "      <td>0</td>\n",
       "      <td>1</td>\n",
       "    </tr>\n",
       "    <tr>\n",
       "      <th>147</th>\n",
       "      <td>0</td>\n",
       "      <td>0</td>\n",
       "      <td>1</td>\n",
       "    </tr>\n",
       "    <tr>\n",
       "      <th>148</th>\n",
       "      <td>0</td>\n",
       "      <td>0</td>\n",
       "      <td>1</td>\n",
       "    </tr>\n",
       "    <tr>\n",
       "      <th>149</th>\n",
       "      <td>0</td>\n",
       "      <td>0</td>\n",
       "      <td>1</td>\n",
       "    </tr>\n",
       "    <tr>\n",
       "      <th>150</th>\n",
       "      <td>0</td>\n",
       "      <td>0</td>\n",
       "      <td>1</td>\n",
       "    </tr>\n",
       "  </tbody>\n",
       "</table>\n",
       "<p>150 rows × 3 columns</p>\n",
       "</div>"
      ],
      "text/plain": [
       "Species  Iris-setosa  Iris-versicolor  Iris-virginica\n",
       "Id                                                   \n",
       "1                  1                0               0\n",
       "2                  1                0               0\n",
       "3                  1                0               0\n",
       "4                  1                0               0\n",
       "5                  1                0               0\n",
       "..               ...              ...             ...\n",
       "146                0                0               1\n",
       "147                0                0               1\n",
       "148                0                0               1\n",
       "149                0                0               1\n",
       "150                0                0               1\n",
       "\n",
       "[150 rows x 3 columns]"
      ]
     },
     "execution_count": 11,
     "metadata": {},
     "output_type": "execute_result"
    }
   ],
   "source": [
    "category = pd.get_dummies(df.Species)\n",
    "category"
   ]
  },
  {
   "cell_type": "code",
   "execution_count": 12,
   "metadata": {
    "colab": {
     "base_uri": "https://localhost:8080/",
     "height": 237
    },
    "executionInfo": {
     "elapsed": 274,
     "status": "ok",
     "timestamp": 1632143759989,
     "user": {
      "displayName": "Ahmad Habib",
      "photoUrl": "https://lh3.googleusercontent.com/a-/AOh14GhO4o_fO723EBzG9aZH_2E2uBHOgS6-H2XcOb3hrQ=s64",
      "userId": "07615486812975318675"
     },
     "user_tz": -420
    },
    "id": "1LAQcDBsWKCz",
    "outputId": "7af46036-5d2f-4aaa-d64c-49776bdf4db9"
   },
   "outputs": [
    {
     "data": {
      "text/html": [
       "<div>\n",
       "<style scoped>\n",
       "    .dataframe tbody tr th:only-of-type {\n",
       "        vertical-align: middle;\n",
       "    }\n",
       "\n",
       "    .dataframe tbody tr th {\n",
       "        vertical-align: top;\n",
       "    }\n",
       "\n",
       "    .dataframe thead th {\n",
       "        text-align: right;\n",
       "    }\n",
       "</style>\n",
       "<table border=\"1\" class=\"dataframe\">\n",
       "  <thead>\n",
       "    <tr style=\"text-align: right;\">\n",
       "      <th></th>\n",
       "      <th>SepalLengthCm</th>\n",
       "      <th>SepalWidthCm</th>\n",
       "      <th>PetalLengthCm</th>\n",
       "      <th>PetalWidthCm</th>\n",
       "      <th>Iris-setosa</th>\n",
       "      <th>Iris-versicolor</th>\n",
       "      <th>Iris-virginica</th>\n",
       "    </tr>\n",
       "    <tr>\n",
       "      <th>Id</th>\n",
       "      <th></th>\n",
       "      <th></th>\n",
       "      <th></th>\n",
       "      <th></th>\n",
       "      <th></th>\n",
       "      <th></th>\n",
       "      <th></th>\n",
       "    </tr>\n",
       "  </thead>\n",
       "  <tbody>\n",
       "    <tr>\n",
       "      <th>1</th>\n",
       "      <td>5.1</td>\n",
       "      <td>3.5</td>\n",
       "      <td>1.4</td>\n",
       "      <td>0.2</td>\n",
       "      <td>1</td>\n",
       "      <td>0</td>\n",
       "      <td>0</td>\n",
       "    </tr>\n",
       "    <tr>\n",
       "      <th>2</th>\n",
       "      <td>4.9</td>\n",
       "      <td>3.0</td>\n",
       "      <td>1.4</td>\n",
       "      <td>0.2</td>\n",
       "      <td>1</td>\n",
       "      <td>0</td>\n",
       "      <td>0</td>\n",
       "    </tr>\n",
       "    <tr>\n",
       "      <th>3</th>\n",
       "      <td>4.7</td>\n",
       "      <td>3.2</td>\n",
       "      <td>1.3</td>\n",
       "      <td>0.2</td>\n",
       "      <td>1</td>\n",
       "      <td>0</td>\n",
       "      <td>0</td>\n",
       "    </tr>\n",
       "    <tr>\n",
       "      <th>4</th>\n",
       "      <td>4.6</td>\n",
       "      <td>3.1</td>\n",
       "      <td>1.5</td>\n",
       "      <td>0.2</td>\n",
       "      <td>1</td>\n",
       "      <td>0</td>\n",
       "      <td>0</td>\n",
       "    </tr>\n",
       "    <tr>\n",
       "      <th>5</th>\n",
       "      <td>5.0</td>\n",
       "      <td>3.6</td>\n",
       "      <td>1.4</td>\n",
       "      <td>0.2</td>\n",
       "      <td>1</td>\n",
       "      <td>0</td>\n",
       "      <td>0</td>\n",
       "    </tr>\n",
       "  </tbody>\n",
       "</table>\n",
       "</div>"
      ],
      "text/plain": [
       "    SepalLengthCm  SepalWidthCm  PetalLengthCm  PetalWidthCm  Iris-setosa  \\\n",
       "Id                                                                          \n",
       "1             5.1           3.5            1.4           0.2            1   \n",
       "2             4.9           3.0            1.4           0.2            1   \n",
       "3             4.7           3.2            1.3           0.2            1   \n",
       "4             4.6           3.1            1.5           0.2            1   \n",
       "5             5.0           3.6            1.4           0.2            1   \n",
       "\n",
       "    Iris-versicolor  Iris-virginica  \n",
       "Id                                   \n",
       "1                 0               0  \n",
       "2                 0               0  \n",
       "3                 0               0  \n",
       "4                 0               0  \n",
       "5                 0               0  "
      ]
     },
     "execution_count": 12,
     "metadata": {},
     "output_type": "execute_result"
    }
   ],
   "source": [
    "new_df = pd.concat([df, category], axis=1)\n",
    "new_df = new_df.drop(columns='Species')\n",
    "new_df.head()"
   ]
  },
  {
   "cell_type": "code",
   "execution_count": 13,
   "metadata": {
    "executionInfo": {
     "elapsed": 274,
     "status": "ok",
     "timestamp": 1632143774342,
     "user": {
      "displayName": "Ahmad Habib",
      "photoUrl": "https://lh3.googleusercontent.com/a-/AOh14GhO4o_fO723EBzG9aZH_2E2uBHOgS6-H2XcOb3hrQ=s64",
      "userId": "07615486812975318675"
     },
     "user_tz": -420
    },
    "id": "exrLEbjvSwvl"
   },
   "outputs": [],
   "source": [
    "from sklearn.model_selection import train_test_split\n",
    "from sklearn.preprocessing import MinMaxScaler"
   ]
  },
  {
   "cell_type": "code",
   "execution_count": 14,
   "metadata": {
    "executionInfo": {
     "elapsed": 314,
     "status": "ok",
     "timestamp": 1632143886992,
     "user": {
      "displayName": "Ahmad Habib",
      "photoUrl": "https://lh3.googleusercontent.com/a-/AOh14GhO4o_fO723EBzG9aZH_2E2uBHOgS6-H2XcOb3hrQ=s64",
      "userId": "07615486812975318675"
     },
     "user_tz": -420
    },
    "id": "je7PRwZXWoen"
   },
   "outputs": [],
   "source": [
    "target = ['Iris-setosa','Iris-versicolor','Iris-virginica']\n",
    "feature = [i for i in new_df.columns if i not in target]"
   ]
  },
  {
   "cell_type": "code",
   "execution_count": 15,
   "metadata": {
    "colab": {
     "base_uri": "https://localhost:8080/"
    },
    "executionInfo": {
     "elapsed": 283,
     "status": "ok",
     "timestamp": 1632143913526,
     "user": {
      "displayName": "Ahmad Habib",
      "photoUrl": "https://lh3.googleusercontent.com/a-/AOh14GhO4o_fO723EBzG9aZH_2E2uBHOgS6-H2XcOb3hrQ=s64",
      "userId": "07615486812975318675"
     },
     "user_tz": -420
    },
    "id": "UKWAhhSxSSAg",
    "outputId": "516100c0-682c-40a5-9d0e-db179eb83783"
   },
   "outputs": [
    {
     "data": {
      "text/plain": [
       "((120, 4), (30, 4), (120, 3), (30, 3))"
      ]
     },
     "execution_count": 15,
     "metadata": {},
     "output_type": "execute_result"
    }
   ],
   "source": [
    "X = new_df[feature]\n",
    "y = new_df[target]\n",
    "X_train, X_test, y_train, y_test = train_test_split(X, y, test_size=0.2, random_state=42)\n",
    "X_train.shape, X_test.shape, y_train.shape, y_test.shape"
   ]
  },
  {
   "cell_type": "code",
   "execution_count": 16,
   "metadata": {
    "colab": {
     "base_uri": "https://localhost:8080/"
    },
    "executionInfo": {
     "elapsed": 280,
     "status": "ok",
     "timestamp": 1632143915124,
     "user": {
      "displayName": "Ahmad Habib",
      "photoUrl": "https://lh3.googleusercontent.com/a-/AOh14GhO4o_fO723EBzG9aZH_2E2uBHOgS6-H2XcOb3hrQ=s64",
      "userId": "07615486812975318675"
     },
     "user_tz": -420
    },
    "id": "YDF9TsewTPr1",
    "outputId": "986e757b-225a-47c8-8fd9-4a0498f7ad68"
   },
   "outputs": [
    {
     "data": {
      "text/plain": [
       "MinMaxScaler(copy=True, feature_range=(0, 1))"
      ]
     },
     "execution_count": 16,
     "metadata": {},
     "output_type": "execute_result"
    }
   ],
   "source": [
    "minmax = MinMaxScaler()\n",
    "minmax.fit(X_train)"
   ]
  },
  {
   "cell_type": "code",
   "execution_count": 17,
   "metadata": {
    "executionInfo": {
     "elapsed": 5,
     "status": "ok",
     "timestamp": 1632143916316,
     "user": {
      "displayName": "Ahmad Habib",
      "photoUrl": "https://lh3.googleusercontent.com/a-/AOh14GhO4o_fO723EBzG9aZH_2E2uBHOgS6-H2XcOb3hrQ=s64",
      "userId": "07615486812975318675"
     },
     "user_tz": -420
    },
    "id": "H2Pm6W8gTZci"
   },
   "outputs": [],
   "source": [
    "X_train = minmax.transform(X_train)\n",
    "X_test = minmax.transform(X_test)"
   ]
  },
  {
   "cell_type": "code",
   "execution_count": 18,
   "metadata": {
    "executionInfo": {
     "elapsed": 10,
     "status": "ok",
     "timestamp": 1632143917687,
     "user": {
      "displayName": "Ahmad Habib",
      "photoUrl": "https://lh3.googleusercontent.com/a-/AOh14GhO4o_fO723EBzG9aZH_2E2uBHOgS6-H2XcOb3hrQ=s64",
      "userId": "07615486812975318675"
     },
     "user_tz": -420
    },
    "id": "odkvxvwbSubg"
   },
   "outputs": [],
   "source": [
    "import numpy as np\n",
    "  \n",
    "y_train = y_train.astype(np.float32)\n",
    "y_test = y_test.astype(np.float32)"
   ]
  },
  {
   "cell_type": "code",
   "execution_count": 19,
   "metadata": {
    "executionInfo": {
     "elapsed": 404,
     "status": "ok",
     "timestamp": 1632143928649,
     "user": {
      "displayName": "Ahmad Habib",
      "photoUrl": "https://lh3.googleusercontent.com/a-/AOh14GhO4o_fO723EBzG9aZH_2E2uBHOgS6-H2XcOb3hrQ=s64",
      "userId": "07615486812975318675"
     },
     "user_tz": -420
    },
    "id": "GioM755QTKS4"
   },
   "outputs": [],
   "source": [
    "model = keras.Sequential([\n",
    "        keras.layers.Dense(units=64, activation=\"relu\", input_shape=(4,)),\n",
    "        keras.layers.Dense(units=64, activation=\"relu\"),\n",
    "        keras.layers.Dense(units=3, activation=\"softmax\")\n",
    "])"
   ]
  },
  {
   "cell_type": "code",
   "execution_count": 20,
   "metadata": {
    "executionInfo": {
     "elapsed": 2,
     "status": "ok",
     "timestamp": 1632143930040,
     "user": {
      "displayName": "Ahmad Habib",
      "photoUrl": "https://lh3.googleusercontent.com/a-/AOh14GhO4o_fO723EBzG9aZH_2E2uBHOgS6-H2XcOb3hrQ=s64",
      "userId": "07615486812975318675"
     },
     "user_tz": -420
    },
    "id": "sAVUvA_eUG0v"
   },
   "outputs": [],
   "source": [
    "model.compile(optimizer=\"adam\", loss=\"categorical_crossentropy\", metrics=[\"accuracy\"])"
   ]
  },
  {
   "cell_type": "code",
   "execution_count": 21,
   "metadata": {
    "colab": {
     "base_uri": "https://localhost:8080/"
    },
    "executionInfo": {
     "elapsed": 2799,
     "status": "ok",
     "timestamp": 1632143942218,
     "user": {
      "displayName": "Ahmad Habib",
      "photoUrl": "https://lh3.googleusercontent.com/a-/AOh14GhO4o_fO723EBzG9aZH_2E2uBHOgS6-H2XcOb3hrQ=s64",
      "userId": "07615486812975318675"
     },
     "user_tz": -420
    },
    "id": "0AW9JWWfUU5V",
    "outputId": "40ce9486-6d68-40cd-aead-26ccc5414545"
   },
   "outputs": [
    {
     "name": "stdout",
     "output_type": "stream",
     "text": [
      "Train on 120 samples\n",
      "Epoch 1/120\n",
      "120/120 [==============================] - 2s 15ms/sample - loss: 1.0915 - accuracy: 0.6083\n",
      "Epoch 2/120\n",
      "120/120 [==============================] - 0s 241us/sample - loss: 1.0403 - accuracy: 0.6750\n",
      "Epoch 3/120\n",
      "120/120 [==============================] - 0s 216us/sample - loss: 0.9906 - accuracy: 0.6750\n",
      "Epoch 4/120\n",
      "120/120 [==============================] - 0s 270us/sample - loss: 0.9497 - accuracy: 0.6583\n",
      "Epoch 5/120\n",
      "120/120 [==============================] - 0s 266us/sample - loss: 0.9143 - accuracy: 0.6417\n",
      "Epoch 6/120\n",
      "120/120 [==============================] - 0s 258us/sample - loss: 0.8790 - accuracy: 0.6667\n",
      "Epoch 7/120\n",
      "120/120 [==============================] - 0s 216us/sample - loss: 0.8430 - accuracy: 0.6583\n",
      "Epoch 8/120\n",
      "120/120 [==============================] - 0s 133us/sample - loss: 0.8060 - accuracy: 0.6583\n",
      "Epoch 9/120\n",
      "120/120 [==============================] - 0s 208us/sample - loss: 0.7703 - accuracy: 0.6583\n",
      "Epoch 10/120\n",
      "120/120 [==============================] - 0s 141us/sample - loss: 0.7364 - accuracy: 0.6583\n",
      "Epoch 11/120\n",
      "120/120 [==============================] - 0s 174us/sample - loss: 0.7005 - accuracy: 0.6583\n",
      "Epoch 12/120\n",
      "120/120 [==============================] - 0s 241us/sample - loss: 0.6670 - accuracy: 0.6583\n",
      "Epoch 13/120\n",
      "120/120 [==============================] - 0s 133us/sample - loss: 0.6365 - accuracy: 0.6667\n",
      "Epoch 14/120\n",
      "120/120 [==============================] - 0s 249us/sample - loss: 0.6071 - accuracy: 0.6667\n",
      "Epoch 15/120\n",
      "120/120 [==============================] - 0s 183us/sample - loss: 0.5809 - accuracy: 0.6750\n",
      "Epoch 16/120\n",
      "120/120 [==============================] - 0s 108us/sample - loss: 0.5563 - accuracy: 0.6667\n",
      "Epoch 17/120\n",
      "120/120 [==============================] - 0s 224us/sample - loss: 0.5358 - accuracy: 0.6750\n",
      "Epoch 18/120\n",
      "120/120 [==============================] - 0s 183us/sample - loss: 0.5171 - accuracy: 0.6833\n",
      "Epoch 19/120\n",
      "120/120 [==============================] - 0s 158us/sample - loss: 0.5003 - accuracy: 0.7083\n",
      "Epoch 20/120\n",
      "120/120 [==============================] - 0s 183us/sample - loss: 0.4860 - accuracy: 0.7583\n",
      "Epoch 21/120\n",
      "120/120 [==============================] - 0s 183us/sample - loss: 0.4728 - accuracy: 0.8667\n",
      "Epoch 22/120\n",
      "120/120 [==============================] - 0s 108us/sample - loss: 0.4619 - accuracy: 0.9167\n",
      "Epoch 23/120\n",
      "120/120 [==============================] - 0s 216us/sample - loss: 0.4518 - accuracy: 0.8917\n",
      "Epoch 24/120\n",
      "120/120 [==============================] - 0s 133us/sample - loss: 0.4383 - accuracy: 0.8667\n",
      "Epoch 25/120\n",
      "120/120 [==============================] - 0s 208us/sample - loss: 0.4283 - accuracy: 0.9167\n",
      "Epoch 26/120\n",
      "120/120 [==============================] - 0s 108us/sample - loss: 0.4179 - accuracy: 0.9500\n",
      "Epoch 27/120\n",
      "120/120 [==============================] - 0s 208us/sample - loss: 0.4065 - accuracy: 0.9500\n",
      "Epoch 28/120\n",
      "120/120 [==============================] - 0s 141us/sample - loss: 0.3957 - accuracy: 0.9500\n",
      "Epoch 29/120\n",
      "120/120 [==============================] - 0s 175us/sample - loss: 0.3854 - accuracy: 0.9417\n",
      "Epoch 30/120\n",
      "120/120 [==============================] - 0s 115us/sample - loss: 0.3770 - accuracy: 0.9417\n",
      "Epoch 31/120\n",
      "120/120 [==============================] - 0s 125us/sample - loss: 0.3642 - accuracy: 0.9417\n",
      "Epoch 32/120\n",
      "120/120 [==============================] - 0s 141us/sample - loss: 0.3562 - accuracy: 0.9750\n",
      "Epoch 33/120\n",
      "120/120 [==============================] - 0s 125us/sample - loss: 0.3445 - accuracy: 0.9750\n",
      "Epoch 34/120\n",
      "120/120 [==============================] - 0s 116us/sample - loss: 0.3338 - accuracy: 0.9667\n",
      "Epoch 35/120\n",
      "120/120 [==============================] - 0s 141us/sample - loss: 0.3243 - accuracy: 0.9500\n",
      "Epoch 36/120\n",
      "120/120 [==============================] - 0s 118us/sample - loss: 0.3131 - accuracy: 0.9500\n",
      "Epoch 37/120\n",
      "120/120 [==============================] - 0s 133us/sample - loss: 0.3053 - accuracy: 0.9667\n",
      "Epoch 38/120\n",
      "120/120 [==============================] - 0s 133us/sample - loss: 0.2942 - accuracy: 0.9583\n",
      "Epoch 39/120\n",
      "120/120 [==============================] - 0s 141us/sample - loss: 0.2859 - accuracy: 0.9583\n",
      "Epoch 40/120\n",
      "120/120 [==============================] - 0s 141us/sample - loss: 0.2733 - accuracy: 0.9583\n",
      "Epoch 41/120\n",
      "120/120 [==============================] - 0s 116us/sample - loss: 0.2624 - accuracy: 0.9667\n",
      "Epoch 42/120\n",
      "120/120 [==============================] - 0s 125us/sample - loss: 0.2524 - accuracy: 0.9750\n",
      "Epoch 43/120\n",
      "120/120 [==============================] - 0s 133us/sample - loss: 0.2457 - accuracy: 0.9583\n",
      "Epoch 44/120\n",
      "120/120 [==============================] - 0s 125us/sample - loss: 0.2348 - accuracy: 0.9667\n",
      "Epoch 45/120\n",
      "120/120 [==============================] - 0s 116us/sample - loss: 0.2269 - accuracy: 0.9667\n",
      "Epoch 46/120\n",
      "120/120 [==============================] - 0s 141us/sample - loss: 0.2204 - accuracy: 0.9667\n",
      "Epoch 47/120\n",
      "120/120 [==============================] - 0s 158us/sample - loss: 0.2099 - accuracy: 0.9667\n",
      "Epoch 48/120\n",
      "120/120 [==============================] - 0s 141us/sample - loss: 0.2031 - accuracy: 0.9667\n",
      "Epoch 49/120\n",
      "120/120 [==============================] - 0s 125us/sample - loss: 0.1949 - accuracy: 0.9667\n",
      "Epoch 50/120\n",
      "120/120 [==============================] - 0s 175us/sample - loss: 0.1893 - accuracy: 0.9667\n",
      "Epoch 51/120\n",
      "120/120 [==============================] - 0s 241us/sample - loss: 0.1828 - accuracy: 0.9667\n",
      "Epoch 52/120\n",
      "120/120 [==============================] - 0s 206us/sample - loss: 0.1762 - accuracy: 0.9667\n",
      "Epoch 53/120\n",
      "120/120 [==============================] - 0s 199us/sample - loss: 0.1716 - accuracy: 0.9667\n",
      "Epoch 54/120\n",
      "120/120 [==============================] - 0s 191us/sample - loss: 0.1654 - accuracy: 0.9667\n",
      "Epoch 55/120\n",
      "120/120 [==============================] - 0s 183us/sample - loss: 0.1601 - accuracy: 0.9667\n",
      "Epoch 56/120\n",
      "120/120 [==============================] - 0s 166us/sample - loss: 0.1547 - accuracy: 0.9750\n",
      "Epoch 57/120\n",
      "120/120 [==============================] - 0s 183us/sample - loss: 0.1505 - accuracy: 0.9667\n",
      "Epoch 58/120\n",
      "120/120 [==============================] - 0s 108us/sample - loss: 0.1477 - accuracy: 0.9667\n",
      "Epoch 59/120\n",
      "120/120 [==============================] - 0s 191us/sample - loss: 0.1413 - accuracy: 0.9667\n",
      "Epoch 60/120\n",
      "120/120 [==============================] - 0s 166us/sample - loss: 0.1370 - accuracy: 0.9750\n",
      "Epoch 61/120\n",
      "120/120 [==============================] - 0s 133us/sample - loss: 0.1350 - accuracy: 0.9667\n",
      "Epoch 62/120\n",
      "120/120 [==============================] - 0s 166us/sample - loss: 0.1311 - accuracy: 0.9750\n",
      "Epoch 63/120\n",
      "120/120 [==============================] - 0s 166us/sample - loss: 0.1280 - accuracy: 0.9750\n",
      "Epoch 64/120\n",
      "120/120 [==============================] - 0s 125us/sample - loss: 0.1264 - accuracy: 0.9583\n",
      "Epoch 65/120\n",
      "120/120 [==============================] - 0s 100us/sample - loss: 0.1251 - accuracy: 0.9833\n",
      "Epoch 66/120\n",
      "120/120 [==============================] - 0s 183us/sample - loss: 0.1207 - accuracy: 0.9667\n",
      "Epoch 67/120\n",
      "120/120 [==============================] - 0s 125us/sample - loss: 0.1156 - accuracy: 0.9667\n",
      "Epoch 68/120\n",
      "120/120 [==============================] - 0s 133us/sample - loss: 0.1133 - accuracy: 0.9667\n",
      "Epoch 69/120\n",
      "120/120 [==============================] - 0s 116us/sample - loss: 0.1122 - accuracy: 0.9667\n",
      "Epoch 70/120\n",
      "120/120 [==============================] - 0s 108us/sample - loss: 0.1087 - accuracy: 0.9667\n",
      "Epoch 71/120\n",
      "120/120 [==============================] - 0s 116us/sample - loss: 0.1062 - accuracy: 0.9750\n",
      "Epoch 72/120\n",
      "120/120 [==============================] - 0s 108us/sample - loss: 0.1046 - accuracy: 0.9667\n",
      "Epoch 73/120\n",
      "120/120 [==============================] - 0s 175us/sample - loss: 0.1037 - accuracy: 0.9750\n",
      "Epoch 74/120\n",
      "120/120 [==============================] - 0s 158us/sample - loss: 0.1029 - accuracy: 0.9667\n",
      "Epoch 75/120\n",
      "120/120 [==============================] - 0s 133us/sample - loss: 0.0992 - accuracy: 0.9667\n",
      "Epoch 76/120\n",
      "120/120 [==============================] - 0s 266us/sample - loss: 0.0975 - accuracy: 0.9667\n",
      "Epoch 77/120\n",
      "120/120 [==============================] - 0s 191us/sample - loss: 0.0978 - accuracy: 0.9667\n",
      "Epoch 78/120\n"
     ]
    },
    {
     "name": "stdout",
     "output_type": "stream",
     "text": [
      "120/120 [==============================] - 0s 141us/sample - loss: 0.0960 - accuracy: 0.9750\n",
      "Epoch 79/120\n",
      "120/120 [==============================] - 0s 116us/sample - loss: 0.0941 - accuracy: 0.9750\n",
      "Epoch 80/120\n",
      "120/120 [==============================] - 0s 116us/sample - loss: 0.0919 - accuracy: 0.9750\n",
      "Epoch 81/120\n",
      "120/120 [==============================] - 0s 125us/sample - loss: 0.0903 - accuracy: 0.9667\n",
      "Epoch 82/120\n",
      "120/120 [==============================] - 0s 133us/sample - loss: 0.0902 - accuracy: 0.9750\n",
      "Epoch 83/120\n",
      "120/120 [==============================] - 0s 125us/sample - loss: 0.0907 - accuracy: 0.9667\n",
      "Epoch 84/120\n",
      "120/120 [==============================] - 0s 116us/sample - loss: 0.0868 - accuracy: 0.9750\n",
      "Epoch 85/120\n",
      "120/120 [==============================] - 0s 175us/sample - loss: 0.0860 - accuracy: 0.9667\n",
      "Epoch 86/120\n",
      "120/120 [==============================] - 0s 158us/sample - loss: 0.0853 - accuracy: 0.9667\n",
      "Epoch 87/120\n",
      "120/120 [==============================] - 0s 133us/sample - loss: 0.0852 - accuracy: 0.9667\n",
      "Epoch 88/120\n",
      "120/120 [==============================] - 0s 241us/sample - loss: 0.0858 - accuracy: 0.9750\n",
      "Epoch 89/120\n",
      "120/120 [==============================] - 0s 158us/sample - loss: 0.0826 - accuracy: 0.9750\n",
      "Epoch 90/120\n",
      "120/120 [==============================] - 0s 133us/sample - loss: 0.0811 - accuracy: 0.9750\n",
      "Epoch 91/120\n",
      "120/120 [==============================] - 0s 175us/sample - loss: 0.0803 - accuracy: 0.9750\n",
      "Epoch 92/120\n",
      "120/120 [==============================] - 0s 150us/sample - loss: 0.0837 - accuracy: 0.9667\n",
      "Epoch 93/120\n",
      "120/120 [==============================] - 0s 150us/sample - loss: 0.0792 - accuracy: 0.9750\n",
      "Epoch 94/120\n",
      "120/120 [==============================] - 0s 183us/sample - loss: 0.0781 - accuracy: 0.9667\n",
      "Epoch 95/120\n",
      "120/120 [==============================] - 0s 183us/sample - loss: 0.0797 - accuracy: 0.9667\n",
      "Epoch 96/120\n",
      "120/120 [==============================] - 0s 91us/sample - loss: 0.0801 - accuracy: 0.9667\n",
      "Epoch 97/120\n",
      "120/120 [==============================] - 0s 308us/sample - loss: 0.0772 - accuracy: 0.9750\n",
      "Epoch 98/120\n",
      "120/120 [==============================] - 0s 158us/sample - loss: 0.0757 - accuracy: 0.9667\n",
      "Epoch 99/120\n",
      "120/120 [==============================] - 0s 191us/sample - loss: 0.0746 - accuracy: 0.9667\n",
      "Epoch 100/120\n",
      "120/120 [==============================] - 0s 199us/sample - loss: 0.0745 - accuracy: 0.9667\n",
      "Epoch 101/120\n",
      "120/120 [==============================] - 0s 150us/sample - loss: 0.0738 - accuracy: 0.9750\n",
      "Epoch 102/120\n",
      "120/120 [==============================] - 0s 183us/sample - loss: 0.0735 - accuracy: 0.9750\n",
      "Epoch 103/120\n",
      "120/120 [==============================] - 0s 191us/sample - loss: 0.0741 - accuracy: 0.9667\n",
      "Epoch 104/120\n",
      "120/120 [==============================] - 0s 249us/sample - loss: 0.0724 - accuracy: 0.9667\n",
      "Epoch 105/120\n",
      "120/120 [==============================] - 0s 141us/sample - loss: 0.0716 - accuracy: 0.9667\n",
      "Epoch 106/120\n",
      "120/120 [==============================] - 0s 224us/sample - loss: 0.0717 - accuracy: 0.9667\n",
      "Epoch 107/120\n",
      "120/120 [==============================] - 0s 216us/sample - loss: 0.0704 - accuracy: 0.9750\n",
      "Epoch 108/120\n",
      "120/120 [==============================] - 0s 216us/sample - loss: 0.0706 - accuracy: 0.9750\n",
      "Epoch 109/120\n",
      "120/120 [==============================] - 0s 108us/sample - loss: 0.0705 - accuracy: 0.9750\n",
      "Epoch 110/120\n",
      "120/120 [==============================] - 0s 191us/sample - loss: 0.0704 - accuracy: 0.9750\n",
      "Epoch 111/120\n",
      "120/120 [==============================] - 0s 211us/sample - loss: 0.0692 - accuracy: 0.9750\n",
      "Epoch 112/120\n",
      "120/120 [==============================] - 0s 125us/sample - loss: 0.0686 - accuracy: 0.9750\n",
      "Epoch 113/120\n",
      "120/120 [==============================] - 0s 116us/sample - loss: 0.0690 - accuracy: 0.9667\n",
      "Epoch 114/120\n",
      "120/120 [==============================] - 0s 241us/sample - loss: 0.0679 - accuracy: 0.9667\n",
      "Epoch 115/120\n",
      "120/120 [==============================] - 0s 100us/sample - loss: 0.0685 - accuracy: 0.9750\n",
      "Epoch 116/120\n",
      "120/120 [==============================] - 0s 150us/sample - loss: 0.0744 - accuracy: 0.9667\n",
      "Epoch 117/120\n",
      "120/120 [==============================] - 0s 150us/sample - loss: 0.0676 - accuracy: 0.9750\n",
      "Epoch 118/120\n",
      "120/120 [==============================] - 0s 183us/sample - loss: 0.0702 - accuracy: 0.9667\n",
      "Epoch 119/120\n",
      "120/120 [==============================] - 0s 175us/sample - loss: 0.0692 - accuracy: 0.9667\n",
      "Epoch 120/120\n",
      "120/120 [==============================] - 0s 100us/sample - loss: 0.0664 - accuracy: 0.9750\n"
     ]
    },
    {
     "data": {
      "text/plain": [
       "<tensorflow.python.keras.callbacks.History at 0x24f4e116088>"
      ]
     },
     "execution_count": 21,
     "metadata": {},
     "output_type": "execute_result"
    }
   ],
   "source": [
    "model.fit(X_train, y_train, epochs=120)"
   ]
  },
  {
   "cell_type": "code",
   "execution_count": 22,
   "metadata": {
    "colab": {
     "base_uri": "https://localhost:8080/"
    },
    "executionInfo": {
     "elapsed": 299,
     "status": "ok",
     "timestamp": 1632144022961,
     "user": {
      "displayName": "Ahmad Habib",
      "photoUrl": "https://lh3.googleusercontent.com/a-/AOh14GhO4o_fO723EBzG9aZH_2E2uBHOgS6-H2XcOb3hrQ=s64",
      "userId": "07615486812975318675"
     },
     "user_tz": -420
    },
    "id": "nw8dl6qKUZBI",
    "outputId": "3c24fce6-9f56-4798-ac85-bc8044c0c81e"
   },
   "outputs": [
    {
     "name": "stdout",
     "output_type": "stream",
     "text": [
      "\r",
      "30/30 [==============================] - 0s 5ms/sample - loss: 0.0735 - accuracy: 0.9667\n"
     ]
    },
    {
     "data": {
      "text/plain": [
       "[0.07347183674573898, 0.96666664]"
      ]
     },
     "execution_count": 22,
     "metadata": {},
     "output_type": "execute_result"
    }
   ],
   "source": [
    "model.evaluate(X_test, y_test)"
   ]
  },
  {
   "cell_type": "code",
   "execution_count": 23,
   "metadata": {
    "colab": {
     "base_uri": "https://localhost:8080/",
     "height": 300
    },
    "executionInfo": {
     "elapsed": 655,
     "status": "ok",
     "timestamp": 1632144043638,
     "user": {
      "displayName": "Ahmad Habib",
      "photoUrl": "https://lh3.googleusercontent.com/a-/AOh14GhO4o_fO723EBzG9aZH_2E2uBHOgS6-H2XcOb3hrQ=s64",
      "userId": "07615486812975318675"
     },
     "user_tz": -420
    },
    "id": "wT5HfCpyXVow",
    "outputId": "ee0941ca-9724-4db4-9dc5-b3a6fec21467"
   },
   "outputs": [
    {
     "data": {
      "text/html": [
       "<div>\n",
       "<style scoped>\n",
       "    .dataframe tbody tr th:only-of-type {\n",
       "        vertical-align: middle;\n",
       "    }\n",
       "\n",
       "    .dataframe tbody tr th {\n",
       "        vertical-align: top;\n",
       "    }\n",
       "\n",
       "    .dataframe thead th {\n",
       "        text-align: right;\n",
       "    }\n",
       "</style>\n",
       "<table border=\"1\" class=\"dataframe\">\n",
       "  <thead>\n",
       "    <tr style=\"text-align: right;\">\n",
       "      <th></th>\n",
       "      <th>SepalLengthCm</th>\n",
       "      <th>SepalWidthCm</th>\n",
       "      <th>PetalLengthCm</th>\n",
       "      <th>PetalWidthCm</th>\n",
       "    </tr>\n",
       "  </thead>\n",
       "  <tbody>\n",
       "    <tr>\n",
       "      <th>count</th>\n",
       "      <td>150.000000</td>\n",
       "      <td>150.000000</td>\n",
       "      <td>150.000000</td>\n",
       "      <td>150.000000</td>\n",
       "    </tr>\n",
       "    <tr>\n",
       "      <th>mean</th>\n",
       "      <td>5.843333</td>\n",
       "      <td>3.054000</td>\n",
       "      <td>3.758667</td>\n",
       "      <td>1.198667</td>\n",
       "    </tr>\n",
       "    <tr>\n",
       "      <th>std</th>\n",
       "      <td>0.828066</td>\n",
       "      <td>0.433594</td>\n",
       "      <td>1.764420</td>\n",
       "      <td>0.763161</td>\n",
       "    </tr>\n",
       "    <tr>\n",
       "      <th>min</th>\n",
       "      <td>4.300000</td>\n",
       "      <td>2.000000</td>\n",
       "      <td>1.000000</td>\n",
       "      <td>0.100000</td>\n",
       "    </tr>\n",
       "    <tr>\n",
       "      <th>25%</th>\n",
       "      <td>5.100000</td>\n",
       "      <td>2.800000</td>\n",
       "      <td>1.600000</td>\n",
       "      <td>0.300000</td>\n",
       "    </tr>\n",
       "    <tr>\n",
       "      <th>50%</th>\n",
       "      <td>5.800000</td>\n",
       "      <td>3.000000</td>\n",
       "      <td>4.350000</td>\n",
       "      <td>1.300000</td>\n",
       "    </tr>\n",
       "    <tr>\n",
       "      <th>75%</th>\n",
       "      <td>6.400000</td>\n",
       "      <td>3.300000</td>\n",
       "      <td>5.100000</td>\n",
       "      <td>1.800000</td>\n",
       "    </tr>\n",
       "    <tr>\n",
       "      <th>max</th>\n",
       "      <td>7.900000</td>\n",
       "      <td>4.400000</td>\n",
       "      <td>6.900000</td>\n",
       "      <td>2.500000</td>\n",
       "    </tr>\n",
       "  </tbody>\n",
       "</table>\n",
       "</div>"
      ],
      "text/plain": [
       "       SepalLengthCm  SepalWidthCm  PetalLengthCm  PetalWidthCm\n",
       "count     150.000000    150.000000     150.000000    150.000000\n",
       "mean        5.843333      3.054000       3.758667      1.198667\n",
       "std         0.828066      0.433594       1.764420      0.763161\n",
       "min         4.300000      2.000000       1.000000      0.100000\n",
       "25%         5.100000      2.800000       1.600000      0.300000\n",
       "50%         5.800000      3.000000       4.350000      1.300000\n",
       "75%         6.400000      3.300000       5.100000      1.800000\n",
       "max         7.900000      4.400000       6.900000      2.500000"
      ]
     },
     "execution_count": 23,
     "metadata": {},
     "output_type": "execute_result"
    }
   ],
   "source": [
    "df.describe()"
   ]
  },
  {
   "cell_type": "code",
   "execution_count": 24,
   "metadata": {
    "colab": {
     "base_uri": "https://localhost:8080/",
     "height": 143
    },
    "executionInfo": {
     "elapsed": 388,
     "status": "ok",
     "timestamp": 1632144072894,
     "user": {
      "displayName": "Ahmad Habib",
      "photoUrl": "https://lh3.googleusercontent.com/a-/AOh14GhO4o_fO723EBzG9aZH_2E2uBHOgS6-H2XcOb3hrQ=s64",
      "userId": "07615486812975318675"
     },
     "user_tz": -420
    },
    "id": "02MPo2YfXg1B",
    "outputId": "b43caeaa-2325-42cd-9c47-c049ea5f0fd0"
   },
   "outputs": [
    {
     "data": {
      "text/html": [
       "<div>\n",
       "<style scoped>\n",
       "    .dataframe tbody tr th:only-of-type {\n",
       "        vertical-align: middle;\n",
       "    }\n",
       "\n",
       "    .dataframe tbody tr th {\n",
       "        vertical-align: top;\n",
       "    }\n",
       "\n",
       "    .dataframe thead th {\n",
       "        text-align: right;\n",
       "    }\n",
       "</style>\n",
       "<table border=\"1\" class=\"dataframe\">\n",
       "  <thead>\n",
       "    <tr style=\"text-align: right;\">\n",
       "      <th></th>\n",
       "      <th>SepalLengthCm</th>\n",
       "      <th>SepalWidthCm</th>\n",
       "      <th>PetalLengthCm</th>\n",
       "      <th>PetalWidthCm</th>\n",
       "      <th>Species</th>\n",
       "    </tr>\n",
       "    <tr>\n",
       "      <th>Id</th>\n",
       "      <th></th>\n",
       "      <th></th>\n",
       "      <th></th>\n",
       "      <th></th>\n",
       "      <th></th>\n",
       "    </tr>\n",
       "  </thead>\n",
       "  <tbody>\n",
       "    <tr>\n",
       "      <th>1</th>\n",
       "      <td>5.1</td>\n",
       "      <td>3.5</td>\n",
       "      <td>1.4</td>\n",
       "      <td>0.2</td>\n",
       "      <td>Iris-setosa</td>\n",
       "    </tr>\n",
       "    <tr>\n",
       "      <th>2</th>\n",
       "      <td>4.9</td>\n",
       "      <td>3.0</td>\n",
       "      <td>1.4</td>\n",
       "      <td>0.2</td>\n",
       "      <td>Iris-setosa</td>\n",
       "    </tr>\n",
       "  </tbody>\n",
       "</table>\n",
       "</div>"
      ],
      "text/plain": [
       "    SepalLengthCm  SepalWidthCm  PetalLengthCm  PetalWidthCm      Species\n",
       "Id                                                                       \n",
       "1             5.1           3.5            1.4           0.2  Iris-setosa\n",
       "2             4.9           3.0            1.4           0.2  Iris-setosa"
      ]
     },
     "execution_count": 24,
     "metadata": {},
     "output_type": "execute_result"
    }
   ],
   "source": [
    "df.head(2)"
   ]
  },
  {
   "cell_type": "code",
   "execution_count": 25,
   "metadata": {
    "executionInfo": {
     "elapsed": 426,
     "status": "ok",
     "timestamp": 1632144168166,
     "user": {
      "displayName": "Ahmad Habib",
      "photoUrl": "https://lh3.googleusercontent.com/a-/AOh14GhO4o_fO723EBzG9aZH_2E2uBHOgS6-H2XcOb3hrQ=s64",
      "userId": "07615486812975318675"
     },
     "user_tz": -420
    },
    "id": "K2GW2n1tXqk3"
   },
   "outputs": [],
   "source": [
    "x_val = np.array([[4, 2, 4, 1]])"
   ]
  },
  {
   "cell_type": "code",
   "execution_count": 26,
   "metadata": {
    "colab": {
     "base_uri": "https://localhost:8080/"
    },
    "executionInfo": {
     "elapsed": 9,
     "status": "ok",
     "timestamp": 1632144168497,
     "user": {
      "displayName": "Ahmad Habib",
      "photoUrl": "https://lh3.googleusercontent.com/a-/AOh14GhO4o_fO723EBzG9aZH_2E2uBHOgS6-H2XcOb3hrQ=s64",
      "userId": "07615486812975318675"
     },
     "user_tz": -420
    },
    "id": "hGsRlqA9Xt3V",
    "outputId": "399616eb-84b7-4860-ce51-e983d935b6f4"
   },
   "outputs": [
    {
     "data": {
      "text/plain": [
       "(1, 4)"
      ]
     },
     "execution_count": 26,
     "metadata": {},
     "output_type": "execute_result"
    }
   ],
   "source": [
    "x_val.shape"
   ]
  },
  {
   "cell_type": "code",
   "execution_count": 30,
   "metadata": {
    "executionInfo": {
     "elapsed": 364,
     "status": "ok",
     "timestamp": 1632144188883,
     "user": {
      "displayName": "Ahmad Habib",
      "photoUrl": "https://lh3.googleusercontent.com/a-/AOh14GhO4o_fO723EBzG9aZH_2E2uBHOgS6-H2XcOb3hrQ=s64",
      "userId": "07615486812975318675"
     },
     "user_tz": -420
    },
    "id": "WINvbwa3XsFY"
   },
   "outputs": [
    {
     "data": {
      "text/plain": [
       "array([[-1.29065744, -0.83333333, -0.08310249,  0.11458333]])"
      ]
     },
     "execution_count": 30,
     "metadata": {},
     "output_type": "execute_result"
    }
   ],
   "source": [
    "x_val = minmax.transform(x_val)\n",
    "x_val"
   ]
  },
  {
   "cell_type": "code",
   "execution_count": 31,
   "metadata": {
    "executionInfo": {
     "elapsed": 457,
     "status": "ok",
     "timestamp": 1632144203490,
     "user": {
      "displayName": "Ahmad Habib",
      "photoUrl": "https://lh3.googleusercontent.com/a-/AOh14GhO4o_fO723EBzG9aZH_2E2uBHOgS6-H2XcOb3hrQ=s64",
      "userId": "07615486812975318675"
     },
     "user_tz": -420
    },
    "id": "W370jHadXYDH"
   },
   "outputs": [
    {
     "data": {
      "text/plain": [
       "array([[0.6727908 , 0.3196668 , 0.00754238]], dtype=float32)"
      ]
     },
     "execution_count": 31,
     "metadata": {},
     "output_type": "execute_result"
    }
   ],
   "source": [
    "y_val = model.predict(x_val)\n",
    "y_val"
   ]
  },
  {
   "cell_type": "code",
   "execution_count": 32,
   "metadata": {
    "colab": {
     "base_uri": "https://localhost:8080/"
    },
    "executionInfo": {
     "elapsed": 445,
     "status": "ok",
     "timestamp": 1632144213829,
     "user": {
      "displayName": "Ahmad Habib",
      "photoUrl": "https://lh3.googleusercontent.com/a-/AOh14GhO4o_fO723EBzG9aZH_2E2uBHOgS6-H2XcOb3hrQ=s64",
      "userId": "07615486812975318675"
     },
     "user_tz": -420
    },
    "id": "A7mtfQJUYBrw",
    "outputId": "f2c0843d-0c6b-4c1d-f3d7-269c25c25165"
   },
   "outputs": [
    {
     "data": {
      "text/plain": [
       "0"
      ]
     },
     "execution_count": 32,
     "metadata": {},
     "output_type": "execute_result"
    }
   ],
   "source": [
    "pred = np.argmax(y_val)\n",
    "pred"
   ]
  },
  {
   "cell_type": "markdown",
   "metadata": {
    "id": "uQtekiWIXod9"
   },
   "source": [
    "`Artinya termasuk kelas iris-sentosa`"
   ]
  },
  {
   "cell_type": "code",
   "execution_count": null,
   "metadata": {},
   "outputs": [],
   "source": []
  }
 ],
 "metadata": {
  "colab": {
   "authorship_tag": "ABX9TyNh3FZjZzrpzRzHQnRIol3B",
   "mount_file_id": "18amK3QV3Z1T6ZCnIPVJsApwQt8NXyyWH",
   "name": "Iris Clf.ipynb",
   "provenance": []
  },
  "kernelspec": {
   "display_name": "Python [conda env:my_env]",
   "language": "python",
   "name": "conda-env-my_env-py"
  },
  "language_info": {
   "codemirror_mode": {
    "name": "ipython",
    "version": 3
   },
   "file_extension": ".py",
   "mimetype": "text/x-python",
   "name": "python",
   "nbconvert_exporter": "python",
   "pygments_lexer": "ipython3",
   "version": "3.7.6"
  },
  "varInspector": {
   "cols": {
    "lenName": 16,
    "lenType": 16,
    "lenVar": 40
   },
   "kernels_config": {
    "python": {
     "delete_cmd_postfix": "",
     "delete_cmd_prefix": "del ",
     "library": "var_list.py",
     "varRefreshCmd": "print(var_dic_list())"
    },
    "r": {
     "delete_cmd_postfix": ") ",
     "delete_cmd_prefix": "rm(",
     "library": "var_list.r",
     "varRefreshCmd": "cat(var_dic_list()) "
    }
   },
   "types_to_exclude": [
    "module",
    "function",
    "builtin_function_or_method",
    "instance",
    "_Feature"
   ],
   "window_display": false
  }
 },
 "nbformat": 4,
 "nbformat_minor": 1
}
